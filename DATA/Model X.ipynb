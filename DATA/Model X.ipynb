{
 "cells": [
  {
   "cell_type": "code",
   "execution_count": 1,
   "metadata": {},
   "outputs": [],
   "source": [
    "import pandas as pd"
   ]
  },
  {
   "cell_type": "code",
   "execution_count": 42,
   "metadata": {},
   "outputs": [],
   "source": [
    "model = pd.read_csv(\"model_X.csv\", engine=\"python\")"
   ]
  },
  {
   "cell_type": "code",
   "execution_count": 43,
   "metadata": {},
   "outputs": [],
   "source": [
    "tree = pd.read_csv(\"tree_name.csv\",engine='python')"
   ]
  },
  {
   "cell_type": "code",
   "execution_count": 47,
   "metadata": {},
   "outputs": [],
   "source": [
    "# 건물 값과 수목명 숫자로 바꾸기\n",
    "a ={}\n",
    "\n",
    "a.update({\"건물\": -0.3})\n",
    "\n",
    "for x in tree[\"수목명\"]:\n",
    "    a.update({x : 1})\n",
    "\n",
    "for x in model.columns:\n",
    "    model[x]=model[x].map(a)\n",
    "\n",
    "model.fillna(0, inplace=True)   # 빈값 0으로 바꾸기"
   ]
  },
  {
   "cell_type": "code",
   "execution_count": 48,
   "metadata": {},
   "outputs": [],
   "source": [
    "# 건물만 있는거 없애기.\n",
    "c = 0\n",
    "for x in model.T.sum():\n",
    "    if x < 0:\n",
    "        model.drop(c, inplace = True)\n",
    "    c += 1"
   ]
  },
  {
   "cell_type": "code",
   "execution_count": 51,
   "metadata": {
    "scrolled": true
   },
   "outputs": [],
   "source": [
    "#상관게수 분석\n",
    "model_corr = model.T.corr()"
   ]
  },
  {
   "cell_type": "code",
   "execution_count": 85,
   "metadata": {},
   "outputs": [],
   "source": [
    "def recommendation_user(i, k, n=1):\n",
    "    c = 0 \n",
    "    for x in model_corr.loc[i].sort_values(ascending=False):\n",
    "        if  x == 1 :\n",
    "            c += 1\n",
    "            continue\n",
    "\n",
    "        else:\n",
    "            \n",
    "            break\n",
    "\n",
    "    d = []\n",
    "    [d.append(x) for x in model_corr.loc[i].sort_values(ascending=False)[c:c+k].index]\n",
    "    recommendation_model = 0\n",
    "    for x in d:\n",
    "         \n",
    "        recommendation_model += model.loc[x]\n",
    "    \n",
    "    \n",
    "    for x in model.loc[i].to_numpy().nonzero():\n",
    "        for t in x:\n",
    "            recommendation_model.drop(\"{0}\".format(t), inplace = True)\n",
    "            \n",
    "    recommendation_result = recommendation_model.sort_values(ascending = False)\n",
    "    if recommendation_result.mean() > 0:\n",
    "        plus = list(recommendation_result[recommendation_result > recommendation_result.mean()].index)\n",
    "        minus = list(recommendation_result[recommendation_result < 0].index)\n",
    "        \n",
    "    elif recommendation_result.mean() < 0:\n",
    "        plus = list(recommendation_result[recommendation_result > 0].index)\n",
    "        minus = list(recommendation_result[recommendation_result < recommendation_result.mean()].index)\n",
    "            \n",
    "    else :\n",
    "        plus = list(recommendation_result[recommendation_result > 0].index)\n",
    "        minus = list(recommendation_result[recommendation_result < 0].index)\n",
    "\n",
    "    return plus[:n], minus[:n]"
   ]
  },
  {
   "cell_type": "code",
   "execution_count": 89,
   "metadata": {},
   "outputs": [
    {
     "name": "stdout",
     "output_type": "stream",
     "text": [
      "100\n",
      "19\n",
      "101\n",
      "18\n",
      "102\n",
      "18\n",
      "103\n",
      "18\n",
      "104\n",
      "18\n",
      "105\n",
      "17\n",
      "106\n",
      "17\n",
      "107\n",
      "14\n",
      "108\n",
      "14\n",
      "109\n",
      "14\n",
      "110\n",
      "14\n",
      "111\n",
      "13\n",
      "112\n",
      "11\n",
      "113\n",
      "11\n",
      "114\n",
      "11\n",
      "115\n",
      "8\n",
      "116\n",
      "8\n",
      "117\n",
      "8\n",
      "118\n",
      "8\n",
      "119\n",
      "8\n",
      "120\n",
      "8\n",
      "121\n",
      "6\n",
      "122\n",
      "6\n",
      "123\n",
      "6\n",
      "124\n",
      "6\n",
      "125\n",
      "6\n",
      "126\n",
      "6\n",
      "127\n",
      "6\n",
      "128\n",
      "6\n",
      "129\n",
      "6\n",
      "130\n",
      "6\n",
      "131\n",
      "6\n",
      "132\n",
      "6\n",
      "133\n",
      "6\n",
      "134\n",
      "6\n",
      "135\n",
      "6\n",
      "136\n",
      "6\n",
      "137\n",
      "5\n",
      "138\n",
      "4\n",
      "139\n",
      "4\n",
      "140\n",
      "4\n",
      "141\n",
      "4\n",
      "142\n",
      "3\n",
      "143\n",
      "2\n",
      "144\n",
      "2\n",
      "145\n",
      "2\n",
      "146\n",
      "2\n",
      "147\n",
      "2\n",
      "148\n",
      "2\n",
      "149\n",
      "2\n",
      "150\n",
      "2\n",
      "151\n",
      "2\n",
      "152\n",
      "2\n",
      "153\n",
      "2\n",
      "154\n",
      "2\n",
      "155\n",
      "2\n",
      "156\n",
      "2\n",
      "157\n",
      "2\n",
      "158\n",
      "2\n",
      "159\n",
      "2\n",
      "160\n",
      "2\n",
      "161\n",
      "2\n",
      "162\n",
      "1\n",
      "163\n",
      "1\n",
      "164\n",
      "1\n",
      "165\n",
      "0\n"
     ]
    }
   ],
   "source": [
    "# 0값이 없기 위한 최소의 값 구하기\n",
    "for j in range(100,201):\n",
    "    not_recommend = list()\n",
    "    for i in range(len(model)+5):\n",
    "        try:\n",
    "            if recommendation_user(i,j)[0] == []:\n",
    "                not_recommend.append(i)\n",
    "\n",
    "        except:\n",
    "            pass\n",
    "    print(j)\n",
    "    print(len(not_recommend))\n",
    "    if not_recommend == []:\n",
    "        break\n",
    "        \n",
    "    "
   ]
  },
  {
   "cell_type": "code",
   "execution_count": 86,
   "metadata": {},
   "outputs": [],
   "source": [
    "# 각 섹터마다의 최상의 구역 뽑기.\n",
    "sector = pd.DataFrame(columns=['sector'])"
   ]
  },
  {
   "cell_type": "code",
   "execution_count": 103,
   "metadata": {},
   "outputs": [],
   "source": [
    "for x in model.index:\n",
    "    try:\n",
    "        sector.loc[x] = int(recommendation_user(i,165)[0][0])\n",
    "    except:\n",
    "        print(i)\n",
    "        pass"
   ]
  },
  {
   "cell_type": "code",
   "execution_count": 99,
   "metadata": {},
   "outputs": [
    {
     "data": {
      "text/plain": [
       "Int64Index([    0,     2,     3,     4,     7,     8,     9,    10,    11,\n",
       "               13,\n",
       "            ...\n",
       "            24095, 24096, 24097, 24098, 24099, 24100, 24101, 24102, 24103,\n",
       "            24104],\n",
       "           dtype='int64', length=11455)"
      ]
     },
     "execution_count": 99,
     "metadata": {},
     "output_type": "execute_result"
    }
   ],
   "source": [
    "model.index"
   ]
  },
  {
   "cell_type": "code",
   "execution_count": 96,
   "metadata": {},
   "outputs": [
    {
     "data": {
      "text/plain": [
       "5040"
      ]
     },
     "execution_count": 96,
     "metadata": {},
     "output_type": "execute_result"
    }
   ],
   "source": [
    "len(sector)"
   ]
  }
 ],
 "metadata": {
  "kernelspec": {
   "display_name": "Python 3",
   "language": "python",
   "name": "python3"
  },
  "language_info": {
   "codemirror_mode": {
    "name": "ipython",
    "version": 3
   },
   "file_extension": ".py",
   "mimetype": "text/x-python",
   "name": "python",
   "nbconvert_exporter": "python",
   "pygments_lexer": "ipython3",
   "version": "3.7.3"
  }
 },
 "nbformat": 4,
 "nbformat_minor": 2
}
