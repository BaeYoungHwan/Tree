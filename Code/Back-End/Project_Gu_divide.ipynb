{
 "cells": [
  {
   "cell_type": "code",
   "execution_count": 1,
   "metadata": {},
   "outputs": [],
   "source": [
    "import pandas as pd"
   ]
  },
  {
   "cell_type": "code",
   "execution_count": 2,
   "metadata": {},
   "outputs": [],
   "source": [
    "total_tree = pd.read_csv(\"./raw_data/total_tree.csv\", encoding=\"cp949\", engine=\"python\")"
   ]
  },
  {
   "cell_type": "markdown",
   "metadata": {},
   "source": [
    "일단 수목명 Top 20 뽑기"
   ]
  },
  {
   "cell_type": "code",
   "execution_count": 168,
   "metadata": {},
   "outputs": [],
   "source": [
    "a = total_tree[\"수목명\"].value_counts()"
   ]
  },
  {
   "cell_type": "code",
   "execution_count": 169,
   "metadata": {
    "scrolled": true
   },
   "outputs": [
    {
     "data": {
      "text/plain": [
       "은행나무       141917\n",
       "양버즘나무       80581\n",
       "            64958\n",
       "느티나무        39963\n",
       "버즘나무        21487\n",
       "메타세쿼이아      12444\n",
       "벚나무         11319\n",
       "소나무          8845\n",
       "왕벚나무         8036\n",
       "회화나무         5894\n",
       "이팝나무         2649\n",
       "중국단풍         2401\n",
       "아카시아나무       2238\n",
       "튤립나무         2234\n",
       "단풍나무         2173\n",
       "은단풍          1876\n",
       "가죽나무         1737\n",
       "버드나무         1668\n",
       "목련           1640\n",
       "칠엽수          1624\n",
       "감나무          1542\n",
       "향나무          1469\n",
       "오동나무         1259\n",
       "이태리포플러       1051\n",
       "은백양           988\n",
       "현사시나무         830\n",
       "상수리나무         814\n",
       "측백나무          685\n",
       "수양버들          506\n",
       "스트로브잣나무       478\n",
       "            ...  \n",
       "섬벚나무            2\n",
       "붉나무             1\n",
       "물박달나무           1\n",
       "고무나무            1\n",
       "명자나무            1\n",
       "갈매나무            1\n",
       "좁은단풍            1\n",
       "비목나무            1\n",
       "괴불나무            1\n",
       "거제수나무           1\n",
       "개쉬땅나무           1\n",
       "곰솔나무            1\n",
       "노간주나무           1\n",
       "능금나무            1\n",
       "복나무             1\n",
       "회나무             1\n",
       "나무수국            1\n",
       "닥나무             1\n",
       "옥향              1\n",
       "풍단              1\n",
       "눈잣나무            1\n",
       "분비나무            1\n",
       "장미              1\n",
       "수국              1\n",
       "양버들             1\n",
       "석류나무            1\n",
       "우산고로쇠           1\n",
       "쥐똥나무            1\n",
       "탱자나무            1\n",
       "무화과             1\n",
       "Name: 수목명, Length: 202, dtype: int64"
      ]
     },
     "execution_count": 169,
     "metadata": {},
     "output_type": "execute_result"
    }
   ],
   "source": [
    "a"
   ]
  },
  {
   "cell_type": "code",
   "execution_count": 186,
   "metadata": {},
   "outputs": [],
   "source": [
    "pd.DataFrame(a.index, columns=[\"수목명\"]).head(30).to_csv(\"./raw_data/Gu/Top30.csv\", index=False, encoding='ms949')"
   ]
  },
  {
   "cell_type": "markdown",
   "metadata": {},
   "source": [
    "구에서 나무를 뽑을 때 Top 없는 것들을 Unkown 처리\n",
    "- UI에 쓰일 것"
   ]
  },
  {
   "cell_type": "code",
   "execution_count": 158,
   "metadata": {},
   "outputs": [],
   "source": [
    "Gu_name = pd.DataFrame(total_tree[\"구명\"].drop_duplicates())\n",
    "for i in Gu_name.iterrows():\n",
    "    Gu_tree = pd.DataFrame(total_tree[total_tree[\"구명\"] == i[1][0]][\"수목명\"].value_counts())\n",
    "    Gu_tree.reset_index(inplace=True)\n",
    "    Gu_tree.rename({\"index\":\"수목명\",\"수목명\":\"Counts\"},axis=1, inplace=True)\n",
    "    \n",
    "    Top20 = pd.read_csv(\"./raw_data/Gu/Top20.csv\", encoding=\"cp949\", engine=\"python\")\n",
    "    Top20[\"Counts\"] = 0\n",
    "    Top20.loc[len(Top20)+1] = [\"Unknown\", 0]\n",
    "    \n",
    "    for row in Gu_tree.iterrows():\n",
    "        if row[1][0] in list(Top20[:len(Top20)-1][\"수목명\"]):\n",
    "            index = Top20[Top20[\"수목명\"] == row[1][0]].index.values.astype(int)\n",
    "            Top20.loc[index, \"Counts\"] += row[1][1]\n",
    "        else :\n",
    "            Top20.loc[21,\"Counts\"] += row[1][1]\n",
    "    \n",
    "    Top20.to_csv(\"./raw_data/Gu/{}_Top20.csv\".format(i[1][0]), index=False, encoding='ms949')"
   ]
  },
  {
   "cell_type": "markdown",
   "metadata": {},
   "source": [
    "구 별 나무 추출"
   ]
  },
  {
   "cell_type": "code",
   "execution_count": 190,
   "metadata": {
    "scrolled": true
   },
   "outputs": [
    {
     "data": {
      "text/html": [
       "<div>\n",
       "<style scoped>\n",
       "    .dataframe tbody tr th:only-of-type {\n",
       "        vertical-align: middle;\n",
       "    }\n",
       "\n",
       "    .dataframe tbody tr th {\n",
       "        vertical-align: top;\n",
       "    }\n",
       "\n",
       "    .dataframe thead th {\n",
       "        text-align: right;\n",
       "    }\n",
       "</style>\n",
       "<table border=\"1\" class=\"dataframe\">\n",
       "  <thead>\n",
       "    <tr style=\"text-align: right;\">\n",
       "      <th></th>\n",
       "      <th>구명</th>\n",
       "      <th>위도</th>\n",
       "      <th>경도</th>\n",
       "      <th>수목명</th>\n",
       "      <th>품계수종</th>\n",
       "      <th>수고</th>\n",
       "      <th>품계활력</th>\n",
       "      <th>흉고지름</th>\n",
       "      <th>수관너비</th>\n",
       "      <th>Condition</th>\n",
       "    </tr>\n",
       "  </thead>\n",
       "  <tbody>\n",
       "    <tr>\n",
       "      <th>0</th>\n",
       "      <td>강남구</td>\n",
       "      <td>37.522895</td>\n",
       "      <td>127.020205</td>\n",
       "      <td>회화나무</td>\n",
       "      <td>8.0</td>\n",
       "      <td>8.0</td>\n",
       "      <td>8</td>\n",
       "      <td>15.0</td>\n",
       "      <td>5</td>\n",
       "      <td>Fair</td>\n",
       "    </tr>\n",
       "    <tr>\n",
       "      <th>1</th>\n",
       "      <td>강남구</td>\n",
       "      <td>37.489393</td>\n",
       "      <td>127.057976</td>\n",
       "      <td>느티나무</td>\n",
       "      <td>6.0</td>\n",
       "      <td>7.0</td>\n",
       "      <td>15</td>\n",
       "      <td>29.0</td>\n",
       "      <td>8</td>\n",
       "      <td>Excellent</td>\n",
       "    </tr>\n",
       "    <tr>\n",
       "      <th>2</th>\n",
       "      <td>강남구</td>\n",
       "      <td>37.492149</td>\n",
       "      <td>127.064744</td>\n",
       "      <td>버즘나무</td>\n",
       "      <td>6.0</td>\n",
       "      <td>12.0</td>\n",
       "      <td>15</td>\n",
       "      <td>30.0</td>\n",
       "      <td>8</td>\n",
       "      <td>Excellent</td>\n",
       "    </tr>\n",
       "    <tr>\n",
       "      <th>3</th>\n",
       "      <td>강남구</td>\n",
       "      <td>37.524812</td>\n",
       "      <td>127.020405</td>\n",
       "      <td>왕벚나무</td>\n",
       "      <td>6.0</td>\n",
       "      <td>6.0</td>\n",
       "      <td>15</td>\n",
       "      <td>21.0</td>\n",
       "      <td>7</td>\n",
       "      <td>Excellent</td>\n",
       "    </tr>\n",
       "    <tr>\n",
       "      <th>4</th>\n",
       "      <td>강남구</td>\n",
       "      <td>37.478395</td>\n",
       "      <td>127.056869</td>\n",
       "      <td>메타세쿼이아</td>\n",
       "      <td>2.0</td>\n",
       "      <td>17.0</td>\n",
       "      <td>15</td>\n",
       "      <td>38.0</td>\n",
       "      <td>8</td>\n",
       "      <td>Excellent</td>\n",
       "    </tr>\n",
       "  </tbody>\n",
       "</table>\n",
       "</div>"
      ],
      "text/plain": [
       "    구명         위도          경도     수목명  품계수종    수고  품계활력  흉고지름  수관너비  Condition\n",
       "0  강남구  37.522895  127.020205    회화나무   8.0   8.0     8  15.0     5       Fair\n",
       "1  강남구  37.489393  127.057976    느티나무   6.0   7.0    15  29.0     8  Excellent\n",
       "2  강남구  37.492149  127.064744    버즘나무   6.0  12.0    15  30.0     8  Excellent\n",
       "3  강남구  37.524812  127.020405    왕벚나무   6.0   6.0    15  21.0     7  Excellent\n",
       "4  강남구  37.478395  127.056869  메타세쿼이아   2.0  17.0    15  38.0     8  Excellent"
      ]
     },
     "execution_count": 190,
     "metadata": {},
     "output_type": "execute_result"
    }
   ],
   "source": [
    "total_tree[total_tree[\"구명\"] == \"강남구\"].head()"
   ]
  },
  {
   "cell_type": "code",
   "execution_count": 189,
   "metadata": {},
   "outputs": [],
   "source": [
    "Gu_name = pd.DataFrame(total_tree[\"구명\"].drop_duplicates())\n",
    "for i in Gu_name.iterrows():\n",
    "    Gu_tree = total_tree[total_tree[\"구명\"] == i[1][0]]\n",
    "    \n",
    "    Gu_tree.to_csv(\"./raw_data/Gu/{}_Tree.csv\".format(i[1][0]), index=False, encoding='ms949')"
   ]
  },
  {
   "cell_type": "markdown",
   "metadata": {},
   "source": [
    "동 같은 경우에도 동일하게 가능"
   ]
  }
 ],
 "metadata": {
  "kernelspec": {
   "display_name": "Python 3",
   "language": "python",
   "name": "python3"
  },
  "language_info": {
   "codemirror_mode": {
    "name": "ipython",
    "version": 3
   },
   "file_extension": ".py",
   "mimetype": "text/x-python",
   "name": "python",
   "nbconvert_exporter": "python",
   "pygments_lexer": "ipython3",
   "version": "3.7.3"
  }
 },
 "nbformat": 4,
 "nbformat_minor": 2
}
