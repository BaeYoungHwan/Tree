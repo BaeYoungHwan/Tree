{
 "cells": [
  {
   "cell_type": "code",
   "execution_count": 1,
   "metadata": {},
   "outputs": [],
   "source": [
    "import sqlite3\n",
    "import pandas as pd"
   ]
  },
  {
   "cell_type": "code",
   "execution_count": 2,
   "metadata": {},
   "outputs": [],
   "source": [
    "conn = sqlite3.connect(\"location.db\")"
   ]
  },
  {
   "cell_type": "code",
   "execution_count": 3,
   "metadata": {},
   "outputs": [],
   "source": [
    "cur = conn.cursor()"
   ]
  },
  {
   "cell_type": "markdown",
   "metadata": {},
   "source": [
    "## Location DB\n",
    "- 임시로 중구 데이터만 후에 서울시 전체 건물데이터로 바꿀 것\n",
    "- 나중에 서울시 픽셀로 나눈 DB도 필요"
   ]
  },
  {
   "cell_type": "code",
   "execution_count": 13,
   "metadata": {},
   "outputs": [
    {
     "data": {
      "text/plain": [
       "<sqlite3.Cursor at 0x2c21e854ea0>"
      ]
     },
     "execution_count": 13,
     "metadata": {},
     "output_type": "execute_result"
    }
   ],
   "source": [
    "cur.execute(\"\"\"\n",
    "    CREATE TABLE Location (\n",
    "    id integer primary key autoincrement unique,\n",
    "    latitude real not null,\n",
    "    logitude real not null\n",
    "           );\"\"\")"
   ]
  },
  {
   "cell_type": "code",
   "execution_count": 22,
   "metadata": {},
   "outputs": [
    {
     "name": "stderr",
     "output_type": "stream",
     "text": [
      "C:\\Users\\user\\Anaconda3\\lib\\site-packages\\IPython\\core\\interactiveshell.py:3049: DtypeWarning: Columns (19,26,28,29,35) have mixed types. Specify dtype option on import or set low_memory=False.\n",
      "  interactivity=interactivity, compiler=compiler, result=result)\n"
     ]
    }
   ],
   "source": [
    "building = pd.read_csv(\"C:/Users/user/Desktop/Data/Building_location.csv\")"
   ]
  },
  {
   "cell_type": "code",
   "execution_count": 23,
   "metadata": {},
   "outputs": [],
   "source": [
    "Junggu_building = building[building['시군구코드']==11140]"
   ]
  },
  {
   "cell_type": "code",
   "execution_count": 24,
   "metadata": {},
   "outputs": [],
   "source": [
    "Junggu_building_location = Junggu_building[['위도','경도']]"
   ]
  },
  {
   "cell_type": "code",
   "execution_count": 18,
   "metadata": {},
   "outputs": [
    {
     "name": "stderr",
     "output_type": "stream",
     "text": [
      "C:\\Users\\user\\Anaconda3\\lib\\site-packages\\ipykernel_launcher.py:1: SettingWithCopyWarning: \n",
      "A value is trying to be set on a copy of a slice from a DataFrame.\n",
      "Try using .loc[row_indexer,col_indexer] = value instead\n",
      "\n",
      "See the caveats in the documentation: http://pandas.pydata.org/pandas-docs/stable/indexing.html#indexing-view-versus-copy\n",
      "  \"\"\"Entry point for launching an IPython kernel.\n"
     ]
    }
   ],
   "source": [
    "Junggu_building_location['위도'] = pd.to_numeric(Junggu_building_location['위도'], errors='coerce')"
   ]
  },
  {
   "cell_type": "code",
   "execution_count": 19,
   "metadata": {
    "scrolled": true
   },
   "outputs": [
    {
     "name": "stderr",
     "output_type": "stream",
     "text": [
      "C:\\Users\\user\\Anaconda3\\lib\\site-packages\\ipykernel_launcher.py:1: SettingWithCopyWarning: \n",
      "A value is trying to be set on a copy of a slice from a DataFrame.\n",
      "Try using .loc[row_indexer,col_indexer] = value instead\n",
      "\n",
      "See the caveats in the documentation: http://pandas.pydata.org/pandas-docs/stable/indexing.html#indexing-view-versus-copy\n",
      "  \"\"\"Entry point for launching an IPython kernel.\n"
     ]
    }
   ],
   "source": [
    "Junggu_building_location['경도'] = pd.to_numeric(Junggu_building_location['경도'], errors='coerce')"
   ]
  },
  {
   "cell_type": "code",
   "execution_count": 25,
   "metadata": {},
   "outputs": [
    {
     "name": "stderr",
     "output_type": "stream",
     "text": [
      "C:\\Users\\user\\Anaconda3\\lib\\site-packages\\ipykernel_launcher.py:1: SettingWithCopyWarning: \n",
      "A value is trying to be set on a copy of a slice from a DataFrame\n",
      "\n",
      "See the caveats in the documentation: http://pandas.pydata.org/pandas-docs/stable/indexing.html#indexing-view-versus-copy\n",
      "  \"\"\"Entry point for launching an IPython kernel.\n"
     ]
    }
   ],
   "source": [
    "Junggu_building_location.dropna(inplace=True)"
   ]
  },
  {
   "cell_type": "code",
   "execution_count": 30,
   "metadata": {
    "scrolled": true
   },
   "outputs": [],
   "source": [
    "Junggu_building_location.reset_index(inplace=True)"
   ]
  },
  {
   "cell_type": "code",
   "execution_count": 35,
   "metadata": {},
   "outputs": [
    {
     "name": "stderr",
     "output_type": "stream",
     "text": [
      "C:\\Users\\user\\Anaconda3\\lib\\site-packages\\pandas\\core\\frame.py:3940: SettingWithCopyWarning: \n",
      "A value is trying to be set on a copy of a slice from a DataFrame\n",
      "\n",
      "See the caveats in the documentation: http://pandas.pydata.org/pandas-docs/stable/indexing.html#indexing-view-versus-copy\n",
      "  errors=errors)\n"
     ]
    }
   ],
   "source": [
    "Junggu_building_location.drop('index', axis=1, inplace=True)"
   ]
  },
  {
   "cell_type": "code",
   "execution_count": 36,
   "metadata": {
    "scrolled": true
   },
   "outputs": [
    {
     "data": {
      "text/html": [
       "<div>\n",
       "<style scoped>\n",
       "    .dataframe tbody tr th:only-of-type {\n",
       "        vertical-align: middle;\n",
       "    }\n",
       "\n",
       "    .dataframe tbody tr th {\n",
       "        vertical-align: top;\n",
       "    }\n",
       "\n",
       "    .dataframe thead th {\n",
       "        text-align: right;\n",
       "    }\n",
       "</style>\n",
       "<table border=\"1\" class=\"dataframe\">\n",
       "  <thead>\n",
       "    <tr style=\"text-align: right;\">\n",
       "      <th></th>\n",
       "      <th>위도</th>\n",
       "      <th>경도</th>\n",
       "    </tr>\n",
       "  </thead>\n",
       "  <tbody>\n",
       "    <tr>\n",
       "      <th>0</th>\n",
       "      <td>37.559466</td>\n",
       "      <td>127.003324</td>\n",
       "    </tr>\n",
       "    <tr>\n",
       "      <th>1</th>\n",
       "      <td>37.559265</td>\n",
       "      <td>127.003647</td>\n",
       "    </tr>\n",
       "    <tr>\n",
       "      <th>2</th>\n",
       "      <td>37.558820</td>\n",
       "      <td>127.002851</td>\n",
       "    </tr>\n",
       "    <tr>\n",
       "      <th>3</th>\n",
       "      <td>37.558718</td>\n",
       "      <td>127.002981</td>\n",
       "    </tr>\n",
       "    <tr>\n",
       "      <th>4</th>\n",
       "      <td>37.559504</td>\n",
       "      <td>127.003474</td>\n",
       "    </tr>\n",
       "    <tr>\n",
       "      <th>5</th>\n",
       "      <td>37.559334</td>\n",
       "      <td>127.003278</td>\n",
       "    </tr>\n",
       "    <tr>\n",
       "      <th>6</th>\n",
       "      <td>37.556228</td>\n",
       "      <td>127.009169</td>\n",
       "    </tr>\n",
       "    <tr>\n",
       "      <th>7</th>\n",
       "      <td>37.557996</td>\n",
       "      <td>127.007685</td>\n",
       "    </tr>\n",
       "    <tr>\n",
       "      <th>8</th>\n",
       "      <td>37.557951</td>\n",
       "      <td>127.008853</td>\n",
       "    </tr>\n",
       "    <tr>\n",
       "      <th>9</th>\n",
       "      <td>37.567790</td>\n",
       "      <td>126.982321</td>\n",
       "    </tr>\n",
       "    <tr>\n",
       "      <th>10</th>\n",
       "      <td>37.567691</td>\n",
       "      <td>126.983196</td>\n",
       "    </tr>\n",
       "    <tr>\n",
       "      <th>11</th>\n",
       "      <td>37.556978</td>\n",
       "      <td>126.985205</td>\n",
       "    </tr>\n",
       "    <tr>\n",
       "      <th>12</th>\n",
       "      <td>37.564820</td>\n",
       "      <td>126.983041</td>\n",
       "    </tr>\n",
       "    <tr>\n",
       "      <th>13</th>\n",
       "      <td>37.565102</td>\n",
       "      <td>126.982941</td>\n",
       "    </tr>\n",
       "    <tr>\n",
       "      <th>14</th>\n",
       "      <td>37.563972</td>\n",
       "      <td>126.982456</td>\n",
       "    </tr>\n",
       "    <tr>\n",
       "      <th>15</th>\n",
       "      <td>37.565316</td>\n",
       "      <td>126.983043</td>\n",
       "    </tr>\n",
       "    <tr>\n",
       "      <th>16</th>\n",
       "      <td>37.565062</td>\n",
       "      <td>126.983330</td>\n",
       "    </tr>\n",
       "    <tr>\n",
       "      <th>17</th>\n",
       "      <td>37.565277</td>\n",
       "      <td>126.983391</td>\n",
       "    </tr>\n",
       "    <tr>\n",
       "      <th>18</th>\n",
       "      <td>37.567174</td>\n",
       "      <td>126.983031</td>\n",
       "    </tr>\n",
       "    <tr>\n",
       "      <th>19</th>\n",
       "      <td>37.567254</td>\n",
       "      <td>126.983033</td>\n",
       "    </tr>\n",
       "    <tr>\n",
       "      <th>20</th>\n",
       "      <td>37.567515</td>\n",
       "      <td>126.983358</td>\n",
       "    </tr>\n",
       "    <tr>\n",
       "      <th>21</th>\n",
       "      <td>37.567961</td>\n",
       "      <td>126.983137</td>\n",
       "    </tr>\n",
       "    <tr>\n",
       "      <th>22</th>\n",
       "      <td>37.561002</td>\n",
       "      <td>126.977924</td>\n",
       "    </tr>\n",
       "    <tr>\n",
       "      <th>23</th>\n",
       "      <td>37.563579</td>\n",
       "      <td>126.982104</td>\n",
       "    </tr>\n",
       "    <tr>\n",
       "      <th>24</th>\n",
       "      <td>37.564470</td>\n",
       "      <td>126.988661</td>\n",
       "    </tr>\n",
       "    <tr>\n",
       "      <th>25</th>\n",
       "      <td>37.564492</td>\n",
       "      <td>126.988773</td>\n",
       "    </tr>\n",
       "    <tr>\n",
       "      <th>26</th>\n",
       "      <td>37.564509</td>\n",
       "      <td>126.988827</td>\n",
       "    </tr>\n",
       "    <tr>\n",
       "      <th>27</th>\n",
       "      <td>37.564825</td>\n",
       "      <td>126.988689</td>\n",
       "    </tr>\n",
       "    <tr>\n",
       "      <th>28</th>\n",
       "      <td>37.565072</td>\n",
       "      <td>126.988887</td>\n",
       "    </tr>\n",
       "    <tr>\n",
       "      <th>29</th>\n",
       "      <td>37.564528</td>\n",
       "      <td>126.988901</td>\n",
       "    </tr>\n",
       "    <tr>\n",
       "      <th>...</th>\n",
       "      <td>...</td>\n",
       "      <td>...</td>\n",
       "    </tr>\n",
       "    <tr>\n",
       "      <th>18934</th>\n",
       "      <td>37.555502</td>\n",
       "      <td>127.007269</td>\n",
       "    </tr>\n",
       "    <tr>\n",
       "      <th>18935</th>\n",
       "      <td>37.563865</td>\n",
       "      <td>126.996684</td>\n",
       "    </tr>\n",
       "    <tr>\n",
       "      <th>18936</th>\n",
       "      <td>37.562147</td>\n",
       "      <td>126.986091</td>\n",
       "    </tr>\n",
       "    <tr>\n",
       "      <th>18937</th>\n",
       "      <td>37.549440</td>\n",
       "      <td>127.006436</td>\n",
       "    </tr>\n",
       "    <tr>\n",
       "      <th>18938</th>\n",
       "      <td>37.567212</td>\n",
       "      <td>126.994687</td>\n",
       "    </tr>\n",
       "    <tr>\n",
       "      <th>18939</th>\n",
       "      <td>37.558646</td>\n",
       "      <td>126.963824</td>\n",
       "    </tr>\n",
       "    <tr>\n",
       "      <th>18940</th>\n",
       "      <td>37.565695</td>\n",
       "      <td>126.994496</td>\n",
       "    </tr>\n",
       "    <tr>\n",
       "      <th>18941</th>\n",
       "      <td>37.558374</td>\n",
       "      <td>126.995672</td>\n",
       "    </tr>\n",
       "    <tr>\n",
       "      <th>18942</th>\n",
       "      <td>37.565206</td>\n",
       "      <td>127.005723</td>\n",
       "    </tr>\n",
       "    <tr>\n",
       "      <th>18943</th>\n",
       "      <td>37.565502</td>\n",
       "      <td>126.994317</td>\n",
       "    </tr>\n",
       "    <tr>\n",
       "      <th>18944</th>\n",
       "      <td>37.560888</td>\n",
       "      <td>127.001139</td>\n",
       "    </tr>\n",
       "    <tr>\n",
       "      <th>18945</th>\n",
       "      <td>37.563238</td>\n",
       "      <td>127.003983</td>\n",
       "    </tr>\n",
       "    <tr>\n",
       "      <th>18946</th>\n",
       "      <td>37.564662</td>\n",
       "      <td>126.999162</td>\n",
       "    </tr>\n",
       "    <tr>\n",
       "      <th>18947</th>\n",
       "      <td>37.558000</td>\n",
       "      <td>126.963682</td>\n",
       "    </tr>\n",
       "    <tr>\n",
       "      <th>18948</th>\n",
       "      <td>37.563137</td>\n",
       "      <td>127.004798</td>\n",
       "    </tr>\n",
       "    <tr>\n",
       "      <th>18949</th>\n",
       "      <td>37.563709</td>\n",
       "      <td>127.008786</td>\n",
       "    </tr>\n",
       "    <tr>\n",
       "      <th>18950</th>\n",
       "      <td>37.563569</td>\n",
       "      <td>127.008806</td>\n",
       "    </tr>\n",
       "    <tr>\n",
       "      <th>18951</th>\n",
       "      <td>37.563672</td>\n",
       "      <td>127.011471</td>\n",
       "    </tr>\n",
       "    <tr>\n",
       "      <th>18952</th>\n",
       "      <td>37.560031</td>\n",
       "      <td>126.992155</td>\n",
       "    </tr>\n",
       "    <tr>\n",
       "      <th>18953</th>\n",
       "      <td>37.564732</td>\n",
       "      <td>127.019844</td>\n",
       "    </tr>\n",
       "    <tr>\n",
       "      <th>18954</th>\n",
       "      <td>37.567018</td>\n",
       "      <td>127.018071</td>\n",
       "    </tr>\n",
       "    <tr>\n",
       "      <th>18955</th>\n",
       "      <td>37.557282</td>\n",
       "      <td>126.980659</td>\n",
       "    </tr>\n",
       "    <tr>\n",
       "      <th>18956</th>\n",
       "      <td>37.563386</td>\n",
       "      <td>127.022031</td>\n",
       "    </tr>\n",
       "    <tr>\n",
       "      <th>18957</th>\n",
       "      <td>37.566267</td>\n",
       "      <td>127.018421</td>\n",
       "    </tr>\n",
       "    <tr>\n",
       "      <th>18958</th>\n",
       "      <td>37.567736</td>\n",
       "      <td>127.020077</td>\n",
       "    </tr>\n",
       "    <tr>\n",
       "      <th>18959</th>\n",
       "      <td>37.566603</td>\n",
       "      <td>127.018846</td>\n",
       "    </tr>\n",
       "    <tr>\n",
       "      <th>18960</th>\n",
       "      <td>37.565078</td>\n",
       "      <td>127.008797</td>\n",
       "    </tr>\n",
       "    <tr>\n",
       "      <th>18961</th>\n",
       "      <td>37.562902</td>\n",
       "      <td>127.014679</td>\n",
       "    </tr>\n",
       "    <tr>\n",
       "      <th>18962</th>\n",
       "      <td>37.566155</td>\n",
       "      <td>127.017539</td>\n",
       "    </tr>\n",
       "    <tr>\n",
       "      <th>18963</th>\n",
       "      <td>37.567051</td>\n",
       "      <td>127.013483</td>\n",
       "    </tr>\n",
       "  </tbody>\n",
       "</table>\n",
       "<p>18964 rows × 2 columns</p>\n",
       "</div>"
      ],
      "text/plain": [
       "              위도          경도\n",
       "0      37.559466  127.003324\n",
       "1      37.559265  127.003647\n",
       "2      37.558820  127.002851\n",
       "3      37.558718  127.002981\n",
       "4      37.559504  127.003474\n",
       "5      37.559334  127.003278\n",
       "6      37.556228  127.009169\n",
       "7      37.557996  127.007685\n",
       "8      37.557951  127.008853\n",
       "9      37.567790  126.982321\n",
       "10     37.567691  126.983196\n",
       "11     37.556978  126.985205\n",
       "12     37.564820  126.983041\n",
       "13     37.565102  126.982941\n",
       "14     37.563972  126.982456\n",
       "15     37.565316  126.983043\n",
       "16     37.565062  126.983330\n",
       "17     37.565277  126.983391\n",
       "18     37.567174  126.983031\n",
       "19     37.567254  126.983033\n",
       "20     37.567515  126.983358\n",
       "21     37.567961  126.983137\n",
       "22     37.561002  126.977924\n",
       "23     37.563579  126.982104\n",
       "24     37.564470  126.988661\n",
       "25     37.564492  126.988773\n",
       "26     37.564509  126.988827\n",
       "27     37.564825  126.988689\n",
       "28     37.565072  126.988887\n",
       "29     37.564528  126.988901\n",
       "...          ...         ...\n",
       "18934  37.555502  127.007269\n",
       "18935  37.563865  126.996684\n",
       "18936  37.562147  126.986091\n",
       "18937  37.549440  127.006436\n",
       "18938  37.567212  126.994687\n",
       "18939  37.558646  126.963824\n",
       "18940  37.565695  126.994496\n",
       "18941  37.558374  126.995672\n",
       "18942  37.565206  127.005723\n",
       "18943  37.565502  126.994317\n",
       "18944  37.560888  127.001139\n",
       "18945  37.563238  127.003983\n",
       "18946  37.564662  126.999162\n",
       "18947  37.558000  126.963682\n",
       "18948  37.563137  127.004798\n",
       "18949  37.563709  127.008786\n",
       "18950  37.563569  127.008806\n",
       "18951  37.563672  127.011471\n",
       "18952  37.560031  126.992155\n",
       "18953  37.564732  127.019844\n",
       "18954  37.567018  127.018071\n",
       "18955  37.557282  126.980659\n",
       "18956  37.563386  127.022031\n",
       "18957  37.566267  127.018421\n",
       "18958  37.567736  127.020077\n",
       "18959  37.566603  127.018846\n",
       "18960  37.565078  127.008797\n",
       "18961  37.562902  127.014679\n",
       "18962  37.566155  127.017539\n",
       "18963  37.567051  127.013483\n",
       "\n",
       "[18964 rows x 2 columns]"
      ]
     },
     "execution_count": 36,
     "metadata": {},
     "output_type": "execute_result"
    }
   ],
   "source": [
    "Junggu_building_location"
   ]
  },
  {
   "cell_type": "code",
   "execution_count": 41,
   "metadata": {},
   "outputs": [],
   "source": [
    "for i in Junggu_building_location.iterrows():\n",
    "    cur.execute(\"INSERT INTO Location (latitude, logitude) VALUES (?, ?)\", (i[1][0], i[1][1]))"
   ]
  },
  {
   "cell_type": "code",
   "execution_count": 42,
   "metadata": {},
   "outputs": [],
   "source": [
    "conn.commit()"
   ]
  },
  {
   "cell_type": "markdown",
   "metadata": {},
   "source": [
    "## Tree DB\n",
    "- 수목명 / 위도 / 경도\n",
    "- 후에 필요한 나무 정보 추가"
   ]
  },
  {
   "cell_type": "code",
   "execution_count": 4,
   "metadata": {},
   "outputs": [
    {
     "data": {
      "text/plain": [
       "<sqlite3.Cursor at 0x142bc5d5730>"
      ]
     },
     "execution_count": 4,
     "metadata": {},
     "output_type": "execute_result"
    }
   ],
   "source": [
    "cur.execute(\"DROP TABLE Tree\")"
   ]
  },
  {
   "cell_type": "code",
   "execution_count": 49,
   "metadata": {},
   "outputs": [
    {
     "data": {
      "text/plain": [
       "<sqlite3.Cursor at 0x2c22f72aea0>"
      ]
     },
     "execution_count": 49,
     "metadata": {},
     "output_type": "execute_result"
    }
   ],
   "source": [
    "cur.execute(\"\"\"\n",
    "    CREATE TABLE Tree (\n",
    "    ID integer primary key autoincrement unique,\n",
    "    Gu_name text not null,\n",
    "    Latitude real not null,\n",
    "    Logitude real not null,\n",
    "    Species text not null,\n",
    "    품계수종 real not null,\n",
    "    수고 real not null,\n",
    "    품계활력 real not null,\n",
    "    흉고지름 real not null,\n",
    "    수관너비 real not null\n",
    "           );\"\"\")"
   ]
  },
  {
   "cell_type": "code",
   "execution_count": 5,
   "metadata": {},
   "outputs": [],
   "source": [
    "tree = pd.read_csv(\"C:/Users/user/Desktop/Data/total_tree.csv\", encoding=\"cp949\", engine=\"python\")"
   ]
  },
  {
   "cell_type": "code",
   "execution_count": 62,
   "metadata": {},
   "outputs": [],
   "source": [
    "for i in tree.iterrows():\n",
    "    cur.execute(\"INSERT INTO Tree (species, latitude, logitude) VALUES (?, ?, ?)\", (i[1][0], i[1][1], i[1][2]))"
   ]
  },
  {
   "cell_type": "code",
   "execution_count": 63,
   "metadata": {},
   "outputs": [],
   "source": [
    "conn.commit()"
   ]
  },
  {
   "cell_type": "markdown",
   "metadata": {},
   "source": [
    "## I-Tree crawling DB\n",
    "- Tree DB 기반으로 크롤링 하기 -> Tree DB for 돌리면 되지 않을까...?\n",
    "- 이때 한글 - 영어 사전 만들어서 사용\n",
    "- 전처리 과정 필요 -> Input + Output\n",
    "- Column 명 바꾸기"
   ]
  },
  {
   "cell_type": "code",
   "execution_count": null,
   "metadata": {},
   "outputs": [],
   "source": [
    "from selenium import webdriver\n",
    "import time"
   ]
  },
  {
   "cell_type": "code",
   "execution_count": null,
   "metadata": {},
   "outputs": [],
   "source": [
    "dic = {\" \":\" \", ....}"
   ]
  },
  {
   "cell_type": "code",
   "execution_count": null,
   "metadata": {},
   "outputs": [],
   "source": [
    "for i in tree_cutdata.iterrows():\n",
    "    driver = webdriver.Chrome()\n",
    "    driver.get(\"https://planting.itreetools.org/app/location/\")\n",
    "    time.sleep(1)\n",
    "    x = ['Utah', \"C\", \"C\"]\n",
    "    driver.find_element_by_xpath('//*[@id=\"id_partition\"]').send_keys(x[0])\n",
    "    time.sleep(3)\n",
    "    driver.find_element_by_id(\"id_secondary_partition\").send_keys(x[1])\n",
    "    time.sleep(3)\n",
    "    driver.find_element_by_id(\"id_tertiary_partition\").send_keys(x[2])\n",
    "    time.sleep(3)\n",
    "    driver.find_element_by_class_name(\"next\").click()\n",
    "    time.sleep(3)\n",
    "    driver.find_element_by_xpath('//*[@id=\"parameters\"]/button').click()\n",
    "    time.sleep(3)\n",
    "    \n",
    "    # 여기서 부터 내일 다시 구현할 것 "
   ]
  },
  {
   "cell_type": "code",
   "execution_count": null,
   "metadata": {},
   "outputs": [],
   "source": [
    "# 참고\n",
    "driver = webdriver.Chrome()\n",
    "driver.get(\"https://planting.itreetools.org/app/location/\")\n",
    "time.sleep(1)\n",
    "x = ['Utah', \"C\", \"C\"]\n",
    "driver.find_element_by_xpath('//*[@id=\"id_partition\"]').send_keys(x[0])\n",
    "time.sleep(3)\n",
    "driver.find_element_by_id(\"id_secondary_partition\").send_keys(x[1])\n",
    "time.sleep(3)\n",
    "driver.find_element_by_id(\"id_tertiary_partition\").send_keys(x[2])\n",
    "time.sleep(3)\n",
    "driver.find_element_by_class_name(\"next\").click()\n",
    "time.sleep(3)\n",
    "driver.find_element_by_xpath('//*[@id=\"parameters\"]/button').click()\n",
    "time.sleep(3)\n",
    "for x in [3,5,6,7,8,9,10]:\n",
    "    driver.find_element_by_xpath(f'//*[@id=\"row-1\"]/td[{x}]/select').send_keys(2)\n",
    "    \n",
    "for x in [4,11]:\n",
    "    driver.find_element_by_xpath(f'//*[@id=\"row-1\"]/td[{x}]/input').clear()\n",
    "    driver.find_element_by_xpath(f'//*[@id=\"row-1\"]/td[{x}]/input').send_keys(2)\n",
    "driver.find_element_by_xpath('//*[@id=\"trees\"]/button').click()\n",
    "time.sleep(3)\n",
    "driver.find_element_by_xpath('//*[@id=\"report-table-english_wrapper\"]/div[1]/div[1]/div/a[2]').click()\n",
    "\n",
    "driver.close()"
   ]
  },
  {
   "cell_type": "code",
   "execution_count": 77,
   "metadata": {},
   "outputs": [],
   "source": [
    "Itree = pd.read_csv(\"C:/Users/user/Downloads/i-Tree_Planting-v1.2.0-data_Cache-UT.csv\")\n",
    "for i in range(1,3):\n",
    "    Itree = pd.concat([Itree, pd.read_csv(\"C:/Users/user/Downloads/i-Tree_Planting-v1.2.0-data_Cache-UT (%d).csv\" %i)])"
   ]
  },
  {
   "cell_type": "code",
   "execution_count": 81,
   "metadata": {},
   "outputs": [
    {
     "data": {
      "text/html": [
       "<div>\n",
       "<style scoped>\n",
       "    .dataframe tbody tr th:only-of-type {\n",
       "        vertical-align: middle;\n",
       "    }\n",
       "\n",
       "    .dataframe tbody tr th {\n",
       "        vertical-align: top;\n",
       "    }\n",
       "\n",
       "    .dataframe thead th {\n",
       "        text-align: right;\n",
       "    }\n",
       "</style>\n",
       "<table border=\"1\" class=\"dataframe\">\n",
       "  <thead>\n",
       "    <tr style=\"text-align: right;\">\n",
       "      <th></th>\n",
       "      <th></th>\n",
       "      <th></th>\n",
       "      <th></th>\n",
       "      <th></th>\n",
       "      <th></th>\n",
       "      <th></th>\n",
       "      <th></th>\n",
       "      <th></th>\n",
       "      <th></th>\n",
       "      <th></th>\n",
       "      <th></th>\n",
       "      <th></th>\n",
       "      <th></th>\n",
       "      <th></th>\n",
       "      <th></th>\n",
       "      <th></th>\n",
       "      <th></th>\n",
       "      <th></th>\n",
       "      <th></th>\n",
       "      <th>This data was produced from the i-Tree Planting Calculator version 1.2.0 for Cache</th>\n",
       "      <th>UT.</th>\n",
       "    </tr>\n",
       "  </thead>\n",
       "  <tbody>\n",
       "    <tr>\n",
       "      <th>Group Identifier</th>\n",
       "      <th>Tree Group Characteristics</th>\n",
       "      <th>CO2 Avoided (pounds)</th>\n",
       "      <th>CO2 Avoided ($)</th>\n",
       "      <th>CO2 Sequestered (pounds)</th>\n",
       "      <th>CO2 Sequestered ($)</th>\n",
       "      <th>Electricity Saved (kWh)</th>\n",
       "      <th>Electricity Saved ($)</th>\n",
       "      <th>Fuel Saved (MMBtu)</th>\n",
       "      <th>Fuel Saved ($)</th>\n",
       "      <th>Tree Biomass (short ton)</th>\n",
       "      <th>Rainfall Interception (gallons)</th>\n",
       "      <th>Avoided Runoff (gallons)</th>\n",
       "      <th>Avoided Runoff ($)</th>\n",
       "      <th>O3 Removed (pounds)</th>\n",
       "      <th>NO2 Avoided (pounds)</th>\n",
       "      <th>NO2 Removed (pounds)</th>\n",
       "      <th>SO2 Avoided (pounds)</th>\n",
       "      <th>SO2 Removed (pounds)</th>\n",
       "      <th>VOC Avoided (pounds)</th>\n",
       "      <td>PM2.5                                         ...</td>\n",
       "      <td>PM2.5                                         ...</td>\n",
       "    </tr>\n",
       "    <tr>\n",
       "      <th>1</th>\n",
       "      <th>(2) Apple (Malus species)  at 2 inches DBH.Planted 20-39 feet and north (0°) of buildings that were built post-1980 with heat and A/C.Trees are in excellent condition and planted in full sun.</th>\n",
       "      <th>1,810.9</th>\n",
       "      <th>$42.12</th>\n",
       "      <th>4,068.7</th>\n",
       "      <th>$94.63</th>\n",
       "      <th>644.1</th>\n",
       "      <th>$63.53</th>\n",
       "      <th>2.7</th>\n",
       "      <th>$36.43</th>\n",
       "      <th>0.9</th>\n",
       "      <th>32,148.1</th>\n",
       "      <th>117.0</th>\n",
       "      <th>$1.05</th>\n",
       "      <th>9.6</th>\n",
       "      <th>0.6</th>\n",
       "      <th>1.1</th>\n",
       "      <th>1.1</th>\n",
       "      <th>0.2</th>\n",
       "      <th>0.0</th>\n",
       "      <td>0.1</td>\n",
       "      <td>0.1</td>\n",
       "    </tr>\n",
       "    <tr>\n",
       "      <th>Group Identifier</th>\n",
       "      <th>Tree Group Characteristics</th>\n",
       "      <th>CO2 Avoided (pounds)</th>\n",
       "      <th>CO2 Avoided ($)</th>\n",
       "      <th>CO2 Sequestered (pounds)</th>\n",
       "      <th>CO2 Sequestered ($)</th>\n",
       "      <th>Electricity Saved (kWh)</th>\n",
       "      <th>Electricity Saved ($)</th>\n",
       "      <th>Fuel Saved (MMBtu)</th>\n",
       "      <th>Fuel Saved ($)</th>\n",
       "      <th>Tree Biomass (short ton)</th>\n",
       "      <th>Rainfall Interception (gallons)</th>\n",
       "      <th>Avoided Runoff (gallons)</th>\n",
       "      <th>Avoided Runoff ($)</th>\n",
       "      <th>O3 Removed (pounds)</th>\n",
       "      <th>NO2 Avoided (pounds)</th>\n",
       "      <th>NO2 Removed (pounds)</th>\n",
       "      <th>SO2 Avoided (pounds)</th>\n",
       "      <th>SO2 Removed (pounds)</th>\n",
       "      <th>VOC Avoided (pounds)</th>\n",
       "      <td>PM2.5                                         ...</td>\n",
       "      <td>PM2.5                                         ...</td>\n",
       "    </tr>\n",
       "    <tr>\n",
       "      <th>1</th>\n",
       "      <th>(2) Apple (Malus species)  at 2 inches DBH.Planted 20-39 feet and north (0°) of buildings that were built post-1980 with heat and A/C.Trees are in excellent condition and planted in full sun.</th>\n",
       "      <th>1,810.9</th>\n",
       "      <th>$42.12</th>\n",
       "      <th>4,068.7</th>\n",
       "      <th>$94.63</th>\n",
       "      <th>644.1</th>\n",
       "      <th>$63.53</th>\n",
       "      <th>2.7</th>\n",
       "      <th>$36.43</th>\n",
       "      <th>0.9</th>\n",
       "      <th>32,148.1</th>\n",
       "      <th>117.0</th>\n",
       "      <th>$1.05</th>\n",
       "      <th>9.6</th>\n",
       "      <th>0.6</th>\n",
       "      <th>1.1</th>\n",
       "      <th>1.1</th>\n",
       "      <th>0.2</th>\n",
       "      <th>0.0</th>\n",
       "      <td>0.1</td>\n",
       "      <td>0.1</td>\n",
       "    </tr>\n",
       "    <tr>\n",
       "      <th>Group Identifier</th>\n",
       "      <th>Tree Group Characteristics</th>\n",
       "      <th>CO2 Avoided (pounds)</th>\n",
       "      <th>CO2 Avoided ($)</th>\n",
       "      <th>CO2 Sequestered (pounds)</th>\n",
       "      <th>CO2 Sequestered ($)</th>\n",
       "      <th>Electricity Saved (kWh)</th>\n",
       "      <th>Electricity Saved ($)</th>\n",
       "      <th>Fuel Saved (MMBtu)</th>\n",
       "      <th>Fuel Saved ($)</th>\n",
       "      <th>Tree Biomass (short ton)</th>\n",
       "      <th>Rainfall Interception (gallons)</th>\n",
       "      <th>Avoided Runoff (gallons)</th>\n",
       "      <th>Avoided Runoff ($)</th>\n",
       "      <th>O3 Removed (pounds)</th>\n",
       "      <th>NO2 Avoided (pounds)</th>\n",
       "      <th>NO2 Removed (pounds)</th>\n",
       "      <th>SO2 Avoided (pounds)</th>\n",
       "      <th>SO2 Removed (pounds)</th>\n",
       "      <th>VOC Avoided (pounds)</th>\n",
       "      <td>PM2.5                                         ...</td>\n",
       "      <td>PM2.5                                         ...</td>\n",
       "    </tr>\n",
       "    <tr>\n",
       "      <th>1</th>\n",
       "      <th>(2) Apple (Malus species)  at 2 inches DBH.Planted 20-39 feet and north (0°) of buildings that were built post-1980 with heat and A/C.Trees are in excellent condition and planted in full sun.</th>\n",
       "      <th>1,810.9</th>\n",
       "      <th>$42.12</th>\n",
       "      <th>4,068.7</th>\n",
       "      <th>$94.63</th>\n",
       "      <th>644.1</th>\n",
       "      <th>$63.53</th>\n",
       "      <th>2.7</th>\n",
       "      <th>$36.43</th>\n",
       "      <th>0.9</th>\n",
       "      <th>32,148.1</th>\n",
       "      <th>117.0</th>\n",
       "      <th>$1.05</th>\n",
       "      <th>9.6</th>\n",
       "      <th>0.6</th>\n",
       "      <th>1.1</th>\n",
       "      <th>1.1</th>\n",
       "      <th>0.2</th>\n",
       "      <th>0.0</th>\n",
       "      <td>0.1</td>\n",
       "      <td>0.1</td>\n",
       "    </tr>\n",
       "  </tbody>\n",
       "</table>\n",
       "</div>"
      ],
      "text/plain": [
       "                                                                                                                                                                                                                                                                                                                                                                                                                                                                        This data was produced from the i-Tree Planting Calculator version 1.2.0 for Cache  \\\n",
       "Group Identifier Tree Group Characteristics                         CO2 Avoided (pounds) CO2 Avoided ($) CO2 Sequestered (pounds) CO2 Sequestered ($) Electricity Saved (kWh) Electricity Saved ($) Fuel Saved (MMBtu) Fuel Saved ($) Tree Biomass (short ton) Rainfall Interception (gallons) Avoided Runoff (gallons) Avoided Runoff ($) O3 Removed (pounds) NO2 Avoided (pounds) NO2 Removed (pounds) SO2 Avoided (pounds) SO2 Removed (pounds) VOC Avoided (pounds)  PM2.5                                         ...                                   \n",
       "1                (2) Apple (Malus species)  at 2 inches DBH.Plan... 1,810.9              $42.12          4,068.7                  $94.63              644.1                   $63.53                2.7                $36.43         0.9                      32,148.1                        117.0                    $1.05              9.6                 0.6                  1.1                  1.1                  0.2                  0.0                                                                 0.1                                   \n",
       "Group Identifier Tree Group Characteristics                         CO2 Avoided (pounds) CO2 Avoided ($) CO2 Sequestered (pounds) CO2 Sequestered ($) Electricity Saved (kWh) Electricity Saved ($) Fuel Saved (MMBtu) Fuel Saved ($) Tree Biomass (short ton) Rainfall Interception (gallons) Avoided Runoff (gallons) Avoided Runoff ($) O3 Removed (pounds) NO2 Avoided (pounds) NO2 Removed (pounds) SO2 Avoided (pounds) SO2 Removed (pounds) VOC Avoided (pounds)  PM2.5                                         ...                                   \n",
       "1                (2) Apple (Malus species)  at 2 inches DBH.Plan... 1,810.9              $42.12          4,068.7                  $94.63              644.1                   $63.53                2.7                $36.43         0.9                      32,148.1                        117.0                    $1.05              9.6                 0.6                  1.1                  1.1                  0.2                  0.0                                                                 0.1                                   \n",
       "Group Identifier Tree Group Characteristics                         CO2 Avoided (pounds) CO2 Avoided ($) CO2 Sequestered (pounds) CO2 Sequestered ($) Electricity Saved (kWh) Electricity Saved ($) Fuel Saved (MMBtu) Fuel Saved ($) Tree Biomass (short ton) Rainfall Interception (gallons) Avoided Runoff (gallons) Avoided Runoff ($) O3 Removed (pounds) NO2 Avoided (pounds) NO2 Removed (pounds) SO2 Avoided (pounds) SO2 Removed (pounds) VOC Avoided (pounds)  PM2.5                                         ...                                   \n",
       "1                (2) Apple (Malus species)  at 2 inches DBH.Plan... 1,810.9              $42.12          4,068.7                  $94.63              644.1                   $63.53                2.7                $36.43         0.9                      32,148.1                        117.0                    $1.05              9.6                 0.6                  1.1                  1.1                  0.2                  0.0                                                                 0.1                                   \n",
       "\n",
       "                                                                                                                                                                                                                                                                                                                                                                                                                                                                                                                       UT.  \n",
       "Group Identifier Tree Group Characteristics                         CO2 Avoided (pounds) CO2 Avoided ($) CO2 Sequestered (pounds) CO2 Sequestered ($) Electricity Saved (kWh) Electricity Saved ($) Fuel Saved (MMBtu) Fuel Saved ($) Tree Biomass (short ton) Rainfall Interception (gallons) Avoided Runoff (gallons) Avoided Runoff ($) O3 Removed (pounds) NO2 Avoided (pounds) NO2 Removed (pounds) SO2 Avoided (pounds) SO2 Removed (pounds) VOC Avoided (pounds)  PM2.5                                         ...  \n",
       "1                (2) Apple (Malus species)  at 2 inches DBH.Plan... 1,810.9              $42.12          4,068.7                  $94.63              644.1                   $63.53                2.7                $36.43         0.9                      32,148.1                        117.0                    $1.05              9.6                 0.6                  1.1                  1.1                  0.2                  0.0                                                                 0.1  \n",
       "Group Identifier Tree Group Characteristics                         CO2 Avoided (pounds) CO2 Avoided ($) CO2 Sequestered (pounds) CO2 Sequestered ($) Electricity Saved (kWh) Electricity Saved ($) Fuel Saved (MMBtu) Fuel Saved ($) Tree Biomass (short ton) Rainfall Interception (gallons) Avoided Runoff (gallons) Avoided Runoff ($) O3 Removed (pounds) NO2 Avoided (pounds) NO2 Removed (pounds) SO2 Avoided (pounds) SO2 Removed (pounds) VOC Avoided (pounds)  PM2.5                                         ...  \n",
       "1                (2) Apple (Malus species)  at 2 inches DBH.Plan... 1,810.9              $42.12          4,068.7                  $94.63              644.1                   $63.53                2.7                $36.43         0.9                      32,148.1                        117.0                    $1.05              9.6                 0.6                  1.1                  1.1                  0.2                  0.0                                                                 0.1  \n",
       "Group Identifier Tree Group Characteristics                         CO2 Avoided (pounds) CO2 Avoided ($) CO2 Sequestered (pounds) CO2 Sequestered ($) Electricity Saved (kWh) Electricity Saved ($) Fuel Saved (MMBtu) Fuel Saved ($) Tree Biomass (short ton) Rainfall Interception (gallons) Avoided Runoff (gallons) Avoided Runoff ($) O3 Removed (pounds) NO2 Avoided (pounds) NO2 Removed (pounds) SO2 Avoided (pounds) SO2 Removed (pounds) VOC Avoided (pounds)  PM2.5                                         ...  \n",
       "1                (2) Apple (Malus species)  at 2 inches DBH.Plan... 1,810.9              $42.12          4,068.7                  $94.63              644.1                   $63.53                2.7                $36.43         0.9                      32,148.1                        117.0                    $1.05              9.6                 0.6                  1.1                  1.1                  0.2                  0.0                                                                 0.1  "
      ]
     },
     "execution_count": 81,
     "metadata": {},
     "output_type": "execute_result"
    }
   ],
   "source": [
    "Itree"
   ]
  },
  {
   "cell_type": "code",
   "execution_count": null,
   "metadata": {},
   "outputs": [],
   "source": [
    "cur.execute(\"\"\"\n",
    "    CREATE TABLE Itree (\n",
    "    id integer primary key autoincrement unique,\n",
    "    species text not null,\n",
    "    input_1 real not null,\n",
    "    output_1 real not null\n",
    "           );\"\"\")"
   ]
  },
  {
   "cell_type": "code",
   "execution_count": 91,
   "metadata": {
    "scrolled": true
   },
   "outputs": [
    {
     "name": "stdout",
     "output_type": "stream",
     "text": [
      "This data was produced from the i-Tree Planting Calculator version 1.2.0 for Cache    PM2.5                                         ...\n",
      " UT.                                                                                  PM2.5                                         ...\n",
      "Name: (Group Identifier, Tree Group Characteristics, CO2 Avoided (pounds), CO2 Avoided ($), CO2 Sequestered (pounds), CO2 Sequestered ($), Electricity Saved (kWh), Electricity Saved ($), Fuel Saved (MMBtu), Fuel Saved ($), Tree Biomass (short ton), Rainfall Interception (gallons), Avoided Runoff (gallons), Avoided Runoff ($), O3 Removed (pounds), NO2 Avoided (pounds), NO2 Removed (pounds), SO2 Avoided (pounds), SO2 Removed (pounds), VOC Avoided (pounds)), dtype: object\n",
      "This data was produced from the i-Tree Planting Calculator version 1.2.0 for Cache    0.1\n",
      " UT.                                                                                  0.1\n",
      "Name: (1, (2) Apple (Malus species)  at 2 inches DBH.Planted 20-39 feet and north (0°) of buildings that were built post-1980 with heat and A/C.Trees are in excellent condition and planted in full sun., 1,810.9, $42.12, 4,068.7, $94.63, 644.1, $63.53, 2.7, $36.43, 0.9, 32,148.1, 117.0, $1.05, 9.6, 0.6, 1.1, 1.1, 0.2, 0.0), dtype: object\n",
      "This data was produced from the i-Tree Planting Calculator version 1.2.0 for Cache    PM2.5                                         ...\n",
      " UT.                                                                                  PM2.5                                         ...\n",
      "Name: (Group Identifier, Tree Group Characteristics, CO2 Avoided (pounds), CO2 Avoided ($), CO2 Sequestered (pounds), CO2 Sequestered ($), Electricity Saved (kWh), Electricity Saved ($), Fuel Saved (MMBtu), Fuel Saved ($), Tree Biomass (short ton), Rainfall Interception (gallons), Avoided Runoff (gallons), Avoided Runoff ($), O3 Removed (pounds), NO2 Avoided (pounds), NO2 Removed (pounds), SO2 Avoided (pounds), SO2 Removed (pounds), VOC Avoided (pounds)), dtype: object\n",
      "This data was produced from the i-Tree Planting Calculator version 1.2.0 for Cache    0.1\n",
      " UT.                                                                                  0.1\n",
      "Name: (1, (2) Apple (Malus species)  at 2 inches DBH.Planted 20-39 feet and north (0°) of buildings that were built post-1980 with heat and A/C.Trees are in excellent condition and planted in full sun., 1,810.9, $42.12, 4,068.7, $94.63, 644.1, $63.53, 2.7, $36.43, 0.9, 32,148.1, 117.0, $1.05, 9.6, 0.6, 1.1, 1.1, 0.2, 0.0), dtype: object\n",
      "This data was produced from the i-Tree Planting Calculator version 1.2.0 for Cache    PM2.5                                         ...\n",
      " UT.                                                                                  PM2.5                                         ...\n",
      "Name: (Group Identifier, Tree Group Characteristics, CO2 Avoided (pounds), CO2 Avoided ($), CO2 Sequestered (pounds), CO2 Sequestered ($), Electricity Saved (kWh), Electricity Saved ($), Fuel Saved (MMBtu), Fuel Saved ($), Tree Biomass (short ton), Rainfall Interception (gallons), Avoided Runoff (gallons), Avoided Runoff ($), O3 Removed (pounds), NO2 Avoided (pounds), NO2 Removed (pounds), SO2 Avoided (pounds), SO2 Removed (pounds), VOC Avoided (pounds)), dtype: object\n",
      "This data was produced from the i-Tree Planting Calculator version 1.2.0 for Cache    0.1\n",
      " UT.                                                                                  0.1\n",
      "Name: (1, (2) Apple (Malus species)  at 2 inches DBH.Planted 20-39 feet and north (0°) of buildings that were built post-1980 with heat and A/C.Trees are in excellent condition and planted in full sun., 1,810.9, $42.12, 4,068.7, $94.63, 644.1, $63.53, 2.7, $36.43, 0.9, 32,148.1, 117.0, $1.05, 9.6, 0.6, 1.1, 1.1, 0.2, 0.0), dtype: object\n"
     ]
    }
   ],
   "source": [
    "for i in Itree.iterrows():\n",
    "    print(i[1])"
   ]
  },
  {
   "cell_type": "code",
   "execution_count": null,
   "metadata": {},
   "outputs": [],
   "source": [
    "for i in Itree.iterrows():\n",
    "    cur.execute(\"INSERT INTO Itree (species, input_1, output_1) VALUES (?, ?, ?)\", ( , , ))"
   ]
  }
 ],
 "metadata": {
  "kernelspec": {
   "display_name": "Python 3",
   "language": "python",
   "name": "python3"
  },
  "language_info": {
   "codemirror_mode": {
    "name": "ipython",
    "version": 3
   },
   "file_extension": ".py",
   "mimetype": "text/x-python",
   "name": "python",
   "nbconvert_exporter": "python",
   "pygments_lexer": "ipython3",
   "version": "3.7.3"
  }
 },
 "nbformat": 4,
 "nbformat_minor": 2
}
