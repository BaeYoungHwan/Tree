{
 "cells": [
  {
   "cell_type": "markdown",
   "metadata": {},
   "source": [
    "# I-Tree data Crawling"
   ]
  },
  {
   "cell_type": "code",
   "execution_count": 286,
   "metadata": {},
   "outputs": [],
   "source": [
    "from selenium import webdriver\n",
    "import pandas as pd\n",
    "import time"
   ]
  },
  {
   "cell_type": "code",
   "execution_count": 287,
   "metadata": {},
   "outputs": [],
   "source": [
    "driver = webdriver.Chrome()\n",
    "driver.get(\"https://planting.itreetools.org/app/location/\")\n",
    "time.sleep(3)\n",
    "driver.find_element_by_xpath(\"//select[@id='id_partition']/option[@data-abbr='IL']\").click() # Change\n",
    "time.sleep(3)\n",
    "driver.find_element_by_xpath(\"//select[@id='id_secondary_partition']/option[@value='929']\").click() # Change \n",
    "time.sleep(3)\n",
    "driver.find_element_by_xpath(\"//select[@id='id_tertiary_partition']/option[@value='9539']\").click() # Change\n",
    "time.sleep(5)\n",
    "driver.find_element_by_xpath(\"//div[@id='location']//button[@class='next btn btn-primary']\").click()\n",
    "time.sleep(3)\n",
    "driver.find_element_by_xpath(\"//div[@id='parameters']//button[@class='next btn btn-primary']\").click()"
   ]
  },
  {
   "cell_type": "markdown",
   "metadata": {},
   "source": [
    "#### Read Data"
   ]
  },
  {
   "cell_type": "code",
   "execution_count": 650,
   "metadata": {},
   "outputs": [],
   "source": [
    "total_tree = pd.read_csv(\"C:\\\\Users\\\\배현지\\\\Documents\\\\GitHub\\\\Tree\\\\DATA\\\\total_tree.csv\", encoding=\"cp949\", engine=\"python\")"
   ]
  },
  {
   "cell_type": "code",
   "execution_count": 288,
   "metadata": {},
   "outputs": [],
   "source": [
    "Itrees = total_tree[[\"수목명\",\"흉고지름\",\"Condition\"]].drop_duplicates()"
   ]
  },
  {
   "cell_type": "code",
   "execution_count": 289,
   "metadata": {
    "scrolled": false
   },
   "outputs": [
    {
     "data": {
      "text/html": [
       "<div>\n",
       "<style scoped>\n",
       "    .dataframe tbody tr th:only-of-type {\n",
       "        vertical-align: middle;\n",
       "    }\n",
       "\n",
       "    .dataframe tbody tr th {\n",
       "        vertical-align: top;\n",
       "    }\n",
       "\n",
       "    .dataframe thead th {\n",
       "        text-align: right;\n",
       "    }\n",
       "</style>\n",
       "<table border=\"1\" class=\"dataframe\">\n",
       "  <thead>\n",
       "    <tr style=\"text-align: right;\">\n",
       "      <th></th>\n",
       "      <th>수목명</th>\n",
       "      <th>흉고지름</th>\n",
       "      <th>Condition</th>\n",
       "    </tr>\n",
       "  </thead>\n",
       "  <tbody>\n",
       "    <tr>\n",
       "      <th>0</th>\n",
       "      <td>회화나무</td>\n",
       "      <td>15.0</td>\n",
       "      <td>Fair</td>\n",
       "    </tr>\n",
       "    <tr>\n",
       "      <th>1</th>\n",
       "      <td>느티나무</td>\n",
       "      <td>29.0</td>\n",
       "      <td>Excellent</td>\n",
       "    </tr>\n",
       "    <tr>\n",
       "      <th>2</th>\n",
       "      <td>버즘나무</td>\n",
       "      <td>30.0</td>\n",
       "      <td>Excellent</td>\n",
       "    </tr>\n",
       "    <tr>\n",
       "      <th>3</th>\n",
       "      <td>왕벚나무</td>\n",
       "      <td>21.0</td>\n",
       "      <td>Excellent</td>\n",
       "    </tr>\n",
       "    <tr>\n",
       "      <th>4</th>\n",
       "      <td>메타세쿼이아</td>\n",
       "      <td>38.0</td>\n",
       "      <td>Excellent</td>\n",
       "    </tr>\n",
       "  </tbody>\n",
       "</table>\n",
       "</div>"
      ],
      "text/plain": [
       "      수목명  흉고지름  Condition\n",
       "0    회화나무  15.0       Fair\n",
       "1    느티나무  29.0  Excellent\n",
       "2    버즘나무  30.0  Excellent\n",
       "3    왕벚나무  21.0  Excellent\n",
       "4  메타세쿼이아  38.0  Excellent"
      ]
     },
     "execution_count": 289,
     "metadata": {},
     "output_type": "execute_result"
    }
   ],
   "source": [
    "Itrees.head()"
   ]
  },
  {
   "cell_type": "code",
   "execution_count": 331,
   "metadata": {},
   "outputs": [],
   "source": [
    "k_tree = pd.read_csv(\"C:\\\\Users\\\\배현지\\\\Documents\\\\GitHub\\\\Tree\\\\DATA\\\\Mapping\\\\k_tree.csv\", encoding=\"cp949\", engine=\"python\")"
   ]
  },
  {
   "cell_type": "code",
   "execution_count": 291,
   "metadata": {
    "scrolled": true
   },
   "outputs": [],
   "source": [
    "k_tree = k_tree[[\"Korean\", \"Value\"]]"
   ]
  },
  {
   "cell_type": "code",
   "execution_count": 292,
   "metadata": {
    "scrolled": true
   },
   "outputs": [],
   "source": [
    "k_tree.rename(columns={\"Korean\":\"수목명\"}, inplace=True)"
   ]
  },
  {
   "cell_type": "code",
   "execution_count": 16,
   "metadata": {},
   "outputs": [
    {
     "data": {
      "text/html": [
       "<div>\n",
       "<style scoped>\n",
       "    .dataframe tbody tr th:only-of-type {\n",
       "        vertical-align: middle;\n",
       "    }\n",
       "\n",
       "    .dataframe tbody tr th {\n",
       "        vertical-align: top;\n",
       "    }\n",
       "\n",
       "    .dataframe thead th {\n",
       "        text-align: right;\n",
       "    }\n",
       "</style>\n",
       "<table border=\"1\" class=\"dataframe\">\n",
       "  <thead>\n",
       "    <tr style=\"text-align: right;\">\n",
       "      <th></th>\n",
       "      <th>수목명</th>\n",
       "      <th>Value</th>\n",
       "    </tr>\n",
       "  </thead>\n",
       "  <tbody>\n",
       "    <tr>\n",
       "      <th>0</th>\n",
       "      <td>회화나무</td>\n",
       "      <td>SOJA</td>\n",
       "    </tr>\n",
       "    <tr>\n",
       "      <th>1</th>\n",
       "      <td>느티나무</td>\n",
       "      <td>ZESE</td>\n",
       "    </tr>\n",
       "    <tr>\n",
       "      <th>2</th>\n",
       "      <td>버즘나무</td>\n",
       "      <td>PLOR</td>\n",
       "    </tr>\n",
       "  </tbody>\n",
       "</table>\n",
       "</div>"
      ],
      "text/plain": [
       "    수목명 Value\n",
       "0  회화나무  SOJA\n",
       "1  느티나무  ZESE\n",
       "2  버즘나무  PLOR"
      ]
     },
     "execution_count": 16,
     "metadata": {},
     "output_type": "execute_result"
    }
   ],
   "source": [
    "k_tree.head(3)"
   ]
  },
  {
   "cell_type": "code",
   "execution_count": 293,
   "metadata": {},
   "outputs": [],
   "source": [
    "data = pd.merge(Itrees, k_tree, on=\"수목명\", how=\"outer\")"
   ]
  },
  {
   "cell_type": "code",
   "execution_count": 19,
   "metadata": {
    "collapsed": true
   },
   "outputs": [
    {
     "data": {
      "text/html": [
       "<div>\n",
       "<style scoped>\n",
       "    .dataframe tbody tr th:only-of-type {\n",
       "        vertical-align: middle;\n",
       "    }\n",
       "\n",
       "    .dataframe tbody tr th {\n",
       "        vertical-align: top;\n",
       "    }\n",
       "\n",
       "    .dataframe thead th {\n",
       "        text-align: right;\n",
       "    }\n",
       "</style>\n",
       "<table border=\"1\" class=\"dataframe\">\n",
       "  <thead>\n",
       "    <tr style=\"text-align: right;\">\n",
       "      <th></th>\n",
       "      <th>수목명</th>\n",
       "      <th>흉고지름</th>\n",
       "      <th>Condition</th>\n",
       "      <th>Value</th>\n",
       "    </tr>\n",
       "  </thead>\n",
       "  <tbody>\n",
       "    <tr>\n",
       "      <th>0</th>\n",
       "      <td>회화나무</td>\n",
       "      <td>15.0</td>\n",
       "      <td>Fair</td>\n",
       "      <td>SOJA</td>\n",
       "    </tr>\n",
       "    <tr>\n",
       "      <th>1</th>\n",
       "      <td>회화나무</td>\n",
       "      <td>26.0</td>\n",
       "      <td>Excellent</td>\n",
       "      <td>SOJA</td>\n",
       "    </tr>\n",
       "    <tr>\n",
       "      <th>2</th>\n",
       "      <td>회화나무</td>\n",
       "      <td>30.0</td>\n",
       "      <td>Excellent</td>\n",
       "      <td>SOJA</td>\n",
       "    </tr>\n",
       "    <tr>\n",
       "      <th>3</th>\n",
       "      <td>회화나무</td>\n",
       "      <td>21.0</td>\n",
       "      <td>Excellent</td>\n",
       "      <td>SOJA</td>\n",
       "    </tr>\n",
       "    <tr>\n",
       "      <th>4</th>\n",
       "      <td>회화나무</td>\n",
       "      <td>22.0</td>\n",
       "      <td>Excellent</td>\n",
       "      <td>SOJA</td>\n",
       "    </tr>\n",
       "    <tr>\n",
       "      <th>5</th>\n",
       "      <td>회화나무</td>\n",
       "      <td>31.0</td>\n",
       "      <td>Excellent</td>\n",
       "      <td>SOJA</td>\n",
       "    </tr>\n",
       "    <tr>\n",
       "      <th>6</th>\n",
       "      <td>회화나무</td>\n",
       "      <td>23.0</td>\n",
       "      <td>Excellent</td>\n",
       "      <td>SOJA</td>\n",
       "    </tr>\n",
       "    <tr>\n",
       "      <th>7</th>\n",
       "      <td>회화나무</td>\n",
       "      <td>27.0</td>\n",
       "      <td>Excellent</td>\n",
       "      <td>SOJA</td>\n",
       "    </tr>\n",
       "    <tr>\n",
       "      <th>8</th>\n",
       "      <td>회화나무</td>\n",
       "      <td>38.0</td>\n",
       "      <td>Excellent</td>\n",
       "      <td>SOJA</td>\n",
       "    </tr>\n",
       "    <tr>\n",
       "      <th>9</th>\n",
       "      <td>회화나무</td>\n",
       "      <td>24.0</td>\n",
       "      <td>Excellent</td>\n",
       "      <td>SOJA</td>\n",
       "    </tr>\n",
       "    <tr>\n",
       "      <th>10</th>\n",
       "      <td>회화나무</td>\n",
       "      <td>29.0</td>\n",
       "      <td>Excellent</td>\n",
       "      <td>SOJA</td>\n",
       "    </tr>\n",
       "    <tr>\n",
       "      <th>11</th>\n",
       "      <td>회화나무</td>\n",
       "      <td>28.0</td>\n",
       "      <td>Excellent</td>\n",
       "      <td>SOJA</td>\n",
       "    </tr>\n",
       "    <tr>\n",
       "      <th>12</th>\n",
       "      <td>회화나무</td>\n",
       "      <td>25.0</td>\n",
       "      <td>Excellent</td>\n",
       "      <td>SOJA</td>\n",
       "    </tr>\n",
       "    <tr>\n",
       "      <th>13</th>\n",
       "      <td>회화나무</td>\n",
       "      <td>36.0</td>\n",
       "      <td>Excellent</td>\n",
       "      <td>SOJA</td>\n",
       "    </tr>\n",
       "    <tr>\n",
       "      <th>14</th>\n",
       "      <td>회화나무</td>\n",
       "      <td>33.0</td>\n",
       "      <td>Excellent</td>\n",
       "      <td>SOJA</td>\n",
       "    </tr>\n",
       "    <tr>\n",
       "      <th>15</th>\n",
       "      <td>회화나무</td>\n",
       "      <td>40.0</td>\n",
       "      <td>Excellent</td>\n",
       "      <td>SOJA</td>\n",
       "    </tr>\n",
       "    <tr>\n",
       "      <th>16</th>\n",
       "      <td>회화나무</td>\n",
       "      <td>32.0</td>\n",
       "      <td>Excellent</td>\n",
       "      <td>SOJA</td>\n",
       "    </tr>\n",
       "    <tr>\n",
       "      <th>17</th>\n",
       "      <td>회화나무</td>\n",
       "      <td>41.0</td>\n",
       "      <td>Excellent</td>\n",
       "      <td>SOJA</td>\n",
       "    </tr>\n",
       "    <tr>\n",
       "      <th>18</th>\n",
       "      <td>회화나무</td>\n",
       "      <td>24.0</td>\n",
       "      <td>Fair</td>\n",
       "      <td>SOJA</td>\n",
       "    </tr>\n",
       "    <tr>\n",
       "      <th>19</th>\n",
       "      <td>회화나무</td>\n",
       "      <td>12.0</td>\n",
       "      <td>Fair</td>\n",
       "      <td>SOJA</td>\n",
       "    </tr>\n",
       "    <tr>\n",
       "      <th>20</th>\n",
       "      <td>회화나무</td>\n",
       "      <td>34.0</td>\n",
       "      <td>Excellent</td>\n",
       "      <td>SOJA</td>\n",
       "    </tr>\n",
       "    <tr>\n",
       "      <th>21</th>\n",
       "      <td>회화나무</td>\n",
       "      <td>18.0</td>\n",
       "      <td>Fair</td>\n",
       "      <td>SOJA</td>\n",
       "    </tr>\n",
       "    <tr>\n",
       "      <th>22</th>\n",
       "      <td>회화나무</td>\n",
       "      <td>26.0</td>\n",
       "      <td>Fair</td>\n",
       "      <td>SOJA</td>\n",
       "    </tr>\n",
       "    <tr>\n",
       "      <th>23</th>\n",
       "      <td>회화나무</td>\n",
       "      <td>17.0</td>\n",
       "      <td>Fair</td>\n",
       "      <td>SOJA</td>\n",
       "    </tr>\n",
       "    <tr>\n",
       "      <th>24</th>\n",
       "      <td>회화나무</td>\n",
       "      <td>22.0</td>\n",
       "      <td>Fair</td>\n",
       "      <td>SOJA</td>\n",
       "    </tr>\n",
       "    <tr>\n",
       "      <th>25</th>\n",
       "      <td>회화나무</td>\n",
       "      <td>10.0</td>\n",
       "      <td>Fair</td>\n",
       "      <td>SOJA</td>\n",
       "    </tr>\n",
       "    <tr>\n",
       "      <th>26</th>\n",
       "      <td>회화나무</td>\n",
       "      <td>16.0</td>\n",
       "      <td>Fair</td>\n",
       "      <td>SOJA</td>\n",
       "    </tr>\n",
       "    <tr>\n",
       "      <th>27</th>\n",
       "      <td>회화나무</td>\n",
       "      <td>11.0</td>\n",
       "      <td>Fair</td>\n",
       "      <td>SOJA</td>\n",
       "    </tr>\n",
       "    <tr>\n",
       "      <th>28</th>\n",
       "      <td>회화나무</td>\n",
       "      <td>19.0</td>\n",
       "      <td>Fair</td>\n",
       "      <td>SOJA</td>\n",
       "    </tr>\n",
       "    <tr>\n",
       "      <th>29</th>\n",
       "      <td>회화나무</td>\n",
       "      <td>13.0</td>\n",
       "      <td>Fair</td>\n",
       "      <td>SOJA</td>\n",
       "    </tr>\n",
       "    <tr>\n",
       "      <th>...</th>\n",
       "      <td>...</td>\n",
       "      <td>...</td>\n",
       "      <td>...</td>\n",
       "      <td>...</td>\n",
       "    </tr>\n",
       "    <tr>\n",
       "      <th>6173</th>\n",
       "      <td>참빗살나무</td>\n",
       "      <td>26.0</td>\n",
       "      <td>Poor</td>\n",
       "      <td>EUHA9</td>\n",
       "    </tr>\n",
       "    <tr>\n",
       "      <th>6174</th>\n",
       "      <td>참빗살나무</td>\n",
       "      <td>20.0</td>\n",
       "      <td>Poor</td>\n",
       "      <td>EUHA9</td>\n",
       "    </tr>\n",
       "    <tr>\n",
       "      <th>6175</th>\n",
       "      <td>참빗살나무</td>\n",
       "      <td>22.0</td>\n",
       "      <td>Excellent</td>\n",
       "      <td>EUHA9</td>\n",
       "    </tr>\n",
       "    <tr>\n",
       "      <th>6176</th>\n",
       "      <td>루브라참나무</td>\n",
       "      <td>22.0</td>\n",
       "      <td>Poor</td>\n",
       "      <td>QUAL3</td>\n",
       "    </tr>\n",
       "    <tr>\n",
       "      <th>6177</th>\n",
       "      <td>루브라참나무</td>\n",
       "      <td>20.0</td>\n",
       "      <td>Poor</td>\n",
       "      <td>QUAL3</td>\n",
       "    </tr>\n",
       "    <tr>\n",
       "      <th>6178</th>\n",
       "      <td>쥐똥나무</td>\n",
       "      <td>32.0</td>\n",
       "      <td>Poor</td>\n",
       "      <td>LIOB</td>\n",
       "    </tr>\n",
       "    <tr>\n",
       "      <th>6179</th>\n",
       "      <td>능금나무</td>\n",
       "      <td>22.0</td>\n",
       "      <td>Poor</td>\n",
       "      <td>PYAN</td>\n",
       "    </tr>\n",
       "    <tr>\n",
       "      <th>6180</th>\n",
       "      <td>신단풍</td>\n",
       "      <td>25.0</td>\n",
       "      <td>Excellent</td>\n",
       "      <td>ACPADI</td>\n",
       "    </tr>\n",
       "    <tr>\n",
       "      <th>6181</th>\n",
       "      <td>신단풍</td>\n",
       "      <td>40.0</td>\n",
       "      <td>Excellent</td>\n",
       "      <td>ACPADI</td>\n",
       "    </tr>\n",
       "    <tr>\n",
       "      <th>6182</th>\n",
       "      <td>신단풍</td>\n",
       "      <td>20.0</td>\n",
       "      <td>Excellent</td>\n",
       "      <td>ACPADI</td>\n",
       "    </tr>\n",
       "    <tr>\n",
       "      <th>6183</th>\n",
       "      <td>신단풍</td>\n",
       "      <td>26.0</td>\n",
       "      <td>Excellent</td>\n",
       "      <td>ACPADI</td>\n",
       "    </tr>\n",
       "    <tr>\n",
       "      <th>6184</th>\n",
       "      <td>신단풍</td>\n",
       "      <td>24.0</td>\n",
       "      <td>Excellent</td>\n",
       "      <td>ACPADI</td>\n",
       "    </tr>\n",
       "    <tr>\n",
       "      <th>6185</th>\n",
       "      <td>신단풍</td>\n",
       "      <td>22.0</td>\n",
       "      <td>Excellent</td>\n",
       "      <td>ACPADI</td>\n",
       "    </tr>\n",
       "    <tr>\n",
       "      <th>6186</th>\n",
       "      <td>신단풍</td>\n",
       "      <td>21.0</td>\n",
       "      <td>Excellent</td>\n",
       "      <td>ACPADI</td>\n",
       "    </tr>\n",
       "    <tr>\n",
       "      <th>6187</th>\n",
       "      <td>신단풍</td>\n",
       "      <td>23.0</td>\n",
       "      <td>Excellent</td>\n",
       "      <td>ACPADI</td>\n",
       "    </tr>\n",
       "    <tr>\n",
       "      <th>6188</th>\n",
       "      <td>솔송나무</td>\n",
       "      <td>23.0</td>\n",
       "      <td>Excellent</td>\n",
       "      <td>TSCA</td>\n",
       "    </tr>\n",
       "    <tr>\n",
       "      <th>6189</th>\n",
       "      <td>솔송나무</td>\n",
       "      <td>24.0</td>\n",
       "      <td>Excellent</td>\n",
       "      <td>TSCA</td>\n",
       "    </tr>\n",
       "    <tr>\n",
       "      <th>6190</th>\n",
       "      <td>솔송나무</td>\n",
       "      <td>20.0</td>\n",
       "      <td>Excellent</td>\n",
       "      <td>TSCA</td>\n",
       "    </tr>\n",
       "    <tr>\n",
       "      <th>6191</th>\n",
       "      <td>피나무</td>\n",
       "      <td>60.0</td>\n",
       "      <td>Excellent</td>\n",
       "      <td>TIAM1</td>\n",
       "    </tr>\n",
       "    <tr>\n",
       "      <th>6192</th>\n",
       "      <td>피나무</td>\n",
       "      <td>40.0</td>\n",
       "      <td>Excellent</td>\n",
       "      <td>TIAM1</td>\n",
       "    </tr>\n",
       "    <tr>\n",
       "      <th>6193</th>\n",
       "      <td>피나무</td>\n",
       "      <td>27.0</td>\n",
       "      <td>Excellent</td>\n",
       "      <td>TIAM1</td>\n",
       "    </tr>\n",
       "    <tr>\n",
       "      <th>6194</th>\n",
       "      <td>피나무</td>\n",
       "      <td>26.0</td>\n",
       "      <td>Excellent</td>\n",
       "      <td>TIAM1</td>\n",
       "    </tr>\n",
       "    <tr>\n",
       "      <th>6195</th>\n",
       "      <td>피나무</td>\n",
       "      <td>30.0</td>\n",
       "      <td>Excellent</td>\n",
       "      <td>TIAM1</td>\n",
       "    </tr>\n",
       "    <tr>\n",
       "      <th>6196</th>\n",
       "      <td>백일홍</td>\n",
       "      <td>20.0</td>\n",
       "      <td>Excellent</td>\n",
       "      <td>COGL</td>\n",
       "    </tr>\n",
       "    <tr>\n",
       "      <th>6197</th>\n",
       "      <td>백일홍</td>\n",
       "      <td>25.0</td>\n",
       "      <td>Excellent</td>\n",
       "      <td>COGL</td>\n",
       "    </tr>\n",
       "    <tr>\n",
       "      <th>6198</th>\n",
       "      <td>백일홍</td>\n",
       "      <td>28.0</td>\n",
       "      <td>Excellent</td>\n",
       "      <td>COGL</td>\n",
       "    </tr>\n",
       "    <tr>\n",
       "      <th>6199</th>\n",
       "      <td>양버들</td>\n",
       "      <td>48.0</td>\n",
       "      <td>Excellent</td>\n",
       "      <td>SAGR</td>\n",
       "    </tr>\n",
       "    <tr>\n",
       "      <th>6200</th>\n",
       "      <td>송양나무</td>\n",
       "      <td>23.0</td>\n",
       "      <td>Excellent</td>\n",
       "      <td>EHAC</td>\n",
       "    </tr>\n",
       "    <tr>\n",
       "      <th>6201</th>\n",
       "      <td>송양나무</td>\n",
       "      <td>28.0</td>\n",
       "      <td>Excellent</td>\n",
       "      <td>EHAC</td>\n",
       "    </tr>\n",
       "    <tr>\n",
       "      <th>6202</th>\n",
       "      <td>복나무</td>\n",
       "      <td>20.0</td>\n",
       "      <td>Excellent</td>\n",
       "      <td>GASU</td>\n",
       "    </tr>\n",
       "  </tbody>\n",
       "</table>\n",
       "<p>6203 rows × 4 columns</p>\n",
       "</div>"
      ],
      "text/plain": [
       "         수목명  흉고지름  Condition   Value\n",
       "0       회화나무  15.0       Fair    SOJA\n",
       "1       회화나무  26.0  Excellent    SOJA\n",
       "2       회화나무  30.0  Excellent    SOJA\n",
       "3       회화나무  21.0  Excellent    SOJA\n",
       "4       회화나무  22.0  Excellent    SOJA\n",
       "5       회화나무  31.0  Excellent    SOJA\n",
       "6       회화나무  23.0  Excellent    SOJA\n",
       "7       회화나무  27.0  Excellent    SOJA\n",
       "8       회화나무  38.0  Excellent    SOJA\n",
       "9       회화나무  24.0  Excellent    SOJA\n",
       "10      회화나무  29.0  Excellent    SOJA\n",
       "11      회화나무  28.0  Excellent    SOJA\n",
       "12      회화나무  25.0  Excellent    SOJA\n",
       "13      회화나무  36.0  Excellent    SOJA\n",
       "14      회화나무  33.0  Excellent    SOJA\n",
       "15      회화나무  40.0  Excellent    SOJA\n",
       "16      회화나무  32.0  Excellent    SOJA\n",
       "17      회화나무  41.0  Excellent    SOJA\n",
       "18      회화나무  24.0       Fair    SOJA\n",
       "19      회화나무  12.0       Fair    SOJA\n",
       "20      회화나무  34.0  Excellent    SOJA\n",
       "21      회화나무  18.0       Fair    SOJA\n",
       "22      회화나무  26.0       Fair    SOJA\n",
       "23      회화나무  17.0       Fair    SOJA\n",
       "24      회화나무  22.0       Fair    SOJA\n",
       "25      회화나무  10.0       Fair    SOJA\n",
       "26      회화나무  16.0       Fair    SOJA\n",
       "27      회화나무  11.0       Fair    SOJA\n",
       "28      회화나무  19.0       Fair    SOJA\n",
       "29      회화나무  13.0       Fair    SOJA\n",
       "...      ...   ...        ...     ...\n",
       "6173   참빗살나무  26.0       Poor   EUHA9\n",
       "6174   참빗살나무  20.0       Poor   EUHA9\n",
       "6175   참빗살나무  22.0  Excellent   EUHA9\n",
       "6176  루브라참나무  22.0       Poor   QUAL3\n",
       "6177  루브라참나무  20.0       Poor   QUAL3\n",
       "6178    쥐똥나무  32.0       Poor    LIOB\n",
       "6179    능금나무  22.0       Poor    PYAN\n",
       "6180     신단풍  25.0  Excellent  ACPADI\n",
       "6181     신단풍  40.0  Excellent  ACPADI\n",
       "6182     신단풍  20.0  Excellent  ACPADI\n",
       "6183     신단풍  26.0  Excellent  ACPADI\n",
       "6184     신단풍  24.0  Excellent  ACPADI\n",
       "6185     신단풍  22.0  Excellent  ACPADI\n",
       "6186     신단풍  21.0  Excellent  ACPADI\n",
       "6187     신단풍  23.0  Excellent  ACPADI\n",
       "6188    솔송나무  23.0  Excellent    TSCA\n",
       "6189    솔송나무  24.0  Excellent    TSCA\n",
       "6190    솔송나무  20.0  Excellent    TSCA\n",
       "6191     피나무  60.0  Excellent   TIAM1\n",
       "6192     피나무  40.0  Excellent   TIAM1\n",
       "6193     피나무  27.0  Excellent   TIAM1\n",
       "6194     피나무  26.0  Excellent   TIAM1\n",
       "6195     피나무  30.0  Excellent   TIAM1\n",
       "6196     백일홍  20.0  Excellent    COGL\n",
       "6197     백일홍  25.0  Excellent    COGL\n",
       "6198     백일홍  28.0  Excellent    COGL\n",
       "6199     양버들  48.0  Excellent    SAGR\n",
       "6200    송양나무  23.0  Excellent    EHAC\n",
       "6201    송양나무  28.0  Excellent    EHAC\n",
       "6202     복나무  20.0  Excellent    GASU\n",
       "\n",
       "[6203 rows x 4 columns]"
      ]
     },
     "execution_count": 19,
     "metadata": {},
     "output_type": "execute_result"
    }
   ],
   "source": [
    "data"
   ]
  },
  {
   "cell_type": "code",
   "execution_count": 20,
   "metadata": {},
   "outputs": [
    {
     "data": {
      "text/plain": [
       "(6203, 6203)"
      ]
     },
     "execution_count": 20,
     "metadata": {},
     "output_type": "execute_result"
    }
   ],
   "source": [
    "len(Itrees),len(data)"
   ]
  },
  {
   "cell_type": "markdown",
   "metadata": {},
   "source": [
    "먼저 해당 지역에 있는 나무 Value 추출"
   ]
  },
  {
   "cell_type": "code",
   "execution_count": 294,
   "metadata": {},
   "outputs": [],
   "source": [
    "values = [_.get_attribute(\"value\") for _ in driver.find_elements_by_xpath(\"//select[@class='tree-species']//option\")]"
   ]
  },
  {
   "cell_type": "code",
   "execution_count": 22,
   "metadata": {
    "collapsed": true
   },
   "outputs": [
    {
     "data": {
      "text/plain": [
       "['AL',\n",
       " 'MA2',\n",
       " 'FR',\n",
       " 'FRNI',\n",
       " 'FRPE',\n",
       " 'SO',\n",
       " 'FRAM',\n",
       " 'POTR1',\n",
       " 'TI',\n",
       " 'TIAM',\n",
       " 'BE',\n",
       " 'BEPA',\n",
       " 'BENI',\n",
       " 'ACNE',\n",
       " 'AEGL',\n",
       " 'RHSP2',\n",
       " 'CA3',\n",
       " 'CASP',\n",
       " 'JUVI',\n",
       " 'THOC',\n",
       " 'PRSE1',\n",
       " 'PRSE2',\n",
       " 'CADE',\n",
       " 'PRVI',\n",
       " 'GYDI',\n",
       " 'PHAM',\n",
       " 'PO',\n",
       " 'PODE',\n",
       " 'CO1',\n",
       " 'COFL',\n",
       " 'ULS',\n",
       " 'ULAM',\n",
       " 'ULPA',\n",
       " 'ULPU',\n",
       " 'GIBI',\n",
       " 'CEOC',\n",
       " 'TSCA',\n",
       " 'CA1',\n",
       " 'ILSP',\n",
       " 'ILOP',\n",
       " 'GLTR',\n",
       " 'OSVI',\n",
       " 'JU',\n",
       " 'SYSP',\n",
       " 'SYRE',\n",
       " 'TICO',\n",
       " 'ROPS',\n",
       " 'MAGR',\n",
       " 'AC',\n",
       " 'ACGI',\n",
       " 'ACNI',\n",
       " 'ACPA',\n",
       " 'ACPL',\n",
       " 'ACRU',\n",
       " 'ACSA1',\n",
       " 'ACSA2',\n",
       " 'ALJU',\n",
       " 'MO',\n",
       " 'MOAL',\n",
       " 'QU',\n",
       " 'QUMA1',\n",
       " 'QUEL',\n",
       " 'QURU',\n",
       " 'QUPA',\n",
       " 'QUCO',\n",
       " 'QUBI',\n",
       " 'QUNI',\n",
       " 'QUAL',\n",
       " 'PY',\n",
       " 'PYCA',\n",
       " 'PINI',\n",
       " 'PICO5',\n",
       " 'PIST',\n",
       " 'PIPO',\n",
       " 'PIRE',\n",
       " 'PISY',\n",
       " 'PIVI',\n",
       " 'PR',\n",
       " 'PRCE',\n",
       " 'PONI',\n",
       " 'CECA',\n",
       " 'HISY',\n",
       " 'PI1',\n",
       " 'PIMA',\n",
       " 'PIPU',\n",
       " 'PIAB',\n",
       " 'RHSP',\n",
       " 'MAVI',\n",
       " 'LIST',\n",
       " 'PLOC',\n",
       " 'LITU',\n",
       " 'JUNI',\n",
       " 'SA',\n",
       " 'SADI',\n",
       " 'CLLU']"
      ]
     },
     "execution_count": 22,
     "metadata": {},
     "output_type": "execute_result"
    }
   ],
   "source": [
    "values"
   ]
  },
  {
   "cell_type": "code",
   "execution_count": 295,
   "metadata": {},
   "outputs": [],
   "source": [
    "matching = list()\n",
    "for i in k_tree.iterrows():\n",
    "    if i[1][\"Value\"] in values:\n",
    "        matching.append(i[1][\"Value\"])"
   ]
  },
  {
   "cell_type": "code",
   "execution_count": 24,
   "metadata": {},
   "outputs": [
    {
     "data": {
      "text/plain": [
       "['GIBI',\n",
       " 'LITU',\n",
       " 'ACPA',\n",
       " 'ROPS',\n",
       " 'PLOC',\n",
       " 'PIST',\n",
       " 'PODE',\n",
       " 'ALJU',\n",
       " 'QUPA',\n",
       " 'PIAB',\n",
       " 'ACSA1',\n",
       " 'PODE',\n",
       " 'ULPA',\n",
       " 'THOC',\n",
       " 'HISY',\n",
       " 'ULPU',\n",
       " 'ACSA2',\n",
       " 'PHAM',\n",
       " 'TSCA']"
      ]
     },
     "execution_count": 24,
     "metadata": {},
     "output_type": "execute_result"
    }
   ],
   "source": [
    "matching"
   ]
  },
  {
   "cell_type": "markdown",
   "metadata": {},
   "source": [
    "선택된 지역에서 사용될 data"
   ]
  },
  {
   "cell_type": "code",
   "execution_count": 296,
   "metadata": {},
   "outputs": [],
   "source": [
    "input_data = pd.DataFrame(columns=data.columns)\n",
    "for i in data.iterrows():\n",
    "    if i[1][3] in matching:\n",
    "        input_data = input_data.append(i[1], ignore_index=True)"
   ]
  },
  {
   "cell_type": "code",
   "execution_count": 86,
   "metadata": {
    "scrolled": true
   },
   "outputs": [
    {
     "data": {
      "text/html": [
       "<div>\n",
       "<style scoped>\n",
       "    .dataframe tbody tr th:only-of-type {\n",
       "        vertical-align: middle;\n",
       "    }\n",
       "\n",
       "    .dataframe tbody tr th {\n",
       "        vertical-align: top;\n",
       "    }\n",
       "\n",
       "    .dataframe thead th {\n",
       "        text-align: right;\n",
       "    }\n",
       "</style>\n",
       "<table border=\"1\" class=\"dataframe\">\n",
       "  <thead>\n",
       "    <tr style=\"text-align: right;\">\n",
       "      <th></th>\n",
       "      <th>수목명</th>\n",
       "      <th>흉고지름</th>\n",
       "      <th>Condition</th>\n",
       "      <th>Value</th>\n",
       "    </tr>\n",
       "  </thead>\n",
       "  <tbody>\n",
       "    <tr>\n",
       "      <th>0</th>\n",
       "      <td>은행나무</td>\n",
       "      <td>32.0</td>\n",
       "      <td>Excellent</td>\n",
       "      <td>GIBI</td>\n",
       "    </tr>\n",
       "    <tr>\n",
       "      <th>1</th>\n",
       "      <td>은행나무</td>\n",
       "      <td>31.0</td>\n",
       "      <td>Excellent</td>\n",
       "      <td>GIBI</td>\n",
       "    </tr>\n",
       "    <tr>\n",
       "      <th>2</th>\n",
       "      <td>은행나무</td>\n",
       "      <td>30.0</td>\n",
       "      <td>Excellent</td>\n",
       "      <td>GIBI</td>\n",
       "    </tr>\n",
       "    <tr>\n",
       "      <th>3</th>\n",
       "      <td>은행나무</td>\n",
       "      <td>22.0</td>\n",
       "      <td>Excellent</td>\n",
       "      <td>GIBI</td>\n",
       "    </tr>\n",
       "    <tr>\n",
       "      <th>4</th>\n",
       "      <td>은행나무</td>\n",
       "      <td>24.0</td>\n",
       "      <td>Excellent</td>\n",
       "      <td>GIBI</td>\n",
       "    </tr>\n",
       "    <tr>\n",
       "      <th>5</th>\n",
       "      <td>은행나무</td>\n",
       "      <td>21.0</td>\n",
       "      <td>Excellent</td>\n",
       "      <td>GIBI</td>\n",
       "    </tr>\n",
       "    <tr>\n",
       "      <th>6</th>\n",
       "      <td>은행나무</td>\n",
       "      <td>29.0</td>\n",
       "      <td>Excellent</td>\n",
       "      <td>GIBI</td>\n",
       "    </tr>\n",
       "    <tr>\n",
       "      <th>7</th>\n",
       "      <td>은행나무</td>\n",
       "      <td>26.0</td>\n",
       "      <td>Excellent</td>\n",
       "      <td>GIBI</td>\n",
       "    </tr>\n",
       "    <tr>\n",
       "      <th>8</th>\n",
       "      <td>은행나무</td>\n",
       "      <td>25.0</td>\n",
       "      <td>Excellent</td>\n",
       "      <td>GIBI</td>\n",
       "    </tr>\n",
       "    <tr>\n",
       "      <th>9</th>\n",
       "      <td>은행나무</td>\n",
       "      <td>28.0</td>\n",
       "      <td>Excellent</td>\n",
       "      <td>GIBI</td>\n",
       "    </tr>\n",
       "    <tr>\n",
       "      <th>10</th>\n",
       "      <td>은행나무</td>\n",
       "      <td>21.0</td>\n",
       "      <td>Poor</td>\n",
       "      <td>GIBI</td>\n",
       "    </tr>\n",
       "    <tr>\n",
       "      <th>11</th>\n",
       "      <td>은행나무</td>\n",
       "      <td>35.0</td>\n",
       "      <td>Excellent</td>\n",
       "      <td>GIBI</td>\n",
       "    </tr>\n",
       "    <tr>\n",
       "      <th>12</th>\n",
       "      <td>은행나무</td>\n",
       "      <td>23.0</td>\n",
       "      <td>Excellent</td>\n",
       "      <td>GIBI</td>\n",
       "    </tr>\n",
       "    <tr>\n",
       "      <th>13</th>\n",
       "      <td>은행나무</td>\n",
       "      <td>27.0</td>\n",
       "      <td>Excellent</td>\n",
       "      <td>GIBI</td>\n",
       "    </tr>\n",
       "    <tr>\n",
       "      <th>14</th>\n",
       "      <td>은행나무</td>\n",
       "      <td>40.0</td>\n",
       "      <td>Excellent</td>\n",
       "      <td>GIBI</td>\n",
       "    </tr>\n",
       "    <tr>\n",
       "      <th>15</th>\n",
       "      <td>은행나무</td>\n",
       "      <td>37.0</td>\n",
       "      <td>Excellent</td>\n",
       "      <td>GIBI</td>\n",
       "    </tr>\n",
       "    <tr>\n",
       "      <th>16</th>\n",
       "      <td>은행나무</td>\n",
       "      <td>34.0</td>\n",
       "      <td>Excellent</td>\n",
       "      <td>GIBI</td>\n",
       "    </tr>\n",
       "    <tr>\n",
       "      <th>17</th>\n",
       "      <td>은행나무</td>\n",
       "      <td>39.0</td>\n",
       "      <td>Excellent</td>\n",
       "      <td>GIBI</td>\n",
       "    </tr>\n",
       "    <tr>\n",
       "      <th>18</th>\n",
       "      <td>은행나무</td>\n",
       "      <td>33.0</td>\n",
       "      <td>Excellent</td>\n",
       "      <td>GIBI</td>\n",
       "    </tr>\n",
       "    <tr>\n",
       "      <th>19</th>\n",
       "      <td>은행나무</td>\n",
       "      <td>36.0</td>\n",
       "      <td>Excellent</td>\n",
       "      <td>GIBI</td>\n",
       "    </tr>\n",
       "    <tr>\n",
       "      <th>20</th>\n",
       "      <td>은행나무</td>\n",
       "      <td>38.0</td>\n",
       "      <td>Excellent</td>\n",
       "      <td>GIBI</td>\n",
       "    </tr>\n",
       "    <tr>\n",
       "      <th>21</th>\n",
       "      <td>은행나무</td>\n",
       "      <td>42.0</td>\n",
       "      <td>Excellent</td>\n",
       "      <td>GIBI</td>\n",
       "    </tr>\n",
       "    <tr>\n",
       "      <th>22</th>\n",
       "      <td>은행나무</td>\n",
       "      <td>43.0</td>\n",
       "      <td>Excellent</td>\n",
       "      <td>GIBI</td>\n",
       "    </tr>\n",
       "    <tr>\n",
       "      <th>23</th>\n",
       "      <td>은행나무</td>\n",
       "      <td>60.0</td>\n",
       "      <td>Excellent</td>\n",
       "      <td>GIBI</td>\n",
       "    </tr>\n",
       "    <tr>\n",
       "      <th>24</th>\n",
       "      <td>은행나무</td>\n",
       "      <td>83.0</td>\n",
       "      <td>Excellent</td>\n",
       "      <td>GIBI</td>\n",
       "    </tr>\n",
       "    <tr>\n",
       "      <th>25</th>\n",
       "      <td>은행나무</td>\n",
       "      <td>14.0</td>\n",
       "      <td>Fair</td>\n",
       "      <td>GIBI</td>\n",
       "    </tr>\n",
       "    <tr>\n",
       "      <th>26</th>\n",
       "      <td>은행나무</td>\n",
       "      <td>18.0</td>\n",
       "      <td>Fair</td>\n",
       "      <td>GIBI</td>\n",
       "    </tr>\n",
       "    <tr>\n",
       "      <th>27</th>\n",
       "      <td>은행나무</td>\n",
       "      <td>6.0</td>\n",
       "      <td>Fair</td>\n",
       "      <td>GIBI</td>\n",
       "    </tr>\n",
       "    <tr>\n",
       "      <th>28</th>\n",
       "      <td>은행나무</td>\n",
       "      <td>20.0</td>\n",
       "      <td>Fair</td>\n",
       "      <td>GIBI</td>\n",
       "    </tr>\n",
       "    <tr>\n",
       "      <th>29</th>\n",
       "      <td>은행나무</td>\n",
       "      <td>10.0</td>\n",
       "      <td>Fair</td>\n",
       "      <td>GIBI</td>\n",
       "    </tr>\n",
       "    <tr>\n",
       "      <th>...</th>\n",
       "      <td>...</td>\n",
       "      <td>...</td>\n",
       "      <td>...</td>\n",
       "      <td>...</td>\n",
       "    </tr>\n",
       "    <tr>\n",
       "      <th>1205</th>\n",
       "      <td>무궁화</td>\n",
       "      <td>9.0</td>\n",
       "      <td>Fair</td>\n",
       "      <td>HISY</td>\n",
       "    </tr>\n",
       "    <tr>\n",
       "      <th>1206</th>\n",
       "      <td>비술나무</td>\n",
       "      <td>35.0</td>\n",
       "      <td>Excellent</td>\n",
       "      <td>ULPU</td>\n",
       "    </tr>\n",
       "    <tr>\n",
       "      <th>1207</th>\n",
       "      <td>비술나무</td>\n",
       "      <td>36.0</td>\n",
       "      <td>Excellent</td>\n",
       "      <td>ULPU</td>\n",
       "    </tr>\n",
       "    <tr>\n",
       "      <th>1208</th>\n",
       "      <td>비술나무</td>\n",
       "      <td>42.0</td>\n",
       "      <td>Excellent</td>\n",
       "      <td>ULPU</td>\n",
       "    </tr>\n",
       "    <tr>\n",
       "      <th>1209</th>\n",
       "      <td>비술나무</td>\n",
       "      <td>21.0</td>\n",
       "      <td>Excellent</td>\n",
       "      <td>ULPU</td>\n",
       "    </tr>\n",
       "    <tr>\n",
       "      <th>1210</th>\n",
       "      <td>비술나무</td>\n",
       "      <td>55.0</td>\n",
       "      <td>Excellent</td>\n",
       "      <td>ULPU</td>\n",
       "    </tr>\n",
       "    <tr>\n",
       "      <th>1211</th>\n",
       "      <td>비술나무</td>\n",
       "      <td>39.0</td>\n",
       "      <td>Excellent</td>\n",
       "      <td>ULPU</td>\n",
       "    </tr>\n",
       "    <tr>\n",
       "      <th>1212</th>\n",
       "      <td>비술나무</td>\n",
       "      <td>38.0</td>\n",
       "      <td>Excellent</td>\n",
       "      <td>ULPU</td>\n",
       "    </tr>\n",
       "    <tr>\n",
       "      <th>1213</th>\n",
       "      <td>비술나무</td>\n",
       "      <td>33.0</td>\n",
       "      <td>Excellent</td>\n",
       "      <td>ULPU</td>\n",
       "    </tr>\n",
       "    <tr>\n",
       "      <th>1214</th>\n",
       "      <td>비술나무</td>\n",
       "      <td>30.0</td>\n",
       "      <td>Excellent</td>\n",
       "      <td>ULPU</td>\n",
       "    </tr>\n",
       "    <tr>\n",
       "      <th>1215</th>\n",
       "      <td>비술나무</td>\n",
       "      <td>45.0</td>\n",
       "      <td>Excellent</td>\n",
       "      <td>ULPU</td>\n",
       "    </tr>\n",
       "    <tr>\n",
       "      <th>1216</th>\n",
       "      <td>비술나무</td>\n",
       "      <td>65.0</td>\n",
       "      <td>Excellent</td>\n",
       "      <td>ULPU</td>\n",
       "    </tr>\n",
       "    <tr>\n",
       "      <th>1217</th>\n",
       "      <td>설탕단풍</td>\n",
       "      <td>26.0</td>\n",
       "      <td>Poor</td>\n",
       "      <td>ACSA2</td>\n",
       "    </tr>\n",
       "    <tr>\n",
       "      <th>1218</th>\n",
       "      <td>설탕단풍</td>\n",
       "      <td>21.0</td>\n",
       "      <td>Poor</td>\n",
       "      <td>ACSA2</td>\n",
       "    </tr>\n",
       "    <tr>\n",
       "      <th>1219</th>\n",
       "      <td>설탕단풍</td>\n",
       "      <td>20.0</td>\n",
       "      <td>Poor</td>\n",
       "      <td>ACSA2</td>\n",
       "    </tr>\n",
       "    <tr>\n",
       "      <th>1220</th>\n",
       "      <td>설탕단풍</td>\n",
       "      <td>31.0</td>\n",
       "      <td>Poor</td>\n",
       "      <td>ACSA2</td>\n",
       "    </tr>\n",
       "    <tr>\n",
       "      <th>1221</th>\n",
       "      <td>설탕단풍</td>\n",
       "      <td>29.0</td>\n",
       "      <td>Poor</td>\n",
       "      <td>ACSA2</td>\n",
       "    </tr>\n",
       "    <tr>\n",
       "      <th>1222</th>\n",
       "      <td>설탕단풍</td>\n",
       "      <td>24.0</td>\n",
       "      <td>Poor</td>\n",
       "      <td>ACSA2</td>\n",
       "    </tr>\n",
       "    <tr>\n",
       "      <th>1223</th>\n",
       "      <td>설탕단풍</td>\n",
       "      <td>22.0</td>\n",
       "      <td>Poor</td>\n",
       "      <td>ACSA2</td>\n",
       "    </tr>\n",
       "    <tr>\n",
       "      <th>1224</th>\n",
       "      <td>설탕단풍</td>\n",
       "      <td>25.0</td>\n",
       "      <td>Poor</td>\n",
       "      <td>ACSA2</td>\n",
       "    </tr>\n",
       "    <tr>\n",
       "      <th>1225</th>\n",
       "      <td>설탕단풍</td>\n",
       "      <td>23.0</td>\n",
       "      <td>Poor</td>\n",
       "      <td>ACSA2</td>\n",
       "    </tr>\n",
       "    <tr>\n",
       "      <th>1226</th>\n",
       "      <td>설탕단풍</td>\n",
       "      <td>37.0</td>\n",
       "      <td>Poor</td>\n",
       "      <td>ACSA2</td>\n",
       "    </tr>\n",
       "    <tr>\n",
       "      <th>1227</th>\n",
       "      <td>설탕단풍</td>\n",
       "      <td>28.0</td>\n",
       "      <td>Poor</td>\n",
       "      <td>ACSA2</td>\n",
       "    </tr>\n",
       "    <tr>\n",
       "      <th>1228</th>\n",
       "      <td>설탕단풍</td>\n",
       "      <td>34.0</td>\n",
       "      <td>Poor</td>\n",
       "      <td>ACSA2</td>\n",
       "    </tr>\n",
       "    <tr>\n",
       "      <th>1229</th>\n",
       "      <td>황벽나무</td>\n",
       "      <td>29.0</td>\n",
       "      <td>Poor</td>\n",
       "      <td>PHAM</td>\n",
       "    </tr>\n",
       "    <tr>\n",
       "      <th>1230</th>\n",
       "      <td>황벽나무</td>\n",
       "      <td>22.0</td>\n",
       "      <td>Poor</td>\n",
       "      <td>PHAM</td>\n",
       "    </tr>\n",
       "    <tr>\n",
       "      <th>1231</th>\n",
       "      <td>황벽나무</td>\n",
       "      <td>21.0</td>\n",
       "      <td>Poor</td>\n",
       "      <td>PHAM</td>\n",
       "    </tr>\n",
       "    <tr>\n",
       "      <th>1232</th>\n",
       "      <td>솔송나무</td>\n",
       "      <td>23.0</td>\n",
       "      <td>Excellent</td>\n",
       "      <td>TSCA</td>\n",
       "    </tr>\n",
       "    <tr>\n",
       "      <th>1233</th>\n",
       "      <td>솔송나무</td>\n",
       "      <td>24.0</td>\n",
       "      <td>Excellent</td>\n",
       "      <td>TSCA</td>\n",
       "    </tr>\n",
       "    <tr>\n",
       "      <th>1234</th>\n",
       "      <td>솔송나무</td>\n",
       "      <td>20.0</td>\n",
       "      <td>Excellent</td>\n",
       "      <td>TSCA</td>\n",
       "    </tr>\n",
       "  </tbody>\n",
       "</table>\n",
       "<p>1235 rows × 4 columns</p>\n",
       "</div>"
      ],
      "text/plain": [
       "       수목명  흉고지름  Condition  Value\n",
       "0     은행나무  32.0  Excellent   GIBI\n",
       "1     은행나무  31.0  Excellent   GIBI\n",
       "2     은행나무  30.0  Excellent   GIBI\n",
       "3     은행나무  22.0  Excellent   GIBI\n",
       "4     은행나무  24.0  Excellent   GIBI\n",
       "5     은행나무  21.0  Excellent   GIBI\n",
       "6     은행나무  29.0  Excellent   GIBI\n",
       "7     은행나무  26.0  Excellent   GIBI\n",
       "8     은행나무  25.0  Excellent   GIBI\n",
       "9     은행나무  28.0  Excellent   GIBI\n",
       "10    은행나무  21.0       Poor   GIBI\n",
       "11    은행나무  35.0  Excellent   GIBI\n",
       "12    은행나무  23.0  Excellent   GIBI\n",
       "13    은행나무  27.0  Excellent   GIBI\n",
       "14    은행나무  40.0  Excellent   GIBI\n",
       "15    은행나무  37.0  Excellent   GIBI\n",
       "16    은행나무  34.0  Excellent   GIBI\n",
       "17    은행나무  39.0  Excellent   GIBI\n",
       "18    은행나무  33.0  Excellent   GIBI\n",
       "19    은행나무  36.0  Excellent   GIBI\n",
       "20    은행나무  38.0  Excellent   GIBI\n",
       "21    은행나무  42.0  Excellent   GIBI\n",
       "22    은행나무  43.0  Excellent   GIBI\n",
       "23    은행나무  60.0  Excellent   GIBI\n",
       "24    은행나무  83.0  Excellent   GIBI\n",
       "25    은행나무  14.0       Fair   GIBI\n",
       "26    은행나무  18.0       Fair   GIBI\n",
       "27    은행나무   6.0       Fair   GIBI\n",
       "28    은행나무  20.0       Fair   GIBI\n",
       "29    은행나무  10.0       Fair   GIBI\n",
       "...    ...   ...        ...    ...\n",
       "1205   무궁화   9.0       Fair   HISY\n",
       "1206  비술나무  35.0  Excellent   ULPU\n",
       "1207  비술나무  36.0  Excellent   ULPU\n",
       "1208  비술나무  42.0  Excellent   ULPU\n",
       "1209  비술나무  21.0  Excellent   ULPU\n",
       "1210  비술나무  55.0  Excellent   ULPU\n",
       "1211  비술나무  39.0  Excellent   ULPU\n",
       "1212  비술나무  38.0  Excellent   ULPU\n",
       "1213  비술나무  33.0  Excellent   ULPU\n",
       "1214  비술나무  30.0  Excellent   ULPU\n",
       "1215  비술나무  45.0  Excellent   ULPU\n",
       "1216  비술나무  65.0  Excellent   ULPU\n",
       "1217  설탕단풍  26.0       Poor  ACSA2\n",
       "1218  설탕단풍  21.0       Poor  ACSA2\n",
       "1219  설탕단풍  20.0       Poor  ACSA2\n",
       "1220  설탕단풍  31.0       Poor  ACSA2\n",
       "1221  설탕단풍  29.0       Poor  ACSA2\n",
       "1222  설탕단풍  24.0       Poor  ACSA2\n",
       "1223  설탕단풍  22.0       Poor  ACSA2\n",
       "1224  설탕단풍  25.0       Poor  ACSA2\n",
       "1225  설탕단풍  23.0       Poor  ACSA2\n",
       "1226  설탕단풍  37.0       Poor  ACSA2\n",
       "1227  설탕단풍  28.0       Poor  ACSA2\n",
       "1228  설탕단풍  34.0       Poor  ACSA2\n",
       "1229  황벽나무  29.0       Poor   PHAM\n",
       "1230  황벽나무  22.0       Poor   PHAM\n",
       "1231  황벽나무  21.0       Poor   PHAM\n",
       "1232  솔송나무  23.0  Excellent   TSCA\n",
       "1233  솔송나무  24.0  Excellent   TSCA\n",
       "1234  솔송나무  20.0  Excellent   TSCA\n",
       "\n",
       "[1235 rows x 4 columns]"
      ]
     },
     "execution_count": 86,
     "metadata": {},
     "output_type": "execute_result"
    }
   ],
   "source": [
    "input_data"
   ]
  },
  {
   "cell_type": "markdown",
   "metadata": {},
   "source": [
    "선택된 지역에서 사용하지 못하는 data"
   ]
  },
  {
   "cell_type": "code",
   "execution_count": 297,
   "metadata": {},
   "outputs": [],
   "source": [
    "not_input_data = pd.DataFrame(columns=data.columns)\n",
    "for i in data.iterrows():\n",
    "    if i[1][3] not in matching:\n",
    "        not_input_data = not_input_data.append(i[1], ignore_index=True)"
   ]
  },
  {
   "cell_type": "code",
   "execution_count": 323,
   "metadata": {},
   "outputs": [
    {
     "data": {
      "text/html": [
       "<div>\n",
       "<style scoped>\n",
       "    .dataframe tbody tr th:only-of-type {\n",
       "        vertical-align: middle;\n",
       "    }\n",
       "\n",
       "    .dataframe tbody tr th {\n",
       "        vertical-align: top;\n",
       "    }\n",
       "\n",
       "    .dataframe thead th {\n",
       "        text-align: right;\n",
       "    }\n",
       "</style>\n",
       "<table border=\"1\" class=\"dataframe\">\n",
       "  <thead>\n",
       "    <tr style=\"text-align: right;\">\n",
       "      <th></th>\n",
       "      <th>수목명</th>\n",
       "      <th>흉고지름</th>\n",
       "      <th>Condition</th>\n",
       "      <th>Value</th>\n",
       "    </tr>\n",
       "  </thead>\n",
       "  <tbody>\n",
       "    <tr>\n",
       "      <th>0</th>\n",
       "      <td>회화나무</td>\n",
       "      <td>15.0</td>\n",
       "      <td>Fair</td>\n",
       "      <td>SOJA</td>\n",
       "    </tr>\n",
       "    <tr>\n",
       "      <th>1</th>\n",
       "      <td>회화나무</td>\n",
       "      <td>26.0</td>\n",
       "      <td>Excellent</td>\n",
       "      <td>SOJA</td>\n",
       "    </tr>\n",
       "    <tr>\n",
       "      <th>2</th>\n",
       "      <td>회화나무</td>\n",
       "      <td>30.0</td>\n",
       "      <td>Excellent</td>\n",
       "      <td>SOJA</td>\n",
       "    </tr>\n",
       "    <tr>\n",
       "      <th>3</th>\n",
       "      <td>회화나무</td>\n",
       "      <td>21.0</td>\n",
       "      <td>Excellent</td>\n",
       "      <td>SOJA</td>\n",
       "    </tr>\n",
       "    <tr>\n",
       "      <th>4</th>\n",
       "      <td>회화나무</td>\n",
       "      <td>22.0</td>\n",
       "      <td>Excellent</td>\n",
       "      <td>SOJA</td>\n",
       "    </tr>\n",
       "  </tbody>\n",
       "</table>\n",
       "</div>"
      ],
      "text/plain": [
       "    수목명  흉고지름  Condition Value\n",
       "0  회화나무  15.0       Fair  SOJA\n",
       "1  회화나무  26.0  Excellent  SOJA\n",
       "2  회화나무  30.0  Excellent  SOJA\n",
       "3  회화나무  21.0  Excellent  SOJA\n",
       "4  회화나무  22.0  Excellent  SOJA"
      ]
     },
     "execution_count": 323,
     "metadata": {},
     "output_type": "execute_result"
    }
   ],
   "source": [
    "not_input_data.head()"
   ]
  },
  {
   "cell_type": "markdown",
   "metadata": {},
   "source": [
    "#### 데이터 추출"
   ]
  },
  {
   "cell_type": "code",
   "execution_count": 87,
   "metadata": {},
   "outputs": [],
   "source": [
    "input_data = input_data.head(35).copy()"
   ]
  },
  {
   "cell_type": "code",
   "execution_count": 298,
   "metadata": {},
   "outputs": [],
   "source": [
    "j = 1\n",
    "for i in input_data[:10].iterrows():\n",
    "    driver.find_element_by_xpath(\"//tr[@id='row-{0}']//select[@class='tree-species']/option[@value='{1}']\".format(j, i[1][3])).click()\n",
    "    driver.find_element_by_xpath(\"//tr[@id='row-{0}']//input[@class='tree-dbh']\".format(j)).clear()\n",
    "    driver.find_element_by_xpath(\"//tr[@id='row-{0}']//input[@class='tree-dbh']\".format(j)).send_keys(\"{}\".format(i[1][1]))\n",
    "    driver.find_element_by_xpath(\"//tr[@id='row-{0}']//select[@class='tree-condition']//option[@value='{1}']\".format(j,i[1][2])).click()\n",
    "\n",
    "    driver.find_element_by_xpath(\"//div[@id='trees']//input[@id='add-row-button']\").click()\n",
    "    j += 1\n",
    "\n",
    "driver.find_element_by_xpath(\"//tr[@id='row-11']//input[@type='button']\").click()\n",
    "    \n",
    "driver.find_element_by_xpath(\"//div[@id='trees']/button[@class='next btn btn-primary']\").click()\n",
    "time.sleep(15)\n",
    "driver.find_element_by_xpath(\"//a[@class='btn btn-default buttons-csv buttons-html5 btn-primary']\").click()"
   ]
  },
  {
   "cell_type": "code",
   "execution_count": 299,
   "metadata": {},
   "outputs": [],
   "source": [
    "for q in range(10, len(input_data[:])-9, 10):\n",
    "    j = 1\n",
    "    time.sleep(3)\n",
    "    driver.find_element_by_xpath(\"//a[@href='#trees']\").click()\n",
    "    time.sleep(3)  \n",
    "    for i in input_data[q:q+10].iterrows():\n",
    "        driver.find_element_by_xpath(\"//tr[@id='row-{0}']//select[@class='tree-species']/option[@value='{1}']\".format(j, i[1][3])).click()\n",
    "        driver.find_element_by_xpath(\"//tr[@id='row-{0}']//input[@class='tree-dbh']\".format(j)).clear()\n",
    "        driver.find_element_by_xpath(\"//tr[@id='row-{0}']//input[@class='tree-dbh']\".format(j)).send_keys(\"{}\".format(i[1][1]))\n",
    "        driver.find_element_by_xpath(\"//tr[@id='row-{0}']//select[@class='tree-condition']//option[@value='{1}']\".format(j,i[1][2])).click()\n",
    "\n",
    "        j += 1\n",
    "        \n",
    "    driver.find_element_by_xpath(\"//div[@id='trees']/button[@class='next btn btn-primary']\").click()\n",
    "    time.sleep(15)\n",
    "    driver.find_element_by_xpath(\"//a[@class='btn btn-default buttons-csv buttons-html5 btn-primary']\").click()   \n",
    "    \n",
    "else:\n",
    "    if len(input_data) % 10 != 0:\n",
    "        j = 1\n",
    "        driver.find_element_by_xpath(\"//a[@href='#trees']\").click()\n",
    "        time.sleep(3)\n",
    "        for w in range(10, len(input_data) % 10, -1):\n",
    "            driver.find_element_by_xpath(f\"//*[@id='row-{w}']/td[1]/input\").click()\n",
    "\n",
    "        for i in input_data[len(input_data)-len(input_data)%10:].iterrows():                       \n",
    "            driver.find_element_by_xpath(\"//tr[@id='row-{0}']//select[@class='tree-species']/option[@value='{1}']\".format(j, i[1][3])).click()\n",
    "            driver.find_element_by_xpath(\"//tr[@id='row-{0}']//input[@class='tree-dbh']\".format(j)).clear()\n",
    "            driver.find_element_by_xpath(\"//tr[@id='row-{0}']//input[@class='tree-dbh']\".format(j)).send_keys(\"{}\".format(i[1][1]))\n",
    "            driver.find_element_by_xpath(\"//tr[@id='row-{0}']//select[@class='tree-condition']//option[@value='{1}']\".format(j,i[1][2])).click()\n",
    "            \n",
    "            j += 1\n",
    "\n",
    "        driver.find_element_by_xpath(\"//div[@id='trees']/button[@class='next btn btn-primary']\").click()\n",
    "        time.sleep(15)\n",
    "        driver.find_element_by_xpath(\"//a[@class='btn btn-default buttons-csv buttons-html5 btn-primary']\").click()                    \n",
    "    else:\n",
    "        pass\n"
   ]
  },
  {
   "cell_type": "code",
   "execution_count": 322,
   "metadata": {},
   "outputs": [],
   "source": [
    "driver.close()"
   ]
  },
  {
   "cell_type": "code",
   "execution_count": 306,
   "metadata": {},
   "outputs": [],
   "source": [
    "bene = pd.read_csv(\"benefit.csv\")"
   ]
  },
  {
   "cell_type": "markdown",
   "metadata": {},
   "source": [
    "이제 이 과정 반복"
   ]
  },
  {
   "cell_type": "markdown",
   "metadata": {},
   "source": [
    "### CSV 파일 합치기"
   ]
  },
  {
   "cell_type": "code",
   "execution_count": 300,
   "metadata": {},
   "outputs": [],
   "source": [
    "index = [\"GI\",\"TG\",\"CO2 Avoided (pounds)\",\"CO2 Avoided ($)\",\"CO2 Sequestered (pounds)\",\"CO2 Sequestered ($)\",\\\n",
    "         \"Electricity Saved (kWh)\",\"Electricity Saved ($)\",\"Fuel Saved (MMBtu)\",\"Fuel Saved ($)\",\"Tree Biomass (short ton)\",\\\n",
    "         \"Rainfall Interception (gallons)\",\"Avoided Runoff (gallons)\",\"Avoided Runoff ($)\",\"O3 Removed (pounds)\",\\\n",
    "         \"NO2 Avoided (pounds)\",\"NO2 Removed (pounds)\",\"SO2 Avoided (pounds)\",\"SO2 Removed (pounds)\",\"VOC Avoided (pounds)\",\\\n",
    "         \"PM2.5 Avoided (pounds)\",\"PM2.5 Removed (pounds)\"]"
   ]
  },
  {
   "cell_type": "code",
   "execution_count": 302,
   "metadata": {},
   "outputs": [
    {
     "data": {
      "text/plain": [
       "1235"
      ]
     },
     "execution_count": 302,
     "metadata": {},
     "output_type": "execute_result"
    }
   ],
   "source": [
    "len(input_data)"
   ]
  },
  {
   "cell_type": "code",
   "execution_count": 325,
   "metadata": {},
   "outputs": [],
   "source": [
    "benefit1 = pd.read_csv(\"C:\\\\Users\\\\배현지\\\\Downloads\\\\i-Tree_Planting-v1.2.0-data_Loves Park-IL (4).csv\", names=index).iloc[2:,:]\n",
    "\n",
    "for w in (range(5,100+1)):\n",
    "    benefit2 = pd.read_csv(f\"C:\\\\Users\\\\배현지\\\\Downloads\\\\i-Tree_Planting-v1.2.0-data_Loves Park-IL ({w}).csv\", names=index).iloc[2:,:]\n",
    "    benefit1 = pd.concat([benefit1, benefit2])\n",
    "else:\n",
    "    for w in (range(1,28)):\n",
    "        benefit2 = pd.read_csv(f\"C:\\\\Users\\\\배현지\\\\Downloads\\\\i-Tree_Planting-v1.2.0-data_Loves Park-IL {w}.csv\", names=index).iloc[2:,:]\n",
    "        benefit1 = pd.concat([benefit1, benefit2])\n",
    "\n",
    "benefit1.to_csv(\"benefit.csv\")"
   ]
  },
  {
   "cell_type": "code",
   "execution_count": 319,
   "metadata": {},
   "outputs": [
    {
     "name": "stdout",
     "output_type": "stream",
     "text": [
      "0 10\n",
      "1 10\n",
      "2 10\n",
      "3 10\n",
      "4 10\n",
      "5 10\n",
      "6 10\n",
      "7 10\n",
      "8 10\n",
      "9 10\n",
      "10 10\n",
      "11 10\n",
      "12 10\n",
      "13 10\n",
      "14 10\n",
      "15 10\n",
      "16 10\n",
      "17 10\n",
      "18 10\n",
      "19 10\n",
      "20 10\n",
      "21 10\n",
      "22 10\n",
      "23 10\n",
      "24 10\n",
      "25 10\n",
      "26 10\n",
      "27 10\n",
      "28 10\n",
      "29 10\n",
      "30 10\n",
      "31 10\n",
      "32 0\n",
      "33 10\n",
      "34 10\n",
      "35 10\n",
      "36 10\n",
      "37 10\n",
      "38 10\n",
      "39 10\n",
      "40 10\n",
      "41 10\n",
      "42 10\n",
      "43 10\n",
      "44 10\n",
      "45 10\n",
      "46 10\n",
      "47 0\n",
      "48 0\n",
      "49 10\n",
      "50 10\n",
      "51 10\n",
      "52 10\n",
      "53 10\n",
      "54 10\n",
      "55 10\n",
      "56 10\n",
      "57 10\n",
      "58 10\n",
      "59 10\n",
      "60 10\n",
      "61 10\n",
      "62 10\n",
      "63 10\n",
      "64 10\n",
      "65 10\n",
      "66 10\n",
      "67 10\n",
      "68 10\n",
      "69 10\n",
      "70 10\n",
      "71 10\n",
      "72 0\n",
      "73 10\n",
      "74 0\n",
      "75 10\n",
      "76 10\n",
      "77 10\n",
      "78 10\n",
      "79 10\n",
      "80 10\n",
      "81 10\n",
      "82 10\n",
      "83 10\n",
      "84 10\n",
      "85 10\n",
      "86 10\n",
      "87 10\n",
      "88 10\n",
      "89 10\n",
      "90 10\n",
      "91 10\n",
      "92 10\n",
      "93 10\n",
      "94 10\n",
      "95 10\n",
      "96 10\n",
      "1 10\n",
      "2 10\n",
      "3 10\n",
      "4 10\n",
      "5 10\n",
      "6 10\n",
      "7 10\n",
      "8 10\n",
      "9 10\n",
      "10 10\n",
      "11 10\n",
      "12 10\n",
      "13 10\n",
      "14 10\n",
      "15 10\n",
      "16 10\n",
      "17 10\n",
      "18 10\n",
      "19 10\n",
      "20 10\n",
      "21 10\n",
      "22 0\n",
      "23 10\n",
      "24 10\n",
      "25 10\n",
      "26 10\n",
      "27 5\n"
     ]
    }
   ],
   "source": [
    "for w in (range(4,100+1)):\n",
    "    benefit2 = pd.read_csv(f\"C:\\\\Users\\\\배현지\\\\Downloads\\\\i-Tree_Planting-v1.2.0-data_Loves Park-IL ({w}).csv\", names=index).iloc[2:,:]\n",
    "    print(w-4, len(benefit2))\n",
    "else:\n",
    "    for w in (range(1,28)):\n",
    "        benefit2 = pd.read_csv(f\"C:\\\\Users\\\\배현지\\\\Downloads\\\\i-Tree_Planting-v1.2.0-data_Loves Park-IL {w}.csv\", names=index).iloc[2:,:]\n",
    "        print(w, len(benefit2))"
   ]
  },
  {
   "cell_type": "markdown",
   "metadata": {},
   "source": [
    "필요없는 데이터 지우고 반복해서 돌리면 됨"
   ]
  },
  {
   "cell_type": "markdown",
   "metadata": {},
   "source": [
    "Test"
   ]
  },
  {
   "cell_type": "code",
   "execution_count": 106,
   "metadata": {},
   "outputs": [],
   "source": [
    "j = 1\n",
    "for i in a[:10].iterrows():\n",
    "    driver.find_element_by_xpath(\"//tr[@id='row-{0}']//select[@class='tree-species']/option[@value='{1}']\".format(j, i[1][0])).click()\n",
    "    driver.find_element_by_xpath(\"//tr[@id='row-{0}']//input[@class='tree-dbh']\".format(j)).clear()\n",
    "    driver.find_element_by_xpath(\"//tr[@id='row-{0}']//input[@class='tree-dbh']\".format(j)).send_keys(\"{}\".format(i[1][1]))\n",
    "    driver.find_element_by_xpath(\"//tr[@id='row-{0}']//select[@class='tree-condition']//option[@value='{1}']\".format(j,i[1][2])).click()\n",
    "\n",
    "#     driver.find_element_by_xpath(\"//div[@id='trees']//input[@id='add-row-button']\").click()\n",
    "    j += 1\n",
    "\n",
    "driver.find_element_by_xpath(\"//div[@id='trees']/button[@class='next btn btn-primary']\").click()\n",
    "time.sleep(15)\n",
    "driver.find_element_by_xpath(\"//a[@class='btn btn-default buttons-csv buttons-html5 btn-primary']\").click()"
   ]
  },
  {
   "cell_type": "markdown",
   "metadata": {},
   "source": [
    "#### 도시 / 지역 선택"
   ]
  },
  {
   "cell_type": "code",
   "execution_count": 31,
   "metadata": {},
   "outputs": [],
   "source": [
    "driver.find_element_by_xpath(\"//select[@id='id_partition']/option[@data-abbr='IL']\").click()"
   ]
  },
  {
   "cell_type": "code",
   "execution_count": 33,
   "metadata": {},
   "outputs": [],
   "source": [
    "driver.find_element_by_xpath(\"//select[@id='id_secondary_partition']/option[@value='929']\").click()"
   ]
  },
  {
   "cell_type": "code",
   "execution_count": 34,
   "metadata": {},
   "outputs": [],
   "source": [
    "driver.find_element_by_xpath(\"//select[@id='id_tertiary_partition']/option[@value='9539']\").click()"
   ]
  },
  {
   "cell_type": "code",
   "execution_count": 4,
   "metadata": {},
   "outputs": [],
   "source": [
    "driver.find_element_by_xpath(\"//button[@class='next btn btn-primary']\").click()"
   ]
  },
  {
   "cell_type": "code",
   "execution_count": 37,
   "metadata": {},
   "outputs": [],
   "source": [
    "driver.find_element_by_xpath(\"//div[@id='parameters']/button[@class='next btn btn-primary']\").click()"
   ]
  },
  {
   "cell_type": "markdown",
   "metadata": {},
   "source": [
    "#### 이제 나무 선택"
   ]
  },
  {
   "cell_type": "markdown",
   "metadata": {},
   "source": [
    "Species 선택"
   ]
  },
  {
   "cell_type": "code",
   "execution_count": 38,
   "metadata": {},
   "outputs": [],
   "source": [
    "driver.find_element_by_xpath(\"//select[@class='tree-species']/option[@value='BEPA']\").click()"
   ]
  },
  {
   "cell_type": "markdown",
   "metadata": {},
   "source": [
    "DBH 선택"
   ]
  },
  {
   "cell_type": "code",
   "execution_count": 51,
   "metadata": {},
   "outputs": [],
   "source": [
    "driver.find_element_by_xpath(\"//input[@class='tree-dbh']\").clear()"
   ]
  },
  {
   "cell_type": "code",
   "execution_count": 52,
   "metadata": {},
   "outputs": [],
   "source": [
    "driver.find_element_by_xpath(\"//input[@class='tree-dbh']\").send_keys(\"5\")"
   ]
  },
  {
   "cell_type": "markdown",
   "metadata": {},
   "source": [
    "Condition 선택\n",
    "- Excellent\n",
    "- Fair\n",
    "- Poor"
   ]
  },
  {
   "cell_type": "code",
   "execution_count": 56,
   "metadata": {},
   "outputs": [],
   "source": [
    "driver.find_element_by_xpath(\"//select[@class='tree-condition']/option[@value='Excellent']\").click()"
   ]
  },
  {
   "cell_type": "code",
   "execution_count": 57,
   "metadata": {},
   "outputs": [],
   "source": [
    "driver.find_element_by_xpath(\"//select[@class='tree-condition']/option[@value='Fair']\").click()"
   ]
  },
  {
   "cell_type": "code",
   "execution_count": 58,
   "metadata": {},
   "outputs": [],
   "source": [
    "driver.find_element_by_xpath(\"//select[@class='tree-condition']/option[@value='Poor']\").click()"
   ]
  },
  {
   "cell_type": "markdown",
   "metadata": {},
   "source": [
    "여러개 추가 시"
   ]
  },
  {
   "cell_type": "code",
   "execution_count": 63,
   "metadata": {},
   "outputs": [],
   "source": [
    "driver.find_element_by_xpath(\"//div[@id='trees']//input[@id='add-row-button']\").click()"
   ]
  },
  {
   "cell_type": "code",
   "execution_count": 64,
   "metadata": {},
   "outputs": [],
   "source": [
    "driver.find_element_by_xpath(\"//div[@id='trees']/button[@class='next btn btn-primary']\").click()"
   ]
  },
  {
   "cell_type": "markdown",
   "metadata": {},
   "source": [
    "Excel 파일 다운"
   ]
  },
  {
   "cell_type": "code",
   "execution_count": 65,
   "metadata": {},
   "outputs": [],
   "source": [
    "driver.find_element_by_xpath(\"//a[@class='btn btn-default buttons-csv buttons-html5 btn-primary']\").click()"
   ]
  },
  {
   "cell_type": "markdown",
   "metadata": {},
   "source": [
    "#### 반복"
   ]
  },
  {
   "cell_type": "markdown",
   "metadata": {},
   "source": [
    "다시 Tree select 창으로"
   ]
  },
  {
   "cell_type": "code",
   "execution_count": 67,
   "metadata": {},
   "outputs": [],
   "source": [
    "driver.find_element_by_xpath(\"//a[@href='#trees']\").click()"
   ]
  },
  {
   "cell_type": "markdown",
   "metadata": {},
   "source": [
    "이전에 select 했던 것 지우기\n",
    "- 2번해야 지워지네...?"
   ]
  },
  {
   "cell_type": "code",
   "execution_count": null,
   "metadata": {},
   "outputs": [],
   "source": [
    "driver.find_element_by_xpath(\"//tr[@id='row-1']//input[@type='button']\").click()"
   ]
  },
  {
   "cell_type": "code",
   "execution_count": 75,
   "metadata": {},
   "outputs": [],
   "source": [
    "driver.find_element_by_xpath(\"//tr[@id='row-2']//input[@type='button']\").click()"
   ]
  },
  {
   "cell_type": "code",
   "execution_count": null,
   "metadata": {},
   "outputs": [],
   "source": [
    "driver.find_element_by_xpath(\"//tr[@id='row-3']//input[@type='button']\").click()"
   ]
  },
  {
   "cell_type": "code",
   "execution_count": null,
   "metadata": {},
   "outputs": [],
   "source": [
    "driver.find_element_by_xpath(\"//tr[@id='row-4']//input[@type='button']\").click()"
   ]
  },
  {
   "cell_type": "markdown",
   "metadata": {},
   "source": [
    "이전 select --> save csv 반복"
   ]
  },
  {
   "cell_type": "markdown",
   "metadata": {},
   "source": [
    "# Bnefit CSV 전처리 하기 "
   ]
  },
  {
   "cell_type": "code",
   "execution_count": 327,
   "metadata": {},
   "outputs": [],
   "source": [
    "benefit = pd.read_csv('benefit.csv')"
   ]
  },
  {
   "cell_type": "code",
   "execution_count": 362,
   "metadata": {},
   "outputs": [
    {
     "data": {
      "text/plain": [
       "436000"
      ]
     },
     "execution_count": 362,
     "metadata": {},
     "output_type": "execute_result"
    }
   ],
   "source": [
    "len(total_tree)"
   ]
  },
  {
   "cell_type": "code",
   "execution_count": 363,
   "metadata": {
    "scrolled": true
   },
   "outputs": [],
   "source": [
    "a = pd.merge(total_tree, data, on = (\"수목명\", \"흉고지름\", \"Condition\"))"
   ]
  },
  {
   "cell_type": "code",
   "execution_count": 368,
   "metadata": {},
   "outputs": [
    {
     "data": {
      "text/html": [
       "<div>\n",
       "<style scoped>\n",
       "    .dataframe tbody tr th:only-of-type {\n",
       "        vertical-align: middle;\n",
       "    }\n",
       "\n",
       "    .dataframe tbody tr th {\n",
       "        vertical-align: top;\n",
       "    }\n",
       "\n",
       "    .dataframe thead th {\n",
       "        text-align: right;\n",
       "    }\n",
       "</style>\n",
       "<table border=\"1\" class=\"dataframe\">\n",
       "  <thead>\n",
       "    <tr style=\"text-align: right;\">\n",
       "      <th></th>\n",
       "      <th>구명</th>\n",
       "      <th>위도</th>\n",
       "      <th>경도</th>\n",
       "      <th>수목명</th>\n",
       "      <th>품계수종</th>\n",
       "      <th>수고</th>\n",
       "      <th>품계활력</th>\n",
       "      <th>흉고지름</th>\n",
       "      <th>수관너비</th>\n",
       "      <th>Condition</th>\n",
       "      <th>Value</th>\n",
       "    </tr>\n",
       "  </thead>\n",
       "  <tbody>\n",
       "    <tr>\n",
       "      <th>0</th>\n",
       "      <td>강남구</td>\n",
       "      <td>37.522895</td>\n",
       "      <td>127.020205</td>\n",
       "      <td>회화나무</td>\n",
       "      <td>8.0</td>\n",
       "      <td>8.0</td>\n",
       "      <td>8</td>\n",
       "      <td>15.0</td>\n",
       "      <td>5</td>\n",
       "      <td>Fair</td>\n",
       "      <td>SOJA</td>\n",
       "    </tr>\n",
       "    <tr>\n",
       "      <th>1</th>\n",
       "      <td>강남구</td>\n",
       "      <td>37.528457</td>\n",
       "      <td>127.037811</td>\n",
       "      <td>회화나무</td>\n",
       "      <td>8.0</td>\n",
       "      <td>8.0</td>\n",
       "      <td>8</td>\n",
       "      <td>15.0</td>\n",
       "      <td>5</td>\n",
       "      <td>Fair</td>\n",
       "      <td>SOJA</td>\n",
       "    </tr>\n",
       "    <tr>\n",
       "      <th>2</th>\n",
       "      <td>강남구</td>\n",
       "      <td>37.529299</td>\n",
       "      <td>127.033177</td>\n",
       "      <td>회화나무</td>\n",
       "      <td>8.0</td>\n",
       "      <td>4.0</td>\n",
       "      <td>8</td>\n",
       "      <td>15.0</td>\n",
       "      <td>4</td>\n",
       "      <td>Fair</td>\n",
       "      <td>SOJA</td>\n",
       "    </tr>\n",
       "    <tr>\n",
       "      <th>3</th>\n",
       "      <td>강남구</td>\n",
       "      <td>37.526001</td>\n",
       "      <td>127.046194</td>\n",
       "      <td>회화나무</td>\n",
       "      <td>8.0</td>\n",
       "      <td>6.0</td>\n",
       "      <td>8</td>\n",
       "      <td>15.0</td>\n",
       "      <td>3</td>\n",
       "      <td>Fair</td>\n",
       "      <td>SOJA</td>\n",
       "    </tr>\n",
       "    <tr>\n",
       "      <th>4</th>\n",
       "      <td>강남구</td>\n",
       "      <td>37.528569</td>\n",
       "      <td>127.031553</td>\n",
       "      <td>회화나무</td>\n",
       "      <td>8.0</td>\n",
       "      <td>7.0</td>\n",
       "      <td>8</td>\n",
       "      <td>15.0</td>\n",
       "      <td>6</td>\n",
       "      <td>Fair</td>\n",
       "      <td>SOJA</td>\n",
       "    </tr>\n",
       "  </tbody>\n",
       "</table>\n",
       "</div>"
      ],
      "text/plain": [
       "    구명         위도          경도   수목명  품계수종   수고  품계활력  흉고지름  수관너비 Condition  \\\n",
       "0  강남구  37.522895  127.020205  회화나무   8.0  8.0     8  15.0     5      Fair   \n",
       "1  강남구  37.528457  127.037811  회화나무   8.0  8.0     8  15.0     5      Fair   \n",
       "2  강남구  37.529299  127.033177  회화나무   8.0  4.0     8  15.0     4      Fair   \n",
       "3  강남구  37.526001  127.046194  회화나무   8.0  6.0     8  15.0     3      Fair   \n",
       "4  강남구  37.528569  127.031553  회화나무   8.0  7.0     8  15.0     6      Fair   \n",
       "\n",
       "  Value  \n",
       "0  SOJA  \n",
       "1  SOJA  \n",
       "2  SOJA  \n",
       "3  SOJA  \n",
       "4  SOJA  "
      ]
     },
     "execution_count": 368,
     "metadata": {},
     "output_type": "execute_result"
    }
   ],
   "source": [
    "a.head()"
   ]
  },
  {
   "cell_type": "code",
   "execution_count": 378,
   "metadata": {
    "scrolled": false
   },
   "outputs": [
    {
     "data": {
      "text/plain": [
       "          64958\n",
       "결주          273\n",
       "백송           11\n",
       "중국굴피나무        9\n",
       "소사나무          9\n",
       "고사            4\n",
       "보호수           2\n",
       "Name: 수목명, dtype: int64"
      ]
     },
     "execution_count": 378,
     "metadata": {},
     "output_type": "execute_result"
    }
   ],
   "source": [
    "a[a['Value'].isna()][\"수목명\"].value_counts()"
   ]
  },
  {
   "cell_type": "markdown",
   "metadata": {},
   "source": [
    "# KNN "
   ]
  },
  {
   "cell_type": "code",
   "execution_count": 465,
   "metadata": {},
   "outputs": [],
   "source": [
    "from sklearn.model_selection import train_test_split\n",
    "from sklearn.neighbors import KNeighborsClassifier"
   ]
  },
  {
   "cell_type": "code",
   "execution_count": null,
   "metadata": {},
   "outputs": [],
   "source": [
    "total_tree = pd.read_csv(\"C:\\\\Users\\\\배현지\\\\Documents\\\\GitHub\\\\Tree\\\\DATA\\\\total_tree.csv\", encoding=\"cp949\", engine=\"python\")"
   ]
  },
  {
   "cell_type": "code",
   "execution_count": 567,
   "metadata": {
    "scrolled": true
   },
   "outputs": [],
   "source": [
    "q = h[[\"위도\",\"경도\",\"품계수종\",\"수고\",\"품계활력\",\"흉고지름\",\"수관너비\",\"수목명\"]].drop_duplicates()"
   ]
  },
  {
   "cell_type": "code",
   "execution_count": 549,
   "metadata": {},
   "outputs": [
    {
     "data": {
      "text/plain": [
       "366791"
      ]
     },
     "execution_count": 549,
     "metadata": {},
     "output_type": "execute_result"
    }
   ],
   "source": [
    "len(q)"
   ]
  },
  {
   "cell_type": "code",
   "execution_count": 572,
   "metadata": {
    "scrolled": true
   },
   "outputs": [],
   "source": [
    "q[\"품계수종\"].fillna(0, inplace =True)"
   ]
  },
  {
   "cell_type": "code",
   "execution_count": 573,
   "metadata": {},
   "outputs": [
    {
     "data": {
      "text/plain": [
       "위도      0\n",
       "경도      0\n",
       "품계수종    0\n",
       "수고      0\n",
       "품계활력    0\n",
       "흉고지름    0\n",
       "수관너비    0\n",
       "수목명     0\n",
       "dtype: int64"
      ]
     },
     "execution_count": 573,
     "metadata": {},
     "output_type": "execute_result"
    }
   ],
   "source": [
    "q.isna().sum()"
   ]
  },
  {
   "cell_type": "code",
   "execution_count": 574,
   "metadata": {},
   "outputs": [],
   "source": [
    "x_train, x_test, y_train, y_test = train_test_split(q.iloc[:,:-1], q.iloc[:,-1])"
   ]
  },
  {
   "cell_type": "code",
   "execution_count": 575,
   "metadata": {},
   "outputs": [],
   "source": [
    "knn = KNeighborsClassifier()"
   ]
  },
  {
   "cell_type": "code",
   "execution_count": 576,
   "metadata": {},
   "outputs": [
    {
     "data": {
      "text/plain": [
       "KNeighborsClassifier(algorithm='auto', leaf_size=30, metric='minkowski',\n",
       "           metric_params=None, n_jobs=None, n_neighbors=5, p=2,\n",
       "           weights='uniform')"
      ]
     },
     "execution_count": 576,
     "metadata": {},
     "output_type": "execute_result"
    }
   ],
   "source": [
    "knn.fit(x_train, y_train)"
   ]
  },
  {
   "cell_type": "code",
   "execution_count": 605,
   "metadata": {},
   "outputs": [],
   "source": [
    "bb.fillna(0, inplace=True)"
   ]
  },
  {
   "cell_type": "code",
   "execution_count": 600,
   "metadata": {},
   "outputs": [],
   "source": [
    "bb = b[[\"위도\",\"경도\",\"품계수종\",\"수고\",\"품계활력\",\"흉고지름\",\"수관너비\"]].drop_duplicates()"
   ]
  },
  {
   "cell_type": "code",
   "execution_count": 607,
   "metadata": {
    "scrolled": true
   },
   "outputs": [],
   "source": [
    "bbb = knn.predict(bb)"
   ]
  },
  {
   "cell_type": "code",
   "execution_count": 648,
   "metadata": {},
   "outputs": [
    {
     "data": {
      "text/plain": [
       "'양버즘나무'"
      ]
     },
     "execution_count": 648,
     "metadata": {},
     "output_type": "execute_result"
    }
   ],
   "source": [
    "bbb[0]"
   ]
  },
  {
   "cell_type": "code",
   "execution_count": 649,
   "metadata": {
    "collapsed": true
   },
   "outputs": [
    {
     "ename": "KeyboardInterrupt",
     "evalue": "",
     "output_type": "error",
     "traceback": [
      "\u001b[1;31m---------------------------------------------------------------------------\u001b[0m",
      "\u001b[1;31mKeyboardInterrupt\u001b[0m                         Traceback (most recent call last)",
      "\u001b[1;32m<ipython-input-649-16178c87de58>\u001b[0m in \u001b[0;36m<module>\u001b[1;34m\u001b[0m\n\u001b[0;32m      1\u001b[0m \u001b[0mt\u001b[0m \u001b[1;33m=\u001b[0m \u001b[1;36m0\u001b[0m\u001b[1;33m\u001b[0m\u001b[1;33m\u001b[0m\u001b[0m\n\u001b[0;32m      2\u001b[0m \u001b[1;32mfor\u001b[0m \u001b[0mx\u001b[0m \u001b[1;32min\u001b[0m \u001b[0mb\u001b[0m\u001b[1;33m.\u001b[0m\u001b[0mloc\u001b[0m\u001b[1;33m[\u001b[0m\u001b[1;33m:\u001b[0m\u001b[1;33m,\u001b[0m\u001b[1;34m\"수목명\"\u001b[0m\u001b[1;33m]\u001b[0m\u001b[1;33m.\u001b[0m\u001b[0mindex\u001b[0m\u001b[1;33m:\u001b[0m\u001b[1;33m\u001b[0m\u001b[1;33m\u001b[0m\u001b[0m\n\u001b[1;32m----> 3\u001b[1;33m     \u001b[0mb\u001b[0m\u001b[1;33m.\u001b[0m\u001b[0mloc\u001b[0m\u001b[1;33m[\u001b[0m\u001b[0mx\u001b[0m\u001b[1;33m,\u001b[0m\u001b[1;34m\"수목명\"\u001b[0m\u001b[1;33m]\u001b[0m \u001b[1;33m=\u001b[0m \u001b[0mbbb\u001b[0m\u001b[1;33m[\u001b[0m\u001b[0mt\u001b[0m\u001b[1;33m]\u001b[0m\u001b[1;33m\u001b[0m\u001b[1;33m\u001b[0m\u001b[0m\n\u001b[0m\u001b[0;32m      4\u001b[0m     \u001b[0mt\u001b[0m \u001b[1;33m+=\u001b[0m \u001b[1;36m1\u001b[0m\u001b[1;33m\u001b[0m\u001b[1;33m\u001b[0m\u001b[0m\n",
      "\u001b[1;32mC:\\ProgramData\\Anaconda3\\lib\\site-packages\\pandas\\core\\indexing.py\u001b[0m in \u001b[0;36m__setitem__\u001b[1;34m(self, key, value)\u001b[0m\n\u001b[0;32m    188\u001b[0m             \u001b[0mkey\u001b[0m \u001b[1;33m=\u001b[0m \u001b[0mcom\u001b[0m\u001b[1;33m.\u001b[0m\u001b[0mapply_if_callable\u001b[0m\u001b[1;33m(\u001b[0m\u001b[0mkey\u001b[0m\u001b[1;33m,\u001b[0m \u001b[0mself\u001b[0m\u001b[1;33m.\u001b[0m\u001b[0mobj\u001b[0m\u001b[1;33m)\u001b[0m\u001b[1;33m\u001b[0m\u001b[1;33m\u001b[0m\u001b[0m\n\u001b[0;32m    189\u001b[0m         \u001b[0mindexer\u001b[0m \u001b[1;33m=\u001b[0m \u001b[0mself\u001b[0m\u001b[1;33m.\u001b[0m\u001b[0m_get_setitem_indexer\u001b[0m\u001b[1;33m(\u001b[0m\u001b[0mkey\u001b[0m\u001b[1;33m)\u001b[0m\u001b[1;33m\u001b[0m\u001b[1;33m\u001b[0m\u001b[0m\n\u001b[1;32m--> 190\u001b[1;33m         \u001b[0mself\u001b[0m\u001b[1;33m.\u001b[0m\u001b[0m_setitem_with_indexer\u001b[0m\u001b[1;33m(\u001b[0m\u001b[0mindexer\u001b[0m\u001b[1;33m,\u001b[0m \u001b[0mvalue\u001b[0m\u001b[1;33m)\u001b[0m\u001b[1;33m\u001b[0m\u001b[1;33m\u001b[0m\u001b[0m\n\u001b[0m\u001b[0;32m    191\u001b[0m \u001b[1;33m\u001b[0m\u001b[0m\n\u001b[0;32m    192\u001b[0m     \u001b[1;32mdef\u001b[0m \u001b[0m_validate_key\u001b[0m\u001b[1;33m(\u001b[0m\u001b[0mself\u001b[0m\u001b[1;33m,\u001b[0m \u001b[0mkey\u001b[0m\u001b[1;33m,\u001b[0m \u001b[0maxis\u001b[0m\u001b[1;33m)\u001b[0m\u001b[1;33m:\u001b[0m\u001b[1;33m\u001b[0m\u001b[1;33m\u001b[0m\u001b[0m\n",
      "\u001b[1;32mC:\\ProgramData\\Anaconda3\\lib\\site-packages\\pandas\\core\\indexing.py\u001b[0m in \u001b[0;36m_setitem_with_indexer\u001b[1;34m(self, indexer, value)\u001b[0m\n\u001b[0;32m    618\u001b[0m                 \u001b[1;31m# scalar\u001b[0m\u001b[1;33m\u001b[0m\u001b[1;33m\u001b[0m\u001b[1;33m\u001b[0m\u001b[0m\n\u001b[0;32m    619\u001b[0m                 \u001b[1;32mfor\u001b[0m \u001b[0mitem\u001b[0m \u001b[1;32min\u001b[0m \u001b[0mlabels\u001b[0m\u001b[1;33m:\u001b[0m\u001b[1;33m\u001b[0m\u001b[1;33m\u001b[0m\u001b[0m\n\u001b[1;32m--> 620\u001b[1;33m                     \u001b[0msetter\u001b[0m\u001b[1;33m(\u001b[0m\u001b[0mitem\u001b[0m\u001b[1;33m,\u001b[0m \u001b[0mvalue\u001b[0m\u001b[1;33m)\u001b[0m\u001b[1;33m\u001b[0m\u001b[1;33m\u001b[0m\u001b[0m\n\u001b[0m\u001b[0;32m    621\u001b[0m \u001b[1;33m\u001b[0m\u001b[0m\n\u001b[0;32m    622\u001b[0m         \u001b[1;32melse\u001b[0m\u001b[1;33m:\u001b[0m\u001b[1;33m\u001b[0m\u001b[1;33m\u001b[0m\u001b[0m\n",
      "\u001b[1;32mC:\\ProgramData\\Anaconda3\\lib\\site-packages\\pandas\\core\\indexing.py\u001b[0m in \u001b[0;36msetter\u001b[1;34m(item, v)\u001b[0m\n\u001b[0;32m    541\u001b[0m \u001b[1;33m\u001b[0m\u001b[0m\n\u001b[0;32m    542\u001b[0m                 \u001b[1;31m# reset the sliced object if unique\u001b[0m\u001b[1;33m\u001b[0m\u001b[1;33m\u001b[0m\u001b[1;33m\u001b[0m\u001b[0m\n\u001b[1;32m--> 543\u001b[1;33m                 \u001b[0mself\u001b[0m\u001b[1;33m.\u001b[0m\u001b[0mobj\u001b[0m\u001b[1;33m[\u001b[0m\u001b[0mitem\u001b[0m\u001b[1;33m]\u001b[0m \u001b[1;33m=\u001b[0m \u001b[0ms\u001b[0m\u001b[1;33m\u001b[0m\u001b[1;33m\u001b[0m\u001b[0m\n\u001b[0m\u001b[0;32m    544\u001b[0m \u001b[1;33m\u001b[0m\u001b[0m\n\u001b[0;32m    545\u001b[0m             \u001b[1;32mdef\u001b[0m \u001b[0mcan_do_equal_len\u001b[0m\u001b[1;33m(\u001b[0m\u001b[1;33m)\u001b[0m\u001b[1;33m:\u001b[0m\u001b[1;33m\u001b[0m\u001b[1;33m\u001b[0m\u001b[0m\n",
      "\u001b[1;32mC:\\ProgramData\\Anaconda3\\lib\\site-packages\\pandas\\core\\frame.py\u001b[0m in \u001b[0;36m__setitem__\u001b[1;34m(self, key, value)\u001b[0m\n\u001b[0;32m   3368\u001b[0m         \u001b[1;32melse\u001b[0m\u001b[1;33m:\u001b[0m\u001b[1;33m\u001b[0m\u001b[1;33m\u001b[0m\u001b[0m\n\u001b[0;32m   3369\u001b[0m             \u001b[1;31m# set column\u001b[0m\u001b[1;33m\u001b[0m\u001b[1;33m\u001b[0m\u001b[1;33m\u001b[0m\u001b[0m\n\u001b[1;32m-> 3370\u001b[1;33m             \u001b[0mself\u001b[0m\u001b[1;33m.\u001b[0m\u001b[0m_set_item\u001b[0m\u001b[1;33m(\u001b[0m\u001b[0mkey\u001b[0m\u001b[1;33m,\u001b[0m \u001b[0mvalue\u001b[0m\u001b[1;33m)\u001b[0m\u001b[1;33m\u001b[0m\u001b[1;33m\u001b[0m\u001b[0m\n\u001b[0m\u001b[0;32m   3371\u001b[0m \u001b[1;33m\u001b[0m\u001b[0m\n\u001b[0;32m   3372\u001b[0m     \u001b[1;32mdef\u001b[0m \u001b[0m_setitem_slice\u001b[0m\u001b[1;33m(\u001b[0m\u001b[0mself\u001b[0m\u001b[1;33m,\u001b[0m \u001b[0mkey\u001b[0m\u001b[1;33m,\u001b[0m \u001b[0mvalue\u001b[0m\u001b[1;33m)\u001b[0m\u001b[1;33m:\u001b[0m\u001b[1;33m\u001b[0m\u001b[1;33m\u001b[0m\u001b[0m\n",
      "\u001b[1;32mC:\\ProgramData\\Anaconda3\\lib\\site-packages\\pandas\\core\\frame.py\u001b[0m in \u001b[0;36m_set_item\u001b[1;34m(self, key, value)\u001b[0m\n\u001b[0;32m   3450\u001b[0m         \u001b[1;31m# value exception to occur first\u001b[0m\u001b[1;33m\u001b[0m\u001b[1;33m\u001b[0m\u001b[1;33m\u001b[0m\u001b[0m\n\u001b[0;32m   3451\u001b[0m         \u001b[1;32mif\u001b[0m \u001b[0mlen\u001b[0m\u001b[1;33m(\u001b[0m\u001b[0mself\u001b[0m\u001b[1;33m)\u001b[0m\u001b[1;33m:\u001b[0m\u001b[1;33m\u001b[0m\u001b[1;33m\u001b[0m\u001b[0m\n\u001b[1;32m-> 3452\u001b[1;33m             \u001b[0mself\u001b[0m\u001b[1;33m.\u001b[0m\u001b[0m_check_setitem_copy\u001b[0m\u001b[1;33m(\u001b[0m\u001b[1;33m)\u001b[0m\u001b[1;33m\u001b[0m\u001b[1;33m\u001b[0m\u001b[0m\n\u001b[0m\u001b[0;32m   3453\u001b[0m \u001b[1;33m\u001b[0m\u001b[0m\n\u001b[0;32m   3454\u001b[0m     \u001b[1;32mdef\u001b[0m \u001b[0minsert\u001b[0m\u001b[1;33m(\u001b[0m\u001b[0mself\u001b[0m\u001b[1;33m,\u001b[0m \u001b[0mloc\u001b[0m\u001b[1;33m,\u001b[0m \u001b[0mcolumn\u001b[0m\u001b[1;33m,\u001b[0m \u001b[0mvalue\u001b[0m\u001b[1;33m,\u001b[0m \u001b[0mallow_duplicates\u001b[0m\u001b[1;33m=\u001b[0m\u001b[1;32mFalse\u001b[0m\u001b[1;33m)\u001b[0m\u001b[1;33m:\u001b[0m\u001b[1;33m\u001b[0m\u001b[1;33m\u001b[0m\u001b[0m\n",
      "\u001b[1;32mC:\\ProgramData\\Anaconda3\\lib\\site-packages\\pandas\\core\\generic.py\u001b[0m in \u001b[0;36m_check_setitem_copy\u001b[1;34m(self, stacklevel, t, force)\u001b[0m\n\u001b[0;32m   3244\u001b[0m             \u001b[1;32mtry\u001b[0m\u001b[1;33m:\u001b[0m\u001b[1;33m\u001b[0m\u001b[1;33m\u001b[0m\u001b[0m\n\u001b[0;32m   3245\u001b[0m                 \u001b[0mgc\u001b[0m\u001b[1;33m.\u001b[0m\u001b[0mcollect\u001b[0m\u001b[1;33m(\u001b[0m\u001b[1;36m2\u001b[0m\u001b[1;33m)\u001b[0m\u001b[1;33m\u001b[0m\u001b[1;33m\u001b[0m\u001b[0m\n\u001b[1;32m-> 3246\u001b[1;33m                 \u001b[1;32mif\u001b[0m \u001b[1;32mnot\u001b[0m \u001b[0mgc\u001b[0m\u001b[1;33m.\u001b[0m\u001b[0mget_referents\u001b[0m\u001b[1;33m(\u001b[0m\u001b[0mself\u001b[0m\u001b[1;33m.\u001b[0m\u001b[0m_is_copy\u001b[0m\u001b[1;33m(\u001b[0m\u001b[1;33m)\u001b[0m\u001b[1;33m)\u001b[0m\u001b[1;33m:\u001b[0m\u001b[1;33m\u001b[0m\u001b[1;33m\u001b[0m\u001b[0m\n\u001b[0m\u001b[0;32m   3247\u001b[0m                     \u001b[0mself\u001b[0m\u001b[1;33m.\u001b[0m\u001b[0m_is_copy\u001b[0m \u001b[1;33m=\u001b[0m \u001b[1;32mNone\u001b[0m\u001b[1;33m\u001b[0m\u001b[1;33m\u001b[0m\u001b[0m\n\u001b[0;32m   3248\u001b[0m                     \u001b[1;32mreturn\u001b[0m\u001b[1;33m\u001b[0m\u001b[1;33m\u001b[0m\u001b[0m\n",
      "\u001b[1;31mKeyboardInterrupt\u001b[0m: "
     ]
    }
   ],
   "source": [
    "t = 0 \n",
    "for x in b.loc[:,\"수목명\"].index:\n",
    "    b.loc[x,\"수목명\"] = bbb[t]\n",
    "    t += 1"
   ]
  },
  {
   "cell_type": "code",
   "execution_count": null,
   "metadata": {},
   "outputs": [],
   "source": [
    "y_test.values"
   ]
  },
  {
   "cell_type": "code",
   "execution_count": 579,
   "metadata": {},
   "outputs": [
    {
     "data": {
      "text/plain": [
       "0.7464284935331196"
      ]
     },
     "execution_count": 579,
     "metadata": {},
     "output_type": "execute_result"
    }
   ],
   "source": [
    "knn.score(x_test, y_test)"
   ]
  },
  {
   "cell_type": "code",
   "execution_count": null,
   "metadata": {},
   "outputs": [],
   "source": [
    "x_train, x_test, y_train, y_test = train_test_split(h.iloc[:,:-1], h.iloc[:,-1])"
   ]
  },
  {
   "cell_type": "code",
   "execution_count": 429,
   "metadata": {
    "scrolled": true
   },
   "outputs": [
    {
     "data": {
      "text/plain": [
       "          64958\n",
       "결주          273\n",
       "백송           11\n",
       "중국굴피나무        9\n",
       "소사나무          9\n",
       "고사            4\n",
       "보호수           2\n",
       "Name: 수목명, dtype: int64"
      ]
     },
     "execution_count": 429,
     "metadata": {},
     "output_type": "execute_result"
    }
   ],
   "source": [
    "a[a[\"Value\"].isna()][\"수목명\"].value_counts()"
   ]
  },
  {
   "cell_type": "code",
   "execution_count": 454,
   "metadata": {
    "scrolled": true
   },
   "outputs": [],
   "source": [
    "b = a[a[\"수목명\"] == \" \" ]\n",
    "c = a[a[\"수목명\"] == \"백송\" ]\n",
    "d = a[a[\"수목명\"] == \"중국굴피나무\" ]\n",
    "e = a[a[\"수목명\"] == \"소사나무\" ]\n",
    "f = a[a[\"수목명\"] == \"고사\" ]\n",
    "g = a[a[\"수목명\"] == \"보호수\" ]"
   ]
  },
  {
   "cell_type": "code",
   "execution_count": 456,
   "metadata": {},
   "outputs": [],
   "source": [
    "h = a.drop(index=b.index)\n",
    "h.drop(index=c.index, inplace = True)\n",
    "h.drop(index=d.index, inplace = True)\n",
    "h.drop(index=e.index, inplace = True)\n",
    "h.drop(index=f.index, inplace = True)\n",
    "h.drop(index=g.index, inplace = True)"
   ]
  }
 ],
 "metadata": {
  "kernelspec": {
   "display_name": "Python 3",
   "language": "python",
   "name": "python3"
  },
  "language_info": {
   "codemirror_mode": {
    "name": "ipython",
    "version": 3
   },
   "file_extension": ".py",
   "mimetype": "text/x-python",
   "name": "python",
   "nbconvert_exporter": "python",
   "pygments_lexer": "ipython3",
   "version": "3.7.3"
  }
 },
 "nbformat": 4,
 "nbformat_minor": 2
}
