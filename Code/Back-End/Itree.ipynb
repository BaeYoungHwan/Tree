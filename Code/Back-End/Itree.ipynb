{
 "cells": [
  {
   "cell_type": "code",
   "execution_count": 146,
   "metadata": {},
   "outputs": [],
   "source": [
    "import time\n",
    "import pandas as pd\n",
    "from selenium import webdriver\n",
    "\n",
    "# 오류 핸들링\n",
    "from selenium.webdriver.support.ui import WebDriverWait\n",
    "from selenium.common.exceptions import ElementNotVisibleException\n",
    "from selenium.webdriver.common.by import By\n",
    "from selenium.webdriver.support import expected_conditions as EC"
   ]
  },
  {
   "cell_type": "code",
   "execution_count": 4,
   "metadata": {},
   "outputs": [
    {
     "ename": "NameError",
     "evalue": "name 'driver' is not defined",
     "output_type": "error",
     "traceback": [
      "\u001b[1;31m---------------------------------------------------------------------------\u001b[0m",
      "\u001b[1;31mNameError\u001b[0m                                 Traceback (most recent call last)",
      "\u001b[1;32m<ipython-input-4-b1d120818509>\u001b[0m in \u001b[0;36m<module>\u001b[1;34m\u001b[0m\n\u001b[1;32m----> 1\u001b[1;33m \u001b[0mwait\u001b[0m \u001b[1;33m=\u001b[0m \u001b[0mWebDriverWait\u001b[0m\u001b[1;33m(\u001b[0m\u001b[0mdriver\u001b[0m\u001b[1;33m,\u001b[0m \u001b[1;36m10\u001b[0m\u001b[1;33m,\u001b[0m \u001b[1;36m0.5\u001b[0m\u001b[1;33m,\u001b[0m \u001b[1;33m[\u001b[0m\u001b[0mElementNotVisibleException\u001b[0m\u001b[1;33m]\u001b[0m\u001b[1;33m)\u001b[0m\u001b[1;33m\u001b[0m\u001b[1;33m\u001b[0m\u001b[0m\n\u001b[0m\u001b[0;32m      2\u001b[0m \u001b[1;33m\u001b[0m\u001b[0m\n\u001b[0;32m      3\u001b[0m \u001b[0mwait\u001b[0m\u001b[1;33m.\u001b[0m\u001b[0muntil\u001b[0m\u001b[1;33m(\u001b[0m\u001b[1;32mlambda\u001b[0m \u001b[0mx\u001b[0m\u001b[1;33m:\u001b[0m \u001b[0mx\u001b[0m\u001b[1;33m.\u001b[0m\u001b[0mfind_element_by_id\u001b[0m\u001b[1;33m(\u001b[0m\u001b[1;34m\"id_tertiary_partition\"\u001b[0m\u001b[1;33m)\u001b[0m\u001b[1;33m.\u001b[0m\u001b[0mis_displayed\u001b[0m\u001b[1;33m(\u001b[0m\u001b[1;33m)\u001b[0m\u001b[1;33m)\u001b[0m\u001b[1;33m\u001b[0m\u001b[1;33m\u001b[0m\u001b[0m\n\u001b[0;32m      4\u001b[0m \u001b[0mdriver\u001b[0m\u001b[1;33m.\u001b[0m\u001b[0mfind_element_by_id\u001b[0m\u001b[1;33m(\u001b[0m\u001b[1;34m\"id_tertiary_partition\"\u001b[0m\u001b[1;33m)\u001b[0m\u001b[1;33m.\u001b[0m\u001b[0msend_keys\u001b[0m\u001b[1;33m(\u001b[0m\u001b[0mx\u001b[0m\u001b[1;33m[\u001b[0m\u001b[1;36m1\u001b[0m\u001b[1;33m]\u001b[0m\u001b[1;33m)\u001b[0m\u001b[1;33m\u001b[0m\u001b[1;33m\u001b[0m\u001b[0m\n",
      "\u001b[1;31mNameError\u001b[0m: name 'driver' is not defined"
     ]
    }
   ],
   "source": [
    "wait = WebDriverWait(driver, 10, 0.5, [ElementNotVisibleException])\n",
    "\n",
    "wait.until(lambda x: x.find_element_by_id(\"id_tertiary_partition\").is_displayed())\n",
    "driver.find_element_by_id(\"id_tertiary_partition\").send_keys(x[1])"
   ]
  },
  {
   "cell_type": "code",
   "execution_count": 15,
   "metadata": {},
   "outputs": [],
   "source": [
    "driver.find_element_by_id(\"id_tertiary_partition\").send_keys(x[1])"
   ]
  },
  {
   "cell_type": "code",
   "execution_count": 27,
   "metadata": {},
   "outputs": [
    {
     "data": {
      "text/plain": [
       "False"
      ]
     },
     "execution_count": 27,
     "metadata": {},
     "output_type": "execute_result"
    }
   ],
   "source": [
    "driver.find_element_by_id(\"id_tertiary_partition\").is_displayed()"
   ]
  },
  {
   "cell_type": "code",
   "execution_count": 34,
   "metadata": {},
   "outputs": [],
   "source": [
    "\n",
    "wait.until(lambda driver: driver.find_element_by_xpath('//*[@id=\"id_partition\"]').is_displayed())\n",
    "driver.find_element_by_xpath('//*[@id=\"id_partition\"]').send_keys(x[0])"
   ]
  },
  {
   "cell_type": "code",
   "execution_count": 147,
   "metadata": {},
   "outputs": [
    {
     "ename": "KeyboardInterrupt",
     "evalue": "",
     "output_type": "error",
     "traceback": [
      "\u001b[1;31m---------------------------------------------------------------------------\u001b[0m",
      "\u001b[1;31mKeyboardInterrupt\u001b[0m                         Traceback (most recent call last)",
      "\u001b[1;32m<ipython-input-147-9868f839dd67>\u001b[0m in \u001b[0;36m<module>\u001b[1;34m\u001b[0m\n\u001b[0;32m      7\u001b[0m \u001b[0mwait\u001b[0m\u001b[1;33m.\u001b[0m\u001b[0muntil\u001b[0m\u001b[1;33m(\u001b[0m\u001b[1;32mlambda\u001b[0m \u001b[0mdriver\u001b[0m\u001b[1;33m:\u001b[0m \u001b[0mdriver\u001b[0m\u001b[1;33m.\u001b[0m\u001b[0mfind_element_by_xpath\u001b[0m\u001b[1;33m(\u001b[0m\u001b[1;34m'//*[@id=\"id_partition\"]'\u001b[0m\u001b[1;33m)\u001b[0m\u001b[1;33m.\u001b[0m\u001b[0mis_displayed\u001b[0m\u001b[1;33m(\u001b[0m\u001b[1;33m)\u001b[0m\u001b[1;33m)\u001b[0m\u001b[1;33m\u001b[0m\u001b[1;33m\u001b[0m\u001b[0m\n\u001b[0;32m      8\u001b[0m \u001b[0mdriver\u001b[0m\u001b[1;33m.\u001b[0m\u001b[0mfind_element_by_xpath\u001b[0m\u001b[1;33m(\u001b[0m\u001b[1;34m'//*[@id=\"id_partition\"]'\u001b[0m\u001b[1;33m)\u001b[0m\u001b[1;33m.\u001b[0m\u001b[0msend_keys\u001b[0m\u001b[1;33m(\u001b[0m\u001b[0mx\u001b[0m\u001b[1;33m[\u001b[0m\u001b[1;36m0\u001b[0m\u001b[1;33m]\u001b[0m\u001b[1;33m)\u001b[0m\u001b[1;33m\u001b[0m\u001b[1;33m\u001b[0m\u001b[0m\n\u001b[1;32m----> 9\u001b[1;33m \u001b[0mwait\u001b[0m\u001b[1;33m.\u001b[0m\u001b[0muntil\u001b[0m\u001b[1;33m(\u001b[0m\u001b[1;32mlambda\u001b[0m \u001b[0mdriver\u001b[0m\u001b[1;33m:\u001b[0m \u001b[0mdriver\u001b[0m\u001b[1;33m.\u001b[0m\u001b[0mfind_element_by_id\u001b[0m\u001b[1;33m(\u001b[0m\u001b[1;34m\"id_secondary_partition\"\u001b[0m\u001b[1;33m)\u001b[0m\u001b[1;33m.\u001b[0m\u001b[0mis_displayed\u001b[0m\u001b[1;33m(\u001b[0m\u001b[1;33m)\u001b[0m\u001b[1;33m)\u001b[0m\u001b[1;33m\u001b[0m\u001b[1;33m\u001b[0m\u001b[0m\n\u001b[0m\u001b[0;32m     10\u001b[0m \u001b[0mdriver\u001b[0m\u001b[1;33m.\u001b[0m\u001b[0mfind_element_by_xpath\u001b[0m\u001b[1;33m(\u001b[0m\u001b[1;34m'//*[@id=\"id_partition\"]'\u001b[0m\u001b[1;33m)\u001b[0m\u001b[1;33m.\u001b[0m\u001b[0msend_keys\u001b[0m\u001b[1;33m(\u001b[0m\u001b[0mx\u001b[0m\u001b[1;33m[\u001b[0m\u001b[1;36m0\u001b[0m\u001b[1;33m]\u001b[0m\u001b[1;33m)\u001b[0m\u001b[1;33m\u001b[0m\u001b[1;33m\u001b[0m\u001b[0m\n\u001b[0;32m     11\u001b[0m \u001b[1;33m\u001b[0m\u001b[0m\n",
      "\u001b[1;32mC:\\ProgramData\\Anaconda3\\lib\\site-packages\\selenium\\webdriver\\support\\wait.py\u001b[0m in \u001b[0;36muntil\u001b[1;34m(self, method, message)\u001b[0m\n\u001b[0;32m     75\u001b[0m                 \u001b[0mscreen\u001b[0m \u001b[1;33m=\u001b[0m \u001b[0mgetattr\u001b[0m\u001b[1;33m(\u001b[0m\u001b[0mexc\u001b[0m\u001b[1;33m,\u001b[0m \u001b[1;34m'screen'\u001b[0m\u001b[1;33m,\u001b[0m \u001b[1;32mNone\u001b[0m\u001b[1;33m)\u001b[0m\u001b[1;33m\u001b[0m\u001b[1;33m\u001b[0m\u001b[0m\n\u001b[0;32m     76\u001b[0m                 \u001b[0mstacktrace\u001b[0m \u001b[1;33m=\u001b[0m \u001b[0mgetattr\u001b[0m\u001b[1;33m(\u001b[0m\u001b[0mexc\u001b[0m\u001b[1;33m,\u001b[0m \u001b[1;34m'stacktrace'\u001b[0m\u001b[1;33m,\u001b[0m \u001b[1;32mNone\u001b[0m\u001b[1;33m)\u001b[0m\u001b[1;33m\u001b[0m\u001b[1;33m\u001b[0m\u001b[0m\n\u001b[1;32m---> 77\u001b[1;33m             \u001b[0mtime\u001b[0m\u001b[1;33m.\u001b[0m\u001b[0msleep\u001b[0m\u001b[1;33m(\u001b[0m\u001b[0mself\u001b[0m\u001b[1;33m.\u001b[0m\u001b[0m_poll\u001b[0m\u001b[1;33m)\u001b[0m\u001b[1;33m\u001b[0m\u001b[1;33m\u001b[0m\u001b[0m\n\u001b[0m\u001b[0;32m     78\u001b[0m             \u001b[1;32mif\u001b[0m \u001b[0mtime\u001b[0m\u001b[1;33m.\u001b[0m\u001b[0mtime\u001b[0m\u001b[1;33m(\u001b[0m\u001b[1;33m)\u001b[0m \u001b[1;33m>\u001b[0m \u001b[0mend_time\u001b[0m\u001b[1;33m:\u001b[0m\u001b[1;33m\u001b[0m\u001b[1;33m\u001b[0m\u001b[0m\n\u001b[0;32m     79\u001b[0m                 \u001b[1;32mbreak\u001b[0m\u001b[1;33m\u001b[0m\u001b[1;33m\u001b[0m\u001b[0m\n",
      "\u001b[1;31mKeyboardInterrupt\u001b[0m: "
     ]
    }
   ],
   "source": [
    "driver = webdriver.Chrome()\n",
    "driver.get(\"https://planting.itreetools.org/app/location/\")\n",
    "wait = WebDriverWait(driver, 10, 0.5, [ElementNotVisibleException])\n",
    "x = ['ILLiNOIS', \"Champaign\"]\n",
    "\n",
    "time.sleep(1)\n",
    "wait.until(lambda driver: driver.find_element_by_xpath('//*[@id=\"id_partition\"]').is_displayed())\n",
    "driver.find_element_by_xpath('//*[@id=\"id_partition\"]').send_keys(x[0])\n",
    "wait.until(lambda driver: driver.find_element_by_id(\"id_secondary_partition\").is_displayed())\n",
    "driver.find_element_by_xpath('//*[@id=\"id_partition\"]').send_keys(x[0])\n",
    "\n",
    "wait.until(lambda driver: driver.find_element_by_id(\"id_secondary_partition\").is_displayed())\n",
    "driver.find_element_by_id(\"id_secondary_partition\").send_keys(x[1])\n",
    "wait.until(lambda driver: driver.find_element_by_id(\"id_tertiary_partition\").is_displayed())\n",
    "driver.find_element_by_id(\"id_secondary_partition\").send_keys(x[1])\n",
    "wait.until(lambda driver: driver.find_element_by_id(\"id_tertiary_partition\").is_displayed())\n",
    "driver.find_element_by_id(\"id_secondary_partition\").send_keys(x[1])\n",
    "wait.until(lambda driver: driver.find_element_by_id(\"id_tertiary_partition\").is_displayed())\n",
    "driver.find_element_by_id(\"id_secondary_partition\").send_keys(x[1])\n",
    "\n",
    "wait.until(lambda driver: driver.find_element_by_id(\"id_tertiary_partition\").is_displayed())\n",
    "driver.find_element_by_id(\"id_tertiary_partition\").send_keys(x[1])\n",
    "\n",
    "time.sleep(1)\n",
    "driver.find_element_by_xpath('//*[@id=\"location\"]/div/div/button').click()\n",
    "\n",
    "wait.until(lambda driver: driver.find_element_by_xpath('//*[@id=\"parameters\"]/button').is_displayed())\n",
    "driver.find_element_by_xpath('//*[@id=\"parameters\"]/button').click()"
   ]
  },
  {
   "cell_type": "code",
   "execution_count": 247,
   "metadata": {
    "collapsed": true
   },
   "outputs": [
    {
     "ename": "ElementNotInteractableException",
     "evalue": "Message: element not interactable\n  (Session info: chrome=76.0.3809.100)\n",
     "output_type": "error",
     "traceback": [
      "\u001b[1;31m---------------------------------------------------------------------------\u001b[0m",
      "\u001b[1;31mElementNotInteractableException\u001b[0m           Traceback (most recent call last)",
      "\u001b[1;32m<ipython-input-247-9e7ad06cf685>\u001b[0m in \u001b[0;36m<module>\u001b[1;34m\u001b[0m\n\u001b[0;32m      1\u001b[0m \u001b[1;33m\u001b[0m\u001b[0m\n\u001b[0;32m      2\u001b[0m \u001b[1;32mfor\u001b[0m \u001b[0mx\u001b[0m \u001b[1;32min\u001b[0m \u001b[0mrange\u001b[0m\u001b[1;33m(\u001b[0m\u001b[0mlen\u001b[0m\u001b[1;33m(\u001b[0m\u001b[0mtotal_tree\u001b[0m\u001b[1;33m)\u001b[0m\u001b[1;33m)\u001b[0m\u001b[1;33m:\u001b[0m\u001b[1;33m\u001b[0m\u001b[1;33m\u001b[0m\u001b[0m\n\u001b[1;32m----> 3\u001b[1;33m     \u001b[0mdriver\u001b[0m\u001b[1;33m.\u001b[0m\u001b[0mfind_element_by_xpath\u001b[0m\u001b[1;33m(\u001b[0m\u001b[1;34mf'//*[@id=\"row-1\"]/td[3]/select'\u001b[0m\u001b[1;33m)\u001b[0m\u001b[1;33m.\u001b[0m\u001b[0msend_keys\u001b[0m\u001b[1;33m(\u001b[0m\u001b[0mtotal_tree\u001b[0m\u001b[1;33m[\u001b[0m\u001b[1;34m\"수목명\"\u001b[0m\u001b[1;33m]\u001b[0m\u001b[1;33m[\u001b[0m\u001b[0mx\u001b[0m\u001b[1;33m]\u001b[0m\u001b[1;33m)\u001b[0m\u001b[1;33m\u001b[0m\u001b[1;33m\u001b[0m\u001b[0m\n\u001b[0m\u001b[0;32m      4\u001b[0m     \u001b[0mdriver\u001b[0m\u001b[1;33m.\u001b[0m\u001b[0mfind_element_by_xpath\u001b[0m\u001b[1;33m(\u001b[0m\u001b[1;34mf'//*[@id=\"row-1\"]/td[4]/input'\u001b[0m\u001b[1;33m)\u001b[0m\u001b[1;33m.\u001b[0m\u001b[0mclear\u001b[0m\u001b[1;33m(\u001b[0m\u001b[1;33m)\u001b[0m\u001b[1;33m\u001b[0m\u001b[1;33m\u001b[0m\u001b[0m\n\u001b[0;32m      5\u001b[0m     \u001b[0mdriver\u001b[0m\u001b[1;33m.\u001b[0m\u001b[0mfind_element_by_xpath\u001b[0m\u001b[1;33m(\u001b[0m\u001b[1;34mf'//*[@id=\"row-1\"]/td[4]/input'\u001b[0m\u001b[1;33m)\u001b[0m\u001b[1;33m.\u001b[0m\u001b[0msend_keys\u001b[0m\u001b[1;33m(\u001b[0m\u001b[0mint\u001b[0m\u001b[1;33m(\u001b[0m\u001b[0mtotal_tree\u001b[0m\u001b[1;33m[\u001b[0m\u001b[1;34m\"흉고지름\"\u001b[0m\u001b[1;33m]\u001b[0m\u001b[1;33m[\u001b[0m\u001b[0mx\u001b[0m\u001b[1;33m]\u001b[0m\u001b[1;33m)\u001b[0m\u001b[1;33m)\u001b[0m\u001b[1;33m\u001b[0m\u001b[1;33m\u001b[0m\u001b[0m\n",
      "\u001b[1;32mC:\\ProgramData\\Anaconda3\\lib\\site-packages\\selenium\\webdriver\\remote\\webelement.py\u001b[0m in \u001b[0;36msend_keys\u001b[1;34m(self, *value)\u001b[0m\n\u001b[0;32m    477\u001b[0m         self._execute(Command.SEND_KEYS_TO_ELEMENT,\n\u001b[0;32m    478\u001b[0m                       {'text': \"\".join(keys_to_typing(value)),\n\u001b[1;32m--> 479\u001b[1;33m                        'value': keys_to_typing(value)})\n\u001b[0m\u001b[0;32m    480\u001b[0m \u001b[1;33m\u001b[0m\u001b[0m\n\u001b[0;32m    481\u001b[0m     \u001b[1;31m# RenderedWebElement Items\u001b[0m\u001b[1;33m\u001b[0m\u001b[1;33m\u001b[0m\u001b[1;33m\u001b[0m\u001b[0m\n",
      "\u001b[1;32mC:\\ProgramData\\Anaconda3\\lib\\site-packages\\selenium\\webdriver\\remote\\webelement.py\u001b[0m in \u001b[0;36m_execute\u001b[1;34m(self, command, params)\u001b[0m\n\u001b[0;32m    631\u001b[0m             \u001b[0mparams\u001b[0m \u001b[1;33m=\u001b[0m \u001b[1;33m{\u001b[0m\u001b[1;33m}\u001b[0m\u001b[1;33m\u001b[0m\u001b[1;33m\u001b[0m\u001b[0m\n\u001b[0;32m    632\u001b[0m         \u001b[0mparams\u001b[0m\u001b[1;33m[\u001b[0m\u001b[1;34m'id'\u001b[0m\u001b[1;33m]\u001b[0m \u001b[1;33m=\u001b[0m \u001b[0mself\u001b[0m\u001b[1;33m.\u001b[0m\u001b[0m_id\u001b[0m\u001b[1;33m\u001b[0m\u001b[1;33m\u001b[0m\u001b[0m\n\u001b[1;32m--> 633\u001b[1;33m         \u001b[1;32mreturn\u001b[0m \u001b[0mself\u001b[0m\u001b[1;33m.\u001b[0m\u001b[0m_parent\u001b[0m\u001b[1;33m.\u001b[0m\u001b[0mexecute\u001b[0m\u001b[1;33m(\u001b[0m\u001b[0mcommand\u001b[0m\u001b[1;33m,\u001b[0m \u001b[0mparams\u001b[0m\u001b[1;33m)\u001b[0m\u001b[1;33m\u001b[0m\u001b[1;33m\u001b[0m\u001b[0m\n\u001b[0m\u001b[0;32m    634\u001b[0m \u001b[1;33m\u001b[0m\u001b[0m\n\u001b[0;32m    635\u001b[0m     \u001b[1;32mdef\u001b[0m \u001b[0mfind_element\u001b[0m\u001b[1;33m(\u001b[0m\u001b[0mself\u001b[0m\u001b[1;33m,\u001b[0m \u001b[0mby\u001b[0m\u001b[1;33m=\u001b[0m\u001b[0mBy\u001b[0m\u001b[1;33m.\u001b[0m\u001b[0mID\u001b[0m\u001b[1;33m,\u001b[0m \u001b[0mvalue\u001b[0m\u001b[1;33m=\u001b[0m\u001b[1;32mNone\u001b[0m\u001b[1;33m)\u001b[0m\u001b[1;33m:\u001b[0m\u001b[1;33m\u001b[0m\u001b[1;33m\u001b[0m\u001b[0m\n",
      "\u001b[1;32mC:\\ProgramData\\Anaconda3\\lib\\site-packages\\selenium\\webdriver\\remote\\webdriver.py\u001b[0m in \u001b[0;36mexecute\u001b[1;34m(self, driver_command, params)\u001b[0m\n\u001b[0;32m    319\u001b[0m         \u001b[0mresponse\u001b[0m \u001b[1;33m=\u001b[0m \u001b[0mself\u001b[0m\u001b[1;33m.\u001b[0m\u001b[0mcommand_executor\u001b[0m\u001b[1;33m.\u001b[0m\u001b[0mexecute\u001b[0m\u001b[1;33m(\u001b[0m\u001b[0mdriver_command\u001b[0m\u001b[1;33m,\u001b[0m \u001b[0mparams\u001b[0m\u001b[1;33m)\u001b[0m\u001b[1;33m\u001b[0m\u001b[1;33m\u001b[0m\u001b[0m\n\u001b[0;32m    320\u001b[0m         \u001b[1;32mif\u001b[0m \u001b[0mresponse\u001b[0m\u001b[1;33m:\u001b[0m\u001b[1;33m\u001b[0m\u001b[1;33m\u001b[0m\u001b[0m\n\u001b[1;32m--> 321\u001b[1;33m             \u001b[0mself\u001b[0m\u001b[1;33m.\u001b[0m\u001b[0merror_handler\u001b[0m\u001b[1;33m.\u001b[0m\u001b[0mcheck_response\u001b[0m\u001b[1;33m(\u001b[0m\u001b[0mresponse\u001b[0m\u001b[1;33m)\u001b[0m\u001b[1;33m\u001b[0m\u001b[1;33m\u001b[0m\u001b[0m\n\u001b[0m\u001b[0;32m    322\u001b[0m             response['value'] = self._unwrap_value(\n\u001b[0;32m    323\u001b[0m                 response.get('value', None))\n",
      "\u001b[1;32mC:\\ProgramData\\Anaconda3\\lib\\site-packages\\selenium\\webdriver\\remote\\errorhandler.py\u001b[0m in \u001b[0;36mcheck_response\u001b[1;34m(self, response)\u001b[0m\n\u001b[0;32m    240\u001b[0m                 \u001b[0malert_text\u001b[0m \u001b[1;33m=\u001b[0m \u001b[0mvalue\u001b[0m\u001b[1;33m[\u001b[0m\u001b[1;34m'alert'\u001b[0m\u001b[1;33m]\u001b[0m\u001b[1;33m.\u001b[0m\u001b[0mget\u001b[0m\u001b[1;33m(\u001b[0m\u001b[1;34m'text'\u001b[0m\u001b[1;33m)\u001b[0m\u001b[1;33m\u001b[0m\u001b[1;33m\u001b[0m\u001b[0m\n\u001b[0;32m    241\u001b[0m             \u001b[1;32mraise\u001b[0m \u001b[0mexception_class\u001b[0m\u001b[1;33m(\u001b[0m\u001b[0mmessage\u001b[0m\u001b[1;33m,\u001b[0m \u001b[0mscreen\u001b[0m\u001b[1;33m,\u001b[0m \u001b[0mstacktrace\u001b[0m\u001b[1;33m,\u001b[0m \u001b[0malert_text\u001b[0m\u001b[1;33m)\u001b[0m\u001b[1;33m\u001b[0m\u001b[1;33m\u001b[0m\u001b[0m\n\u001b[1;32m--> 242\u001b[1;33m         \u001b[1;32mraise\u001b[0m \u001b[0mexception_class\u001b[0m\u001b[1;33m(\u001b[0m\u001b[0mmessage\u001b[0m\u001b[1;33m,\u001b[0m \u001b[0mscreen\u001b[0m\u001b[1;33m,\u001b[0m \u001b[0mstacktrace\u001b[0m\u001b[1;33m)\u001b[0m\u001b[1;33m\u001b[0m\u001b[1;33m\u001b[0m\u001b[0m\n\u001b[0m\u001b[0;32m    243\u001b[0m \u001b[1;33m\u001b[0m\u001b[0m\n\u001b[0;32m    244\u001b[0m     \u001b[1;32mdef\u001b[0m \u001b[0m_value_or_default\u001b[0m\u001b[1;33m(\u001b[0m\u001b[0mself\u001b[0m\u001b[1;33m,\u001b[0m \u001b[0mobj\u001b[0m\u001b[1;33m,\u001b[0m \u001b[0mkey\u001b[0m\u001b[1;33m,\u001b[0m \u001b[0mdefault\u001b[0m\u001b[1;33m)\u001b[0m\u001b[1;33m:\u001b[0m\u001b[1;33m\u001b[0m\u001b[1;33m\u001b[0m\u001b[0m\n",
      "\u001b[1;31mElementNotInteractableException\u001b[0m: Message: element not interactable\n  (Session info: chrome=76.0.3809.100)\n"
     ]
    }
   ],
   "source": [
    "for x in range(len(total_tree)):\n",
    "    driver.find_element_by_xpath(f'//*[@id=\"row-1\"]/td[3]/select').send_keys(total_tree[\"수목명\"][x])\n",
    "    driver.find_element_by_xpath(f'//*[@id=\"row-1\"]/td[4]/input').clear()\n",
    "    driver.find_element_by_xpath(f'//*[@id=\"row-1\"]/td[4]/input').send_keys(int(total_tree[\"흉고지름\"][x]))\n",
    "    driver.find_element_by_xpath(f'//*[@id=\"row-1\"]/td[9]/select').send_keys('c')\n",
    "    driver.find_element_by_xpath(f'//*[@id=\"row-1\"]/td[11]/input').clear()\n",
    "    driver.find_element_by_xpath(f'//*[@id=\"row-1\"]/td[11]/input').send_keys(1)\n",
    "    driver.find_element_by_xpath('//*[@id=\"trees\"]/button').click()\n",
    "    wait.until(lambda driver:driver.find_element_by_xpath('//*[@id=\"report-table-english_wrapper\"]/div[1]/div[1]/div/a[2]').is_displayed())\n",
    "    driver.find_element_by_xpath('//*[@id=\"report-table-english_wrapper\"]/div[1]/div[1]/div/a[2]').click()"
   ]
  },
  {
   "cell_type": "code",
   "execution_count": 113,
   "metadata": {},
   "outputs": [
    {
     "ename": "NameError",
     "evalue": "name 'Itrees' is not defined",
     "output_type": "error",
     "traceback": [
      "\u001b[1;31m---------------------------------------------------------------------------\u001b[0m",
      "\u001b[1;31mNameError\u001b[0m                                 Traceback (most recent call last)",
      "\u001b[1;32m<ipython-input-113-4d5e806c12c4>\u001b[0m in \u001b[0;36m<module>\u001b[1;34m\u001b[0m\n\u001b[1;32m----> 1\u001b[1;33m \u001b[1;32mfor\u001b[0m \u001b[0mi\u001b[0m \u001b[1;32min\u001b[0m \u001b[0mItrees\u001b[0m\u001b[1;33m[\u001b[0m\u001b[1;33m:\u001b[0m\u001b[1;36m10\u001b[0m\u001b[1;33m]\u001b[0m\u001b[1;33m.\u001b[0m\u001b[0miterrows\u001b[0m\u001b[1;33m(\u001b[0m\u001b[1;33m)\u001b[0m\u001b[1;33m:\u001b[0m\u001b[1;33m\u001b[0m\u001b[1;33m\u001b[0m\u001b[0m\n\u001b[0m\u001b[0;32m      2\u001b[0m     \u001b[0mj\u001b[0m \u001b[1;33m=\u001b[0m \u001b[1;36m1\u001b[0m\u001b[1;33m\u001b[0m\u001b[1;33m\u001b[0m\u001b[0m\n\u001b[0;32m      3\u001b[0m     \u001b[0mdriver\u001b[0m\u001b[1;33m.\u001b[0m\u001b[0mfind_element_by_xpath\u001b[0m\u001b[1;33m(\u001b[0m\u001b[1;34m\"//tr[@id='row-{0}']//select[@class='tree-species']/option[@value='{1}']\"\u001b[0m\u001b[1;33m.\u001b[0m\u001b[0mformat\u001b[0m\u001b[1;33m(\u001b[0m\u001b[0mj\u001b[0m\u001b[1;33m,\u001b[0m \u001b[0mi\u001b[0m\u001b[1;33m[\u001b[0m\u001b[1;36m1\u001b[0m\u001b[1;33m]\u001b[0m\u001b[1;33m[\u001b[0m\u001b[1;36m0\u001b[0m\u001b[1;33m]\u001b[0m\u001b[1;33m)\u001b[0m\u001b[1;33m)\u001b[0m\u001b[1;33m.\u001b[0m\u001b[0mclick\u001b[0m\u001b[1;33m(\u001b[0m\u001b[1;33m)\u001b[0m\u001b[1;33m\u001b[0m\u001b[1;33m\u001b[0m\u001b[0m\n\u001b[0;32m      4\u001b[0m     \u001b[0mdriver\u001b[0m\u001b[1;33m.\u001b[0m\u001b[0mfind_element_by_xpath\u001b[0m\u001b[1;33m(\u001b[0m\u001b[1;34m\"//tr[@id='row-{0}']//input[@class='tree-dbh']\"\u001b[0m\u001b[1;33m.\u001b[0m\u001b[0mformat\u001b[0m\u001b[1;33m(\u001b[0m\u001b[0mj\u001b[0m\u001b[1;33m)\u001b[0m\u001b[1;33m)\u001b[0m\u001b[1;33m.\u001b[0m\u001b[0mclear\u001b[0m\u001b[1;33m(\u001b[0m\u001b[1;33m)\u001b[0m\u001b[1;33m\u001b[0m\u001b[1;33m\u001b[0m\u001b[0m\n\u001b[0;32m      5\u001b[0m     \u001b[0mdriver\u001b[0m\u001b[1;33m.\u001b[0m\u001b[0mfind_element_by_xpath\u001b[0m\u001b[1;33m(\u001b[0m\u001b[1;34m\"//tr[@id='row-{0}']//input[@class='tree-dbh']\"\u001b[0m\u001b[1;33m.\u001b[0m\u001b[0mformat\u001b[0m\u001b[1;33m(\u001b[0m\u001b[0mj\u001b[0m\u001b[1;33m)\u001b[0m\u001b[1;33m)\u001b[0m\u001b[1;33m.\u001b[0m\u001b[0msend_keys\u001b[0m\u001b[1;33m(\u001b[0m\u001b[1;34m\"{}\"\u001b[0m\u001b[1;33m.\u001b[0m\u001b[0mformat\u001b[0m\u001b[1;33m(\u001b[0m\u001b[0mi\u001b[0m\u001b[1;33m[\u001b[0m\u001b[1;36m1\u001b[0m\u001b[1;33m]\u001b[0m\u001b[1;33m[\u001b[0m\u001b[1;36m1\u001b[0m\u001b[1;33m]\u001b[0m\u001b[1;33m)\u001b[0m\u001b[1;33m)\u001b[0m\u001b[1;33m\u001b[0m\u001b[1;33m\u001b[0m\u001b[0m\n",
      "\u001b[1;31mNameError\u001b[0m: name 'Itrees' is not defined"
     ]
    }
   ],
   "source": [
    "for i in Itrees[:10].iterrows():\n",
    "    j = 1\n",
    "    driver.find_element_by_xpath(\"//tr[@id='row-{0}']//select[@class='tree-species']/option[@value='{1}']\".format(j, i[1][0])).click()\n",
    "    driver.find_element_by_xpath(\"//tr[@id='row-{0}']//input[@class='tree-dbh']\".format(j)).clear()\n",
    "    driver.find_element_by_xpath(\"//tr[@id='row-{0}']//input[@class='tree-dbh']\".format(j)).send_keys(\"{}\".format(i[1][1]))\n",
    "    driver.find_element_by_xpath(\"//tr[@id='row-{0}']//select[@class='tree-condition']//option[@value='{1}']\".format(j,i[1][2])).click()\n",
    "\n",
    "    driver.find_element_by_xpath(\"//div[@id='trees']//input[@id='add-row-button']\").click()\n",
    "    j += 1"
   ]
  },
  {
   "cell_type": "code",
   "execution_count": 126,
   "metadata": {},
   "outputs": [],
   "source": [
    "a = driver.find_element_by_xpath('//*[@id=\"row-1\"]/td[3]/select').text\n",
    "a = a.split('\\n')"
   ]
  },
  {
   "cell_type": "code",
   "execution_count": 135,
   "metadata": {},
   "outputs": [],
   "source": [
    "a = pd.DataFrame(a)"
   ]
  },
  {
   "cell_type": "code",
   "execution_count": 144,
   "metadata": {},
   "outputs": [],
   "source": [
    "a.to_csv(\"파일명.csv\", index=False, encoding='ms949')"
   ]
  },
  {
   "cell_type": "code",
   "execution_count": 185,
   "metadata": {},
   "outputs": [],
   "source": [
    "driver.close()"
   ]
  },
  {
   "cell_type": "markdown",
   "metadata": {},
   "source": [
    "# Itree 수목명 뽑아내기"
   ]
  },
  {
   "cell_type": "code",
   "execution_count": 153,
   "metadata": {},
   "outputs": [],
   "source": [
    "wait.until(lambda driver: driver.find_element_by_xpath('//*[@id=\"id_partition\"]').is_displayed())\n",
    "driver.find_element_by_xpath('//*[@id=\"id_partition\"]').send_keys(303)"
   ]
  },
  {
   "cell_type": "code",
   "execution_count": 158,
   "metadata": {},
   "outputs": [],
   "source": [
    "wait.until(lambda driver: driver.find_element_by_id(\"id_secondary_partition\").is_displayed())\n",
    "driver.find_element_by_xpath('//*[@id=\"id_secondary_partition\"]/option[@value=\"{0}\"]'.format(x)).click()"
   ]
  },
  {
   "cell_type": "code",
   "execution_count": null,
   "metadata": {},
   "outputs": [],
   "source": []
  },
  {
   "cell_type": "markdown",
   "metadata": {},
   "source": [
    "# Benefit CSV 만들기"
   ]
  },
  {
   "cell_type": "code",
   "execution_count": 115,
   "metadata": {},
   "outputs": [],
   "source": [
    "a = pd.read_csv('C:\\\\Users\\\\배현지\\\\Downloads\\\\i-Tree_Planting-v1.2.0-data_Champaign-IL.csv', engine = 'python')"
   ]
  },
  {
   "cell_type": "code",
   "execution_count": 116,
   "metadata": {},
   "outputs": [],
   "source": [
    "b = pd.read_csv('C:\\\\Users\\\\배현지\\\\Downloads\\\\i-Tree_Planting-v1.2.0-data_Champaign-IL (1).csv', engine = 'python')"
   ]
  },
  {
   "cell_type": "code",
   "execution_count": 117,
   "metadata": {
    "collapsed": true
   },
   "outputs": [],
   "source": [
    "c = pd.concat([a,b])"
   ]
  },
  {
   "cell_type": "code",
   "execution_count": 118,
   "metadata": {
    "scrolled": true
   },
   "outputs": [
    {
     "data": {
      "text/html": [
       "<div>\n",
       "<style scoped>\n",
       "    .dataframe tbody tr th:only-of-type {\n",
       "        vertical-align: middle;\n",
       "    }\n",
       "\n",
       "    .dataframe tbody tr th {\n",
       "        vertical-align: top;\n",
       "    }\n",
       "\n",
       "    .dataframe thead th {\n",
       "        text-align: right;\n",
       "    }\n",
       "</style>\n",
       "<table border=\"1\" class=\"dataframe\">\n",
       "  <thead>\n",
       "    <tr style=\"text-align: right;\">\n",
       "      <th></th>\n",
       "      <th></th>\n",
       "      <th></th>\n",
       "      <th></th>\n",
       "      <th></th>\n",
       "      <th></th>\n",
       "      <th></th>\n",
       "      <th></th>\n",
       "      <th></th>\n",
       "      <th></th>\n",
       "      <th></th>\n",
       "      <th></th>\n",
       "      <th></th>\n",
       "      <th></th>\n",
       "      <th></th>\n",
       "      <th></th>\n",
       "      <th></th>\n",
       "      <th></th>\n",
       "      <th></th>\n",
       "      <th></th>\n",
       "      <th>This data was produced from the i-Tree Planting Calculator version 1.2.0 for Champaign</th>\n",
       "      <th>IL.</th>\n",
       "    </tr>\n",
       "  </thead>\n",
       "  <tbody>\n",
       "    <tr>\n",
       "      <th>Group Identifier</th>\n",
       "      <th>Tree Group Characteristics</th>\n",
       "      <th>CO2 Avoided (pounds)</th>\n",
       "      <th>CO2 Avoided ($)</th>\n",
       "      <th>CO2 Sequestered (pounds)</th>\n",
       "      <th>CO2 Sequestered ($)</th>\n",
       "      <th>Electricity Saved (kWh)</th>\n",
       "      <th>Electricity Saved ($)</th>\n",
       "      <th>Fuel Saved (MMBtu)</th>\n",
       "      <th>Fuel Saved ($)</th>\n",
       "      <th>Tree Biomass (short ton)</th>\n",
       "      <th>Rainfall Interception (gallons)</th>\n",
       "      <th>Avoided Runoff (gallons)</th>\n",
       "      <th>Avoided Runoff ($)</th>\n",
       "      <th>O3 Removed (pounds)</th>\n",
       "      <th>NO2 Avoided (pounds)</th>\n",
       "      <th>NO2 Removed (pounds)</th>\n",
       "      <th>SO2 Avoided (pounds)</th>\n",
       "      <th>SO2 Removed (pounds)</th>\n",
       "      <th>VOC Avoided (pounds)</th>\n",
       "      <td>PM2.5                                         ...</td>\n",
       "      <td>PM2.5                                         ...</td>\n",
       "    </tr>\n",
       "    <tr>\n",
       "      <th>1</th>\n",
       "      <th>(1) Alder (Alnus  species)  at 1 inch DBH.Planted 0-19 feet and north (0째) of buildings that were built post-1980 with heat and A/C.Trees are in excellent condition and planted in full sun.</th>\n",
       "      <th>9,500.1</th>\n",
       "      <th>$220.94</th>\n",
       "      <th>2,168.3</th>\n",
       "      <th>$50.43</th>\n",
       "      <th>1,783.6</th>\n",
       "      <th>$204.88</th>\n",
       "      <th>36.6</th>\n",
       "      <th>$462.36</th>\n",
       "      <th>0.5</th>\n",
       "      <th>22,492.8</th>\n",
       "      <th>5,781.7</th>\n",
       "      <th>$51.66</th>\n",
       "      <th>12.2</th>\n",
       "      <th>1.3</th>\n",
       "      <th>2.1</th>\n",
       "      <th>22.0</th>\n",
       "      <th>1.2</th>\n",
       "      <th>0.2</th>\n",
       "      <td>0.1</td>\n",
       "      <td>0.9</td>\n",
       "    </tr>\n",
       "    <tr>\n",
       "      <th>2</th>\n",
       "      <th>(1) Alder (Alnus  species)  at 1 inch DBH.Planted 0-19 feet and north (0째) of buildings that were built post-1980 with heat and A/C.Trees are in excellent condition and planted in full sun.</th>\n",
       "      <th>9,500.1</th>\n",
       "      <th>$220.94</th>\n",
       "      <th>2,168.3</th>\n",
       "      <th>$50.43</th>\n",
       "      <th>1,783.6</th>\n",
       "      <th>$204.88</th>\n",
       "      <th>36.6</th>\n",
       "      <th>$462.36</th>\n",
       "      <th>0.5</th>\n",
       "      <th>22,492.8</th>\n",
       "      <th>5,781.7</th>\n",
       "      <th>$51.66</th>\n",
       "      <th>12.2</th>\n",
       "      <th>1.3</th>\n",
       "      <th>2.1</th>\n",
       "      <th>22.0</th>\n",
       "      <th>1.2</th>\n",
       "      <th>0.2</th>\n",
       "      <td>0.1</td>\n",
       "      <td>0.9</td>\n",
       "    </tr>\n",
       "    <tr>\n",
       "      <th>Group Identifier</th>\n",
       "      <th>Tree Group Characteristics</th>\n",
       "      <th>CO2 Avoided (pounds)</th>\n",
       "      <th>CO2 Avoided ($)</th>\n",
       "      <th>CO2 Sequestered (pounds)</th>\n",
       "      <th>CO2 Sequestered ($)</th>\n",
       "      <th>Electricity Saved (kWh)</th>\n",
       "      <th>Electricity Saved ($)</th>\n",
       "      <th>Fuel Saved (MMBtu)</th>\n",
       "      <th>Fuel Saved ($)</th>\n",
       "      <th>Tree Biomass (short ton)</th>\n",
       "      <th>Rainfall Interception (gallons)</th>\n",
       "      <th>Avoided Runoff (gallons)</th>\n",
       "      <th>Avoided Runoff ($)</th>\n",
       "      <th>O3 Removed (pounds)</th>\n",
       "      <th>NO2 Avoided (pounds)</th>\n",
       "      <th>NO2 Removed (pounds)</th>\n",
       "      <th>SO2 Avoided (pounds)</th>\n",
       "      <th>SO2 Removed (pounds)</th>\n",
       "      <th>VOC Avoided (pounds)</th>\n",
       "      <td>PM2.5                                         ...</td>\n",
       "      <td>PM2.5                                         ...</td>\n",
       "    </tr>\n",
       "    <tr>\n",
       "      <th>1</th>\n",
       "      <th>(1) Alder (Alnus  species)  at 1 inch DBH.Planted 0-19 feet and north (0째) of buildings that were built post-1980 with heat and A/C.Trees are in excellent condition and planted in full sun.</th>\n",
       "      <th>9,500.1</th>\n",
       "      <th>$220.94</th>\n",
       "      <th>2,168.3</th>\n",
       "      <th>$50.43</th>\n",
       "      <th>1,783.6</th>\n",
       "      <th>$204.88</th>\n",
       "      <th>36.6</th>\n",
       "      <th>$462.36</th>\n",
       "      <th>0.5</th>\n",
       "      <th>22,492.8</th>\n",
       "      <th>5,781.7</th>\n",
       "      <th>$51.66</th>\n",
       "      <th>12.2</th>\n",
       "      <th>1.3</th>\n",
       "      <th>2.1</th>\n",
       "      <th>22.0</th>\n",
       "      <th>1.2</th>\n",
       "      <th>0.2</th>\n",
       "      <td>0.1</td>\n",
       "      <td>0.9</td>\n",
       "    </tr>\n",
       "    <tr>\n",
       "      <th>2</th>\n",
       "      <th>(1) Alder (Alnus  species)  at 1 inch DBH.Planted 0-19 feet and north (0째) of buildings that were built post-1980 with heat and A/C.Trees are in excellent condition and planted in full sun.</th>\n",
       "      <th>9,500.1</th>\n",
       "      <th>$220.94</th>\n",
       "      <th>2,168.3</th>\n",
       "      <th>$50.43</th>\n",
       "      <th>1,783.6</th>\n",
       "      <th>$204.88</th>\n",
       "      <th>36.6</th>\n",
       "      <th>$462.36</th>\n",
       "      <th>0.5</th>\n",
       "      <th>22,492.8</th>\n",
       "      <th>5,781.7</th>\n",
       "      <th>$51.66</th>\n",
       "      <th>12.2</th>\n",
       "      <th>1.3</th>\n",
       "      <th>2.1</th>\n",
       "      <th>22.0</th>\n",
       "      <th>1.2</th>\n",
       "      <th>0.2</th>\n",
       "      <td>0.1</td>\n",
       "      <td>0.9</td>\n",
       "    </tr>\n",
       "  </tbody>\n",
       "</table>\n",
       "</div>"
      ],
      "text/plain": [
       "                                                                                                                                                                                                                                                                                                                                                                                                                                                                        This data was produced from the i-Tree Planting Calculator version 1.2.0 for Champaign  \\\n",
       "Group Identifier Tree Group Characteristics                         CO2 Avoided (pounds) CO2 Avoided ($) CO2 Sequestered (pounds) CO2 Sequestered ($) Electricity Saved (kWh) Electricity Saved ($) Fuel Saved (MMBtu) Fuel Saved ($) Tree Biomass (short ton) Rainfall Interception (gallons) Avoided Runoff (gallons) Avoided Runoff ($) O3 Removed (pounds) NO2 Avoided (pounds) NO2 Removed (pounds) SO2 Avoided (pounds) SO2 Removed (pounds) VOC Avoided (pounds)  PM2.5                                         ...                                       \n",
       "1                (1) Alder (Alnus  species)  at 1 inch DBH.Plant... 9,500.1              $220.94         2,168.3                  $50.43              1,783.6                 $204.88               36.6               $462.36        0.5                      22,492.8                        5,781.7                  $51.66             12.2                1.3                  2.1                  22.0                 1.2                  0.2                                                                 0.1                                       \n",
       "2                (1) Alder (Alnus  species)  at 1 inch DBH.Plant... 9,500.1              $220.94         2,168.3                  $50.43              1,783.6                 $204.88               36.6               $462.36        0.5                      22,492.8                        5,781.7                  $51.66             12.2                1.3                  2.1                  22.0                 1.2                  0.2                                                                 0.1                                       \n",
       "Group Identifier Tree Group Characteristics                         CO2 Avoided (pounds) CO2 Avoided ($) CO2 Sequestered (pounds) CO2 Sequestered ($) Electricity Saved (kWh) Electricity Saved ($) Fuel Saved (MMBtu) Fuel Saved ($) Tree Biomass (short ton) Rainfall Interception (gallons) Avoided Runoff (gallons) Avoided Runoff ($) O3 Removed (pounds) NO2 Avoided (pounds) NO2 Removed (pounds) SO2 Avoided (pounds) SO2 Removed (pounds) VOC Avoided (pounds)  PM2.5                                         ...                                       \n",
       "1                (1) Alder (Alnus  species)  at 1 inch DBH.Plant... 9,500.1              $220.94         2,168.3                  $50.43              1,783.6                 $204.88               36.6               $462.36        0.5                      22,492.8                        5,781.7                  $51.66             12.2                1.3                  2.1                  22.0                 1.2                  0.2                                                                 0.1                                       \n",
       "2                (1) Alder (Alnus  species)  at 1 inch DBH.Plant... 9,500.1              $220.94         2,168.3                  $50.43              1,783.6                 $204.88               36.6               $462.36        0.5                      22,492.8                        5,781.7                  $51.66             12.2                1.3                  2.1                  22.0                 1.2                  0.2                                                                 0.1                                       \n",
       "\n",
       "                                                                                                                                                                                                                                                                                                                                                                                                                                                                                                                       IL.  \n",
       "Group Identifier Tree Group Characteristics                         CO2 Avoided (pounds) CO2 Avoided ($) CO2 Sequestered (pounds) CO2 Sequestered ($) Electricity Saved (kWh) Electricity Saved ($) Fuel Saved (MMBtu) Fuel Saved ($) Tree Biomass (short ton) Rainfall Interception (gallons) Avoided Runoff (gallons) Avoided Runoff ($) O3 Removed (pounds) NO2 Avoided (pounds) NO2 Removed (pounds) SO2 Avoided (pounds) SO2 Removed (pounds) VOC Avoided (pounds)  PM2.5                                         ...  \n",
       "1                (1) Alder (Alnus  species)  at 1 inch DBH.Plant... 9,500.1              $220.94         2,168.3                  $50.43              1,783.6                 $204.88               36.6               $462.36        0.5                      22,492.8                        5,781.7                  $51.66             12.2                1.3                  2.1                  22.0                 1.2                  0.2                                                                 0.9  \n",
       "2                (1) Alder (Alnus  species)  at 1 inch DBH.Plant... 9,500.1              $220.94         2,168.3                  $50.43              1,783.6                 $204.88               36.6               $462.36        0.5                      22,492.8                        5,781.7                  $51.66             12.2                1.3                  2.1                  22.0                 1.2                  0.2                                                                 0.9  \n",
       "Group Identifier Tree Group Characteristics                         CO2 Avoided (pounds) CO2 Avoided ($) CO2 Sequestered (pounds) CO2 Sequestered ($) Electricity Saved (kWh) Electricity Saved ($) Fuel Saved (MMBtu) Fuel Saved ($) Tree Biomass (short ton) Rainfall Interception (gallons) Avoided Runoff (gallons) Avoided Runoff ($) O3 Removed (pounds) NO2 Avoided (pounds) NO2 Removed (pounds) SO2 Avoided (pounds) SO2 Removed (pounds) VOC Avoided (pounds)  PM2.5                                         ...  \n",
       "1                (1) Alder (Alnus  species)  at 1 inch DBH.Plant... 9,500.1              $220.94         2,168.3                  $50.43              1,783.6                 $204.88               36.6               $462.36        0.5                      22,492.8                        5,781.7                  $51.66             12.2                1.3                  2.1                  22.0                 1.2                  0.2                                                                 0.9  \n",
       "2                (1) Alder (Alnus  species)  at 1 inch DBH.Plant... 9,500.1              $220.94         2,168.3                  $50.43              1,783.6                 $204.88               36.6               $462.36        0.5                      22,492.8                        5,781.7                  $51.66             12.2                1.3                  2.1                  22.0                 1.2                  0.2                                                                 0.9  "
      ]
     },
     "execution_count": 118,
     "metadata": {},
     "output_type": "execute_result"
    }
   ],
   "source": [
    "c"
   ]
  },
  {
   "cell_type": "markdown",
   "metadata": {},
   "source": [
    "# NAMU"
   ]
  },
  {
   "cell_type": "code",
   "execution_count": 7,
   "metadata": {},
   "outputs": [],
   "source": [
    "import re\n",
    "aa = driver.find_element_by_xpath('//*[@id=\"row-1\"]/td[3]/select').text\n",
    "pattern3 = re.compile(r\"[^ 0-9A-Za-z가-힣]\")\n",
    "Namu = list()\n",
    "for x in pattern3.sub(\" \", aa).split():\n",
    "    Namu.append(x)"
   ]
  },
  {
   "cell_type": "code",
   "execution_count": 257,
   "metadata": {},
   "outputs": [],
   "source": [
    "tree_kr = pd.read_csv('C:\\\\Users\\\\배현지\\\\Desktop\\\\HY\\\\4학년 1학기 방학\\\\고오대\\\\Team\\\\tree_kr_en.csv', engine = 'python')"
   ]
  },
  {
   "cell_type": "code",
   "execution_count": 304,
   "metadata": {},
   "outputs": [
    {
     "data": {
      "text/plain": [
       "{'Acanthaceae',\n",
       " 'Aceraceae',\n",
       " 'Actinidiaceae',\n",
       " 'Aesculus',\n",
       " 'Agavaceae',\n",
       " 'Aizoaceae',\n",
       " 'Alismataceae',\n",
       " 'Amaranthaceae',\n",
       " 'Amaryllidaceae',\n",
       " 'Ammiaceae',\n",
       " 'Anacardiaceae',\n",
       " 'Annonaceae',\n",
       " 'Apiaceae ',\n",
       " 'Apocynaceae',\n",
       " 'Aquifoliacae',\n",
       " 'Aquifoliaceae',\n",
       " 'Araceae',\n",
       " 'Araliaceae',\n",
       " 'Arateae',\n",
       " 'Arecaceae',\n",
       " 'Aristolochiaceae',\n",
       " 'Asclepiadaceae',\n",
       " 'Aspidiaceae',\n",
       " 'Asteraceae',\n",
       " 'Begoniaceae',\n",
       " 'Berberidaceae',\n",
       " 'Betulaceae',\n",
       " 'Bignoniaceae',\n",
       " 'Biqnoniaceae',\n",
       " 'Bixaceae',\n",
       " 'Boraginaceae',\n",
       " 'Borraginaceae',\n",
       " 'Bromeliaceae',\n",
       " 'Buxaceae',\n",
       " 'Cactaceae',\n",
       " 'Campanulaceae',\n",
       " 'Caprifoliaceae',\n",
       " 'Caryophyllaceae',\n",
       " 'Celastraceae',\n",
       " 'Cercidiphyllaceae',\n",
       " 'Clusiaceae',\n",
       " 'Combretaceae',\n",
       " 'Commelinaceae',\n",
       " 'Compositae',\n",
       " 'Cornaceae',\n",
       " 'Crassulaceae',\n",
       " 'Crassulaceae ',\n",
       " 'Crinum',\n",
       " 'Cucurbitaceae',\n",
       " 'Cupressaceae',\n",
       " 'Cycadaceae',\n",
       " 'Cyperaceae',\n",
       " 'Daphniphyllaceae',\n",
       " 'Dioscoreaceae',\n",
       " 'Dipterocarpaceae',\n",
       " 'Droseraceae',\n",
       " 'Ebenaceae',\n",
       " 'Elaeagnaceae',\n",
       " 'Ericaceae',\n",
       " 'Eucommiaceae',\n",
       " 'Euphorbiaceae',\n",
       " 'Fabaceae',\n",
       " 'Fagaceae',\n",
       " 'Flacourtiaceae',\n",
       " 'Fumariaceae',\n",
       " 'Ginkgoaceae',\n",
       " 'Graminae, Poaceae',\n",
       " 'Gramineae',\n",
       " 'Hamamelidaceae',\n",
       " 'Hippocastanaceae',\n",
       " 'Iridaceae',\n",
       " 'Juglandaceae',\n",
       " 'Labiatae',\n",
       " 'Lamiaceae',\n",
       " 'Lardizabalaceae',\n",
       " 'Lauraceae',\n",
       " 'Lauraceae ',\n",
       " 'Laviatae',\n",
       " 'Leguminnosae',\n",
       " 'Leguminosae',\n",
       " 'Lentibulariaceae',\n",
       " 'Liliaceae',\n",
       " 'Lobeliaceae',\n",
       " 'Loganiaceae',\n",
       " 'Lythraceae',\n",
       " 'Magnoliaceae',\n",
       " 'Malvaceae',\n",
       " 'Marantaceae',\n",
       " 'Melastomataceae',\n",
       " 'Meliaaceae',\n",
       " 'Meliaceae',\n",
       " 'Moraceae',\n",
       " 'Moringaceae',\n",
       " 'Musaceae',\n",
       " 'Musaceae ',\n",
       " 'Myricaceae',\n",
       " 'Myrtaceae',\n",
       " 'Nelumbonaceae',\n",
       " 'Nyctaginaceae',\n",
       " 'Nymphaeaceae',\n",
       " 'Nymphaeceae',\n",
       " 'Oeaceae',\n",
       " 'Oleaceae',\n",
       " 'Onagraceae',\n",
       " 'Orchidaceae',\n",
       " 'Osmundaceae',\n",
       " 'Oxalidaceae',\n",
       " 'Paeoniaceae',\n",
       " 'Palmae',\n",
       " 'Pandanaceae',\n",
       " 'Papaveraceae',\n",
       " 'Passifloraceae',\n",
       " 'Pea',\n",
       " 'Pinaceae',\n",
       " 'Piperaceae',\n",
       " 'Platanaceae',\n",
       " 'Poaceae',\n",
       " 'Polemoniaceae',\n",
       " 'Polygonaceae',\n",
       " 'Polyqonaceae',\n",
       " 'Pontederiaceae',\n",
       " 'Primulaceae',\n",
       " 'Proteaceae',\n",
       " 'Prunus mune',\n",
       " 'Punicaceae',\n",
       " 'Ranunculaceae',\n",
       " 'Rhamnaceae',\n",
       " 'Rosaceae',\n",
       " 'Rubiaceae',\n",
       " 'Rutaceae',\n",
       " 'Salicaceae',\n",
       " 'Salviniaceae',\n",
       " 'Sapindaceae',\n",
       " 'Saururaceae',\n",
       " 'Saxifragaceae',\n",
       " 'Schisandraceae',\n",
       " 'Scrophulariaceae',\n",
       " 'Simaroubaceae',\n",
       " 'Solanaceae',\n",
       " 'Sparganiaceae',\n",
       " 'Staphyleaceae',\n",
       " 'Sterculiaceae',\n",
       " 'Styracaceae',\n",
       " 'Symploacaceae',\n",
       " 'Taxaceae',\n",
       " 'Taxodiaceae',\n",
       " 'Theaceae',\n",
       " 'Thymelaeaceae',\n",
       " 'Tiliaceae',\n",
       " 'Typhaceae',\n",
       " 'Ulmaceae',\n",
       " 'Urticaceae',\n",
       " 'Valerianaceae',\n",
       " 'Verbenaceae',\n",
       " 'Violaceae',\n",
       " 'Vitaceae',\n",
       " 'Xanthorrhoeaceae',\n",
       " 'Zamiaceae',\n",
       " 'Zingiberaceae',\n",
       " 'Zingiberaceae ',\n",
       " 'apocynaceae',\n",
       " 'polypodiaceae'}"
      ]
     },
     "execution_count": 304,
     "metadata": {},
     "output_type": "execute_result"
    }
   ],
   "source": [
    "set(tree_kr[\"과명\"])"
   ]
  },
  {
   "cell_type": "code",
   "execution_count": 8,
   "metadata": {},
   "outputs": [
    {
     "data": {
      "text/plain": [
       "170"
      ]
     },
     "execution_count": 8,
     "metadata": {},
     "output_type": "execute_result"
    }
   ],
   "source": [
    "len(Namu)"
   ]
  },
  {
   "cell_type": "code",
   "execution_count": 3,
   "metadata": {},
   "outputs": [],
   "source": [
    "total_tree = pd.read_csv('C:\\\\Users\\\\배현지\\\\Desktop\\\\HY\\\\4학년 1학기 방학\\\\고오대\\\\Team\\\\total_tree.csv', engine = 'python')"
   ]
  },
  {
   "cell_type": "code",
   "execution_count": 8,
   "metadata": {
    "scrolled": true
   },
   "outputs": [
    {
     "data": {
      "text/plain": [
       "은행나무       141917\n",
       "양버즘나무       80581\n",
       "            64958\n",
       "느티나무        39963\n",
       "버즘나무        21487\n",
       "메타세쿼이아      12444\n",
       "벚나무         11319\n",
       "소나무          8845\n",
       "왕벚나무         8036\n",
       "회화나무         5894\n",
       "이팝나무         2649\n",
       "중국단풍         2401\n",
       "아카시아나무       2238\n",
       "튤립나무         2234\n",
       "단풍나무         2173\n",
       "은단풍          1876\n",
       "가죽나무         1737\n",
       "버드나무         1668\n",
       "목련           1640\n",
       "칠엽수          1624\n",
       "감나무          1542\n",
       "향나무          1469\n",
       "오동나무         1259\n",
       "이태리포플러       1051\n",
       "은백양           988\n",
       "현사시나무         830\n",
       "상수리나무         814\n",
       "측백나무          685\n",
       "수양버들          506\n",
       "스트로브잣나무       478\n",
       "            ...  \n",
       "모감주나무           2\n",
       "복나무             1\n",
       "갈매나무            1\n",
       "나무수국            1\n",
       "거제수나무           1\n",
       "명자나무            1\n",
       "물박달나무           1\n",
       "곰솔나무            1\n",
       "분비나무            1\n",
       "우산고로쇠           1\n",
       "노간주나무           1\n",
       "옥향              1\n",
       "능금나무            1\n",
       "수국              1\n",
       "괴불나무            1\n",
       "붉나무             1\n",
       "쥐똥나무            1\n",
       "고무나무            1\n",
       "비목나무            1\n",
       "회나무             1\n",
       "닥나무             1\n",
       "눈잣나무            1\n",
       "풍단              1\n",
       "장미              1\n",
       "석류나무            1\n",
       "좁은단풍            1\n",
       "무화과             1\n",
       "탱자나무            1\n",
       "개쉬땅나무           1\n",
       "양버들             1\n",
       "Name: 수목명, Length: 202, dtype: int64"
      ]
     },
     "execution_count": 8,
     "metadata": {},
     "output_type": "execute_result"
    }
   ],
   "source": [
    "total_tree.수목명.value_counts()"
   ]
  },
  {
   "cell_type": "code",
   "execution_count": 94,
   "metadata": {},
   "outputs": [
    {
     "data": {
      "text/plain": [
       "15.0     75823\n",
       "10.0     35005\n",
       "0.0      23625\n",
       "6.0      20873\n",
       "2.0      20255\n",
       "3.0       1714\n",
       "9.0        612\n",
       "5.0        592\n",
       "1.0         66\n",
       "4.0          2\n",
       "105.0        1\n",
       "Name: ITM_ERY, dtype: int64"
      ]
     },
     "execution_count": 94,
     "metadata": {},
     "output_type": "execute_result"
    }
   ],
   "source": [
    "private_tree[\"ITM_ERY\"].value_counts()"
   ]
  },
  {
   "cell_type": "code",
   "execution_count": 153,
   "metadata": {},
   "outputs": [
    {
     "data": {
      "text/plain": [
       "['By',\n",
       " 'EC',\n",
       " 'ElementNotVisibleException',\n",
       " 'In',\n",
       " 'Out',\n",
       " 'WebDriverWait',\n",
       " '_',\n",
       " '_102',\n",
       " '_103',\n",
       " '_104',\n",
       " '_105',\n",
       " '_106',\n",
       " '_108',\n",
       " '_109',\n",
       " '_110',\n",
       " '_111',\n",
       " '_112',\n",
       " '_113',\n",
       " '_115',\n",
       " '_116',\n",
       " '_117',\n",
       " '_119',\n",
       " '_120',\n",
       " '_121',\n",
       " '_122',\n",
       " '_123',\n",
       " '_124',\n",
       " '_125',\n",
       " '_126',\n",
       " '_127',\n",
       " '_128',\n",
       " '_131',\n",
       " '_133',\n",
       " '_134',\n",
       " '_136',\n",
       " '_137',\n",
       " '_138',\n",
       " '_144',\n",
       " '_145',\n",
       " '_146',\n",
       " '_148',\n",
       " '_149',\n",
       " '_150',\n",
       " '_151',\n",
       " '_152',\n",
       " '_27',\n",
       " '_62',\n",
       " '_64',\n",
       " '_65',\n",
       " '_66',\n",
       " '_69',\n",
       " '_70',\n",
       " '_71',\n",
       " '_78',\n",
       " '_80',\n",
       " '_83',\n",
       " '_85',\n",
       " '_86',\n",
       " '_87',\n",
       " '_89',\n",
       " '_90',\n",
       " '_91',\n",
       " '_93',\n",
       " '_94',\n",
       " '_95',\n",
       " '_96',\n",
       " '_98',\n",
       " '__',\n",
       " '___',\n",
       " '__builtin__',\n",
       " '__builtins__',\n",
       " '__doc__',\n",
       " '__loader__',\n",
       " '__name__',\n",
       " '__package__',\n",
       " '__spec__',\n",
       " '_dh',\n",
       " '_i',\n",
       " '_i1',\n",
       " '_i10',\n",
       " '_i100',\n",
       " '_i101',\n",
       " '_i102',\n",
       " '_i103',\n",
       " '_i104',\n",
       " '_i105',\n",
       " '_i106',\n",
       " '_i107',\n",
       " '_i108',\n",
       " '_i109',\n",
       " '_i11',\n",
       " '_i110',\n",
       " '_i111',\n",
       " '_i112',\n",
       " '_i113',\n",
       " '_i114',\n",
       " '_i115',\n",
       " '_i116',\n",
       " '_i117',\n",
       " '_i118',\n",
       " '_i119',\n",
       " '_i12',\n",
       " '_i120',\n",
       " '_i121',\n",
       " '_i122',\n",
       " '_i123',\n",
       " '_i124',\n",
       " '_i125',\n",
       " '_i126',\n",
       " '_i127',\n",
       " '_i128',\n",
       " '_i129',\n",
       " '_i13',\n",
       " '_i130',\n",
       " '_i131',\n",
       " '_i132',\n",
       " '_i133',\n",
       " '_i134',\n",
       " '_i135',\n",
       " '_i136',\n",
       " '_i137',\n",
       " '_i138',\n",
       " '_i139',\n",
       " '_i14',\n",
       " '_i140',\n",
       " '_i141',\n",
       " '_i142',\n",
       " '_i143',\n",
       " '_i144',\n",
       " '_i145',\n",
       " '_i146',\n",
       " '_i147',\n",
       " '_i148',\n",
       " '_i149',\n",
       " '_i15',\n",
       " '_i150',\n",
       " '_i151',\n",
       " '_i152',\n",
       " '_i153',\n",
       " '_i16',\n",
       " '_i17',\n",
       " '_i18',\n",
       " '_i19',\n",
       " '_i2',\n",
       " '_i20',\n",
       " '_i21',\n",
       " '_i22',\n",
       " '_i23',\n",
       " '_i24',\n",
       " '_i25',\n",
       " '_i26',\n",
       " '_i27',\n",
       " '_i28',\n",
       " '_i29',\n",
       " '_i3',\n",
       " '_i30',\n",
       " '_i31',\n",
       " '_i32',\n",
       " '_i33',\n",
       " '_i34',\n",
       " '_i35',\n",
       " '_i36',\n",
       " '_i37',\n",
       " '_i38',\n",
       " '_i39',\n",
       " '_i4',\n",
       " '_i40',\n",
       " '_i41',\n",
       " '_i42',\n",
       " '_i43',\n",
       " '_i44',\n",
       " '_i45',\n",
       " '_i46',\n",
       " '_i47',\n",
       " '_i48',\n",
       " '_i49',\n",
       " '_i5',\n",
       " '_i50',\n",
       " '_i51',\n",
       " '_i52',\n",
       " '_i53',\n",
       " '_i54',\n",
       " '_i55',\n",
       " '_i56',\n",
       " '_i57',\n",
       " '_i58',\n",
       " '_i59',\n",
       " '_i6',\n",
       " '_i60',\n",
       " '_i61',\n",
       " '_i62',\n",
       " '_i63',\n",
       " '_i64',\n",
       " '_i65',\n",
       " '_i66',\n",
       " '_i67',\n",
       " '_i68',\n",
       " '_i69',\n",
       " '_i7',\n",
       " '_i70',\n",
       " '_i71',\n",
       " '_i72',\n",
       " '_i73',\n",
       " '_i74',\n",
       " '_i75',\n",
       " '_i76',\n",
       " '_i77',\n",
       " '_i78',\n",
       " '_i79',\n",
       " '_i8',\n",
       " '_i80',\n",
       " '_i81',\n",
       " '_i82',\n",
       " '_i83',\n",
       " '_i84',\n",
       " '_i85',\n",
       " '_i86',\n",
       " '_i87',\n",
       " '_i88',\n",
       " '_i89',\n",
       " '_i9',\n",
       " '_i90',\n",
       " '_i91',\n",
       " '_i92',\n",
       " '_i93',\n",
       " '_i94',\n",
       " '_i95',\n",
       " '_i96',\n",
       " '_i97',\n",
       " '_i98',\n",
       " '_i99',\n",
       " '_ih',\n",
       " '_ii',\n",
       " '_iii',\n",
       " '_oh',\n",
       " 'a',\n",
       " 'd',\n",
       " 'driver',\n",
       " 'exit',\n",
       " 'get_ipython',\n",
       " 'pd',\n",
       " 'private_tree',\n",
       " 'quit',\n",
       " 'time',\n",
       " 'tree_kr',\n",
       " 'wait',\n",
       " 'webdriver',\n",
       " 'x']"
      ]
     },
     "execution_count": 153,
     "metadata": {},
     "output_type": "execute_result"
    }
   ],
   "source": [
    "dir"
   ]
  },
  {
   "cell_type": "code",
   "execution_count": 143,
   "metadata": {
    "scrolled": true
   },
   "outputs": [
    {
     "ename": "KeyboardInterrupt",
     "evalue": "",
     "output_type": "error",
     "traceback": [
      "\u001b[1;31m---------------------------------------------------------------------------\u001b[0m",
      "\u001b[1;31mKeyboardInterrupt\u001b[0m                         Traceback (most recent call last)",
      "\u001b[1;32m<ipython-input-143-cd5558c55725>\u001b[0m in \u001b[0;36m<module>\u001b[1;34m\u001b[0m\n\u001b[0;32m      1\u001b[0m \u001b[0ma\u001b[0m \u001b[1;33m=\u001b[0m \u001b[0mlist\u001b[0m\u001b[1;33m(\u001b[0m\u001b[1;33m)\u001b[0m\u001b[1;33m\u001b[0m\u001b[1;33m\u001b[0m\u001b[0m\n\u001b[0;32m      2\u001b[0m \u001b[1;32mfor\u001b[0m \u001b[0mx\u001b[0m \u001b[1;32min\u001b[0m \u001b[0mprivate_tree\u001b[0m\u001b[1;33m.\u001b[0m\u001b[0mWDPT_NM\u001b[0m\u001b[1;33m:\u001b[0m\u001b[1;33m\u001b[0m\u001b[1;33m\u001b[0m\u001b[0m\n\u001b[1;32m----> 3\u001b[1;33m     \u001b[0ma\u001b[0m\u001b[1;33m.\u001b[0m\u001b[0mappend\u001b[0m\u001b[1;33m(\u001b[0m\u001b[0mset\u001b[0m\u001b[1;33m(\u001b[0m\u001b[0mtree_kr\u001b[0m\u001b[1;33m[\u001b[0m\u001b[0mtree_kr\u001b[0m\u001b[1;33m[\u001b[0m\u001b[1;34m\"이름\"\u001b[0m\u001b[1;33m]\u001b[0m \u001b[1;33m==\u001b[0m \u001b[0mx\u001b[0m\u001b[1;33m]\u001b[0m\u001b[1;33m[\u001b[0m\u001b[1;34m\"과명\"\u001b[0m\u001b[1;33m]\u001b[0m\u001b[1;33m.\u001b[0m\u001b[0mvalues\u001b[0m\u001b[1;33m)\u001b[0m\u001b[1;33m)\u001b[0m\u001b[1;33m\u001b[0m\u001b[1;33m\u001b[0m\u001b[0m\n\u001b[0m\u001b[0;32m      4\u001b[0m \u001b[1;33m\u001b[0m\u001b[0m\n",
      "\u001b[1;32mC:\\ProgramData\\Anaconda3\\lib\\site-packages\\pandas\\core\\frame.py\u001b[0m in \u001b[0;36m__getitem__\u001b[1;34m(self, key)\u001b[0m\n\u001b[0;32m   2916\u001b[0m         \u001b[1;31m# Do we have a (boolean) 1d indexer?\u001b[0m\u001b[1;33m\u001b[0m\u001b[1;33m\u001b[0m\u001b[1;33m\u001b[0m\u001b[0m\n\u001b[0;32m   2917\u001b[0m         \u001b[1;32mif\u001b[0m \u001b[0mcom\u001b[0m\u001b[1;33m.\u001b[0m\u001b[0mis_bool_indexer\u001b[0m\u001b[1;33m(\u001b[0m\u001b[0mkey\u001b[0m\u001b[1;33m)\u001b[0m\u001b[1;33m:\u001b[0m\u001b[1;33m\u001b[0m\u001b[1;33m\u001b[0m\u001b[0m\n\u001b[1;32m-> 2918\u001b[1;33m             \u001b[1;32mreturn\u001b[0m \u001b[0mself\u001b[0m\u001b[1;33m.\u001b[0m\u001b[0m_getitem_bool_array\u001b[0m\u001b[1;33m(\u001b[0m\u001b[0mkey\u001b[0m\u001b[1;33m)\u001b[0m\u001b[1;33m\u001b[0m\u001b[1;33m\u001b[0m\u001b[0m\n\u001b[0m\u001b[0;32m   2919\u001b[0m \u001b[1;33m\u001b[0m\u001b[0m\n\u001b[0;32m   2920\u001b[0m         \u001b[1;31m# We are left with two options: a single key, and a collection of keys,\u001b[0m\u001b[1;33m\u001b[0m\u001b[1;33m\u001b[0m\u001b[1;33m\u001b[0m\u001b[0m\n",
      "\u001b[1;32mC:\\ProgramData\\Anaconda3\\lib\\site-packages\\pandas\\core\\frame.py\u001b[0m in \u001b[0;36m_getitem_bool_array\u001b[1;34m(self, key)\u001b[0m\n\u001b[0;32m   2966\u001b[0m         \u001b[1;31m# be reindexed to match DataFrame rows\u001b[0m\u001b[1;33m\u001b[0m\u001b[1;33m\u001b[0m\u001b[1;33m\u001b[0m\u001b[0m\n\u001b[0;32m   2967\u001b[0m         \u001b[0mkey\u001b[0m \u001b[1;33m=\u001b[0m \u001b[0mcheck_bool_indexer\u001b[0m\u001b[1;33m(\u001b[0m\u001b[0mself\u001b[0m\u001b[1;33m.\u001b[0m\u001b[0mindex\u001b[0m\u001b[1;33m,\u001b[0m \u001b[0mkey\u001b[0m\u001b[1;33m)\u001b[0m\u001b[1;33m\u001b[0m\u001b[1;33m\u001b[0m\u001b[0m\n\u001b[1;32m-> 2968\u001b[1;33m         \u001b[0mindexer\u001b[0m \u001b[1;33m=\u001b[0m \u001b[0mkey\u001b[0m\u001b[1;33m.\u001b[0m\u001b[0mnonzero\u001b[0m\u001b[1;33m(\u001b[0m\u001b[1;33m)\u001b[0m\u001b[1;33m[\u001b[0m\u001b[1;36m0\u001b[0m\u001b[1;33m]\u001b[0m\u001b[1;33m\u001b[0m\u001b[1;33m\u001b[0m\u001b[0m\n\u001b[0m\u001b[0;32m   2969\u001b[0m         \u001b[1;32mreturn\u001b[0m \u001b[0mself\u001b[0m\u001b[1;33m.\u001b[0m\u001b[0m_take\u001b[0m\u001b[1;33m(\u001b[0m\u001b[0mindexer\u001b[0m\u001b[1;33m,\u001b[0m \u001b[0maxis\u001b[0m\u001b[1;33m=\u001b[0m\u001b[1;36m0\u001b[0m\u001b[1;33m)\u001b[0m\u001b[1;33m\u001b[0m\u001b[1;33m\u001b[0m\u001b[0m\n\u001b[0;32m   2970\u001b[0m \u001b[1;33m\u001b[0m\u001b[0m\n",
      "\u001b[1;31mKeyboardInterrupt\u001b[0m: "
     ]
    }
   ],
   "source": [
    "a = list()\n",
    "for x in private_tree.WDPT_NM:\n",
    "    a.append(set(tree_kr[tree_kr[\"이름\"] == x][\"과명\"].values))\n",
    "    "
   ]
  },
  {
   "cell_type": "code",
   "execution_count": 63,
   "metadata": {},
   "outputs": [],
   "source": [
    "private_tree.fillna(0, inplace=True)"
   ]
  },
  {
   "cell_type": "code",
   "execution_count": 28,
   "metadata": {},
   "outputs": [],
   "source": [
    "import sqlite3\n",
    "con = sqlite3.connect(\"private_tree.db\")\n",
    "cur = con.cursor()"
   ]
  },
  {
   "cell_type": "code",
   "execution_count": 78,
   "metadata": {
    "scrolled": true
   },
   "outputs": [
    {
     "data": {
      "text/plain": [
       "<sqlite3.Cursor at 0x228de5cff10>"
      ]
     },
     "execution_count": 78,
     "metadata": {},
     "output_type": "execute_result"
    }
   ],
   "source": [
    "cur.executescript(\"\"\"\n",
    "    DROP TABLE if EXISTS table1;\n",
    "    CREATE TABLE table1(\n",
    "        id INTEGER PRIMARY KEY AUTOINCREMENT NOT NULL,\n",
    "        GU_NM TEXT NOT NULL,\n",
    "        X FLOAT NOT NULL,\n",
    "        Y FLOAT NOT NULL,\n",
    "        WDPT_NM TEXT NOT NULL,\n",
    "        THT_HG FLOAT NOT NULL,\n",
    "        ITM_ERY FLOAT NOT NULL,\n",
    "        VTN_ERY FLOAT NOT NULL,\n",
    "        BHT_DM FLOAT NOT NULL,\n",
    "        WTRTB_BT FLOAT NOT NULL,\n",
    "        ITM_TYPE FLOAT NOT NULL\n",
    "    );\n",
    "\"\"\")"
   ]
  },
  {
   "cell_type": "code",
   "execution_count": 79,
   "metadata": {},
   "outputs": [
    {
     "ename": "KeyboardInterrupt",
     "evalue": "",
     "output_type": "error",
     "traceback": [
      "\u001b[1;31m---------------------------------------------------------------------------\u001b[0m",
      "\u001b[1;31mKeyboardInterrupt\u001b[0m                         Traceback (most recent call last)",
      "\u001b[1;32m<ipython-input-79-70253a6a3807>\u001b[0m in \u001b[0;36m<module>\u001b[1;34m\u001b[0m\n\u001b[0;32m      1\u001b[0m \u001b[1;32mfor\u001b[0m \u001b[0mx\u001b[0m \u001b[1;32min\u001b[0m \u001b[0mrange\u001b[0m\u001b[1;33m(\u001b[0m\u001b[0mlen\u001b[0m\u001b[1;33m(\u001b[0m\u001b[0mprivate_tree\u001b[0m\u001b[1;33m)\u001b[0m\u001b[1;33m)\u001b[0m\u001b[1;33m:\u001b[0m\u001b[1;33m\u001b[0m\u001b[1;33m\u001b[0m\u001b[0m\n\u001b[0;32m      2\u001b[0m     cur.execute('INSERT INTO table1(id, GU_NM, X, Y, WDPT_NM, THT_HG, ITM_ERY, VTN_ERY, BHT_DM, WTRTB_BT, ITM_TYPE) VALUES (?,?,?,?,?,?,?,?,?,?,?)',\\\n\u001b[1;32m----> 3\u001b[1;33m             [x, private_tree.iloc[x].GU_NM, private_tree.iloc[x].X, private_tree.iloc[x].Y, private_tree.iloc[x].WDPT_NM, private_tree.iloc[x].THT_HG, private_tree.iloc[x].ITM_ERY, private_tree.iloc[x].VTN_ERY, private_tree.iloc[x].BHT_DM, private_tree.iloc[x].WTRTB_BT, private_tree.iloc[x].ITM_TYPE] )   \n\u001b[0m",
      "\u001b[1;31mKeyboardInterrupt\u001b[0m: "
     ]
    }
   ],
   "source": [
    "for x in range(len(private_tree)):\n",
    "    cur.execute('INSERT INTO table1(id, GU_NM, X, Y, WDPT_NM, THT_HG, ITM_ERY, VTN_ERY, BHT_DM, WTRTB_BT, ITM_TYPE) VALUES (?,?,?,?,?,?,?,?,?,?,?)',\\\n",
    "            [x, private_tree.iloc[x].GU_NM, private_tree.iloc[x].X, private_tree.iloc[x].Y, private_tree.iloc[x].WDPT_NM, private_tree.iloc[x].THT_HG, private_tree.iloc[x].ITM_ERY, private_tree.iloc[x].VTN_ERY, private_tree.iloc[x].BHT_DM, private_tree.iloc[x].WTRTB_BT, private_tree.iloc[x].ITM_TYPE] )   "
   ]
  },
  {
   "cell_type": "code",
   "execution_count": 80,
   "metadata": {},
   "outputs": [],
   "source": [
    "con.commit()"
   ]
  }
 ],
 "metadata": {
  "kernelspec": {
   "display_name": "Python 3",
   "language": "python",
   "name": "python3"
  },
  "language_info": {
   "codemirror_mode": {
    "name": "ipython",
    "version": 3
   },
   "file_extension": ".py",
   "mimetype": "text/x-python",
   "name": "python",
   "nbconvert_exporter": "python",
   "pygments_lexer": "ipython3",
   "version": "3.7.3"
  }
 },
 "nbformat": 4,
 "nbformat_minor": 2
}
